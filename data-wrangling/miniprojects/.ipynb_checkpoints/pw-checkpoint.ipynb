{
 "cells": [
  {
   "cell_type": "code",
   "execution_count": 2,
   "metadata": {
    "init_cell": true
   },
   "outputs": [],
   "source": [
    "%logstop\n",
    "%logstart -rtq ~/.logs/pw.py append\n",
    "%matplotlib inline\n",
    "import matplotlib\n",
    "import seaborn as sns\n",
    "sns.set()\n",
    "matplotlib.rcParams['figure.dpi'] = 144"
   ]
  },
  {
   "cell_type": "code",
   "execution_count": 3,
   "metadata": {},
   "outputs": [],
   "source": [
    "from static_grader import grader"
   ]
  },
  {
   "cell_type": "markdown",
   "metadata": {},
   "source": [
    "# PW Miniproject\n",
    "## Introduction\n",
    "\n",
    "The objective of this miniproject is to exercise your ability to use basic Python data structures, define functions, and control program flow. We will be using these concepts to perform some fundamental data wrangling tasks such as joining data sets together, splitting data into groups, and aggregating data into summary statistics.\n",
    "**Please do not use `pandas` or `numpy` to answer these questions.**\n",
    "\n",
    "We will be working with medical data from the British NHS on prescription drugs. Since this is real data, it contains many ambiguities that we will need to confront in our analysis. This is commonplace in data science, and is one of the lessons you will learn in this miniproject."
   ]
  },
  {
   "cell_type": "markdown",
   "metadata": {},
   "source": [
    "## Downloading the data\n",
    "\n",
    "We first need to download the data we'll be using from Amazon S3:"
   ]
  },
  {
   "cell_type": "code",
   "execution_count": 4,
   "metadata": {},
   "outputs": [
    {
     "name": "stderr",
     "output_type": "stream",
     "text": [
      "--2020-07-16 09:54:39--  http://dataincubator-wqu.s3.amazonaws.com/pwdata/201701scripts_sample.json.gz\n",
      "Resolving dataincubator-wqu.s3.amazonaws.com (dataincubator-wqu.s3.amazonaws.com)... 54.231.82.106\n",
      "Connecting to dataincubator-wqu.s3.amazonaws.com (dataincubator-wqu.s3.amazonaws.com)|54.231.82.106|:80... connected.\n",
      "HTTP request sent, awaiting response... 200 OK\n",
      "Length: 10367709 (9.9M) [application/json]\n",
      "Saving to: ‘./pw-data/201701scripts_sample.json.gz’\n",
      "\n",
      "     0K .......... .......... .......... .......... ..........  0% 31.2M 0s\n",
      "    50K .......... .......... .......... .......... ..........  0% 43.5M 0s\n",
      "   100K .......... .......... .......... .......... ..........  1% 31.1M 0s\n",
      "   150K .......... .......... .......... .......... ..........  1% 47.3M 0s\n",
      "   200K .......... .......... .......... .......... ..........  2% 44.9M 0s\n",
      "   250K .......... .......... .......... .......... ..........  2% 47.3M 0s\n",
      "   300K .......... .......... .......... .......... ..........  3% 50.0M 0s\n",
      "   350K .......... .......... .......... .......... ..........  3% 47.0M 0s\n",
      "   400K .......... .......... .......... .......... ..........  4% 40.7M 0s\n",
      "   450K .......... .......... .......... .......... ..........  4% 65.2M 0s\n",
      "   500K .......... .......... .......... .......... ..........  5%  185M 0s\n",
      "   550K .......... .......... .......... .......... ..........  5% 67.6M 0s\n",
      "   600K .......... .......... .......... .......... ..........  6% 50.4M 0s\n",
      "   650K .......... .......... .......... .......... ..........  6% 69.0M 0s\n",
      "   700K .......... .......... .......... .......... ..........  7% 89.9M 0s\n",
      "   750K .......... .......... .......... .......... ..........  7% 80.4M 0s\n",
      "   800K .......... .......... .......... .......... ..........  8% 57.1M 0s\n",
      "   850K .......... .......... .......... .......... ..........  8%  262M 0s\n",
      "   900K .......... .......... .......... .......... ..........  9% 42.2M 0s\n",
      "   950K .......... .......... .......... .......... ..........  9% 90.6M 0s\n",
      "  1000K .......... .......... .......... .......... .......... 10%  320M 0s\n",
      "  1050K .......... .......... .......... .......... .......... 10% 45.9M 0s\n",
      "  1100K .......... .......... .......... .......... .......... 11% 78.6M 0s\n",
      "  1150K .......... .......... .......... .......... .......... 11%  280M 0s\n",
      "  1200K .......... .......... .......... .......... .......... 12% 55.0M 0s\n",
      "  1250K .......... .......... .......... .......... .......... 12% 47.3M 0s\n",
      "  1300K .......... .......... .......... .......... .......... 13% 50.9M 0s\n",
      "  1350K .......... .......... .......... .......... .......... 13%  195M 0s\n",
      "  1400K .......... .......... .......... .......... .......... 14%  251M 0s\n",
      "  1450K .......... .......... .......... .......... .......... 14%  264M 0s\n",
      "  1500K .......... .......... .......... .......... .......... 15%  245M 0s\n",
      "  1550K .......... .......... .......... .......... .......... 15%  384M 0s\n",
      "  1600K .......... .......... .......... .......... .......... 16% 35.5M 0s\n",
      "  1650K .......... .......... .......... .......... .......... 16% 60.7M 0s\n",
      "  1700K .......... .......... .......... .......... .......... 17% 50.1M 0s\n",
      "  1750K .......... .......... .......... .......... .......... 17% 51.9M 0s\n",
      "  1800K .......... .......... .......... .......... .......... 18% 70.2M 0s\n",
      "  1850K .......... .......... .......... .......... .......... 18%  287M 0s\n",
      "  1900K .......... .......... .......... .......... .......... 19%  375M 0s\n",
      "  1950K .......... .......... .......... .......... .......... 19%  182M 0s\n",
      "  2000K .......... .......... .......... .......... .......... 20% 38.9M 0s\n",
      "  2050K .......... .......... .......... .......... .......... 20% 49.3M 0s\n",
      "  2100K .......... .......... .......... .......... .......... 21% 43.3M 0s\n",
      "  2150K .......... .......... .......... .......... .......... 21% 38.5M 0s\n",
      "  2200K .......... .......... .......... .......... .......... 22% 48.0M 0s\n",
      "  2250K .......... .......... .......... .......... .......... 22%  201M 0s\n",
      "  2300K .......... .......... .......... .......... .......... 23%  201M 0s\n",
      "  2350K .......... .......... .......... .......... .......... 23%  222M 0s\n",
      "  2400K .......... .......... .......... .......... .......... 24%  153M 0s\n",
      "  2450K .......... .......... .......... .......... .......... 24%  211M 0s\n",
      "  2500K .......... .......... .......... .......... .......... 25%  185M 0s\n",
      "  2550K .......... .......... .......... .......... .......... 25%  227M 0s\n",
      "  2600K .......... .......... .......... .......... .......... 26% 39.0M 0s\n",
      "  2650K .......... .......... .......... .......... .......... 26% 29.4M 0s\n",
      "  2700K .......... .......... .......... .......... .......... 27% 38.9M 0s\n",
      "  2750K .......... .......... .......... .......... .......... 27% 52.8M 0s\n",
      "  2800K .......... .......... .......... .......... .......... 28% 58.7M 0s\n",
      "  2850K .......... .......... .......... .......... .......... 28% 53.7M 0s\n",
      "  2900K .......... .......... .......... .......... .......... 29% 59.6M 0s\n",
      "  2950K .......... .......... .......... .......... .......... 29% 71.6M 0s\n",
      "  3000K .......... .......... .......... .......... .......... 30% 61.4M 0s\n",
      "  3050K .......... .......... .......... .......... .......... 30% 95.3M 0s\n",
      "  3100K .......... .......... .......... .......... .......... 31%  298M 0s\n",
      "  3150K .......... .......... .......... .......... .......... 31%  229M 0s\n",
      "  3200K .......... .......... .......... .......... .......... 32%  286M 0s\n",
      "  3250K .......... .......... .......... .......... .......... 32%  171M 0s\n",
      "  3300K .......... .......... .......... .......... .......... 33%  194M 0s\n",
      "  3350K .......... .......... .......... .......... .......... 33% 47.9M 0s\n",
      "  3400K .......... .......... .......... .......... .......... 34% 32.7M 0s\n",
      "  3450K .......... .......... .......... .......... .......... 34% 66.3M 0s\n",
      "  3500K .......... .......... .......... .......... .......... 35% 69.2M 0s\n",
      "  3550K .......... .......... .......... .......... .......... 35% 57.1M 0s\n",
      "  3600K .......... .......... .......... .......... .......... 36% 55.7M 0s\n",
      "  3650K .......... .......... .......... .......... .......... 36%  114M 0s\n",
      "  3700K .......... .......... .......... .......... .......... 37%  330M 0s\n",
      "  3750K .......... .......... .......... .......... .......... 37%  322M 0s\n",
      "  3800K .......... .......... .......... .......... .......... 38%  311M 0s\n",
      "  3850K .......... .......... .......... .......... .......... 38%  353M 0s\n",
      "  3900K .......... .......... .......... .......... .......... 39%  238M 0s\n",
      "  3950K .......... .......... .......... .......... .......... 39% 97.5M 0s\n",
      "  4000K .......... .......... .......... .......... .......... 40% 33.2M 0s\n",
      "  4050K .......... .......... .......... .......... .......... 40% 42.3M 0s\n",
      "  4100K .......... .......... .......... .......... .......... 40% 49.0M 0s\n",
      "  4150K .......... .......... .......... .......... .......... 41% 67.8M 0s\n",
      "  4200K .......... .......... .......... .......... .......... 41% 60.8M 0s\n",
      "  4250K .......... .......... .......... .......... .......... 42%  318M 0s\n",
      "  4300K .......... .......... .......... .......... .......... 42%  335M 0s\n",
      "  4350K .......... .......... .......... .......... .......... 43%  208M 0s\n",
      "  4400K .......... .......... .......... .......... .......... 43%  248M 0s\n",
      "  4450K .......... .......... .......... .......... .......... 44% 41.7M 0s\n",
      "  4500K .......... .......... .......... .......... .......... 44% 46.3M 0s\n",
      "  4550K .......... .......... .......... .......... .......... 45% 71.3M 0s\n",
      "  4600K .......... .......... .......... .......... .......... 45% 60.8M 0s\n",
      "  4650K .......... .......... .......... .......... .......... 46% 56.9M 0s\n",
      "  4700K .......... .......... .......... .......... .......... 46%  270M 0s\n",
      "  4750K .......... .......... .......... .......... .......... 47%  244M 0s\n",
      "  4800K .......... .......... .......... .......... .......... 47%  241M 0s\n",
      "  4850K .......... .......... .......... .......... .......... 48%  301M 0s\n",
      "  4900K .......... .......... .......... .......... .......... 48%  270M 0s\n",
      "  4950K .......... .......... .......... .......... .......... 49%  345M 0s\n",
      "  5000K .......... .......... .......... .......... .......... 49%  244M 0s\n",
      "  5050K .......... .......... .......... .......... .......... 50%  201M 0s\n",
      "  5100K .......... .......... .......... .......... .......... 50%  367M 0s\n",
      "  5150K .......... .......... .......... .......... .......... 51%  220M 0s\n",
      "  5200K .......... .......... .......... .......... .......... 51%  313M 0s\n",
      "  5250K .......... .......... .......... .......... .......... 52%  230M 0s\n",
      "  5300K .......... .......... .......... .......... .......... 52%  356M 0s\n",
      "  5350K .......... .......... .......... .......... .......... 53%  342M 0s\n",
      "  5400K .......... .......... .......... .......... .......... 53%  204M 0s\n",
      "  5450K .......... .......... .......... .......... .......... 54%  211M 0s\n",
      "  5500K .......... .......... .......... .......... .......... 54%  360M 0s\n",
      "  5550K .......... .......... .......... .......... .......... 55%  348M 0s\n",
      "  5600K .......... .......... .......... .......... .......... 55% 72.1M 0s\n",
      "  5650K .......... .......... .......... .......... .......... 56% 44.7M 0s\n",
      "  5700K .......... .......... .......... .......... .......... 56% 39.6M 0s\n",
      "  5750K .......... .......... .......... .......... .......... 57% 46.6M 0s\n",
      "  5800K .......... .......... .......... .......... .......... 57% 63.4M 0s\n",
      "  5850K .......... .......... .......... .......... .......... 58% 72.8M 0s\n",
      "  5900K .......... .......... .......... .......... .......... 58% 72.1M 0s\n",
      "  5950K .......... .......... .......... .......... .......... 59% 72.5M 0s\n",
      "  6000K .......... .......... .......... .......... .......... 59% 65.3M 0s\n",
      "  6050K .......... .......... .......... .......... .......... 60% 71.0M 0s\n",
      "  6100K .......... .......... .......... .......... .......... 60% 74.6M 0s\n",
      "  6150K .......... .......... .......... .......... .......... 61%  357M 0s\n",
      "  6200K .......... .......... .......... .......... .......... 61%  320M 0s\n",
      "  6250K .......... .......... .......... .......... .......... 62%  339M 0s\n",
      "  6300K .......... .......... .......... .......... .......... 62%  353M 0s\n",
      "  6350K .......... .......... .......... .......... .......... 63%  374M 0s\n",
      "  6400K .......... .......... .......... .......... .......... 63%  315M 0s\n",
      "  6450K .......... .......... .......... .......... .......... 64% 1.04M 0s\n",
      "  6500K .......... .......... .......... .......... .......... 64% 30.4M 0s\n",
      "  6550K .......... .......... .......... .......... .......... 65% 32.5M 0s\n",
      "  6600K .......... .......... .......... .......... .......... 65% 49.1M 0s\n",
      "  6650K .......... .......... .......... .......... .......... 66%  169M 0s\n",
      "  6700K .......... .......... .......... .......... .......... 66%  174M 0s\n",
      "  6750K .......... .......... .......... .......... .......... 67%  178M 0s\n",
      "  6800K .......... .......... .......... .......... .......... 67% 31.9M 0s\n",
      "  6850K .......... .......... .......... .......... .......... 68% 32.8M 0s\n",
      "  6900K .......... .......... .......... .......... .......... 68% 32.7M 0s\n",
      "  6950K .......... .......... .......... .......... .......... 69% 37.3M 0s\n",
      "  7000K .......... .......... .......... .......... .......... 69%  102M 0s\n",
      "  7050K .......... .......... .......... .......... .......... 70%  220M 0s\n",
      "  7100K .......... .......... .......... .......... .......... 70%  153M 0s\n",
      "  7150K .......... .......... .......... .......... .......... 71%  174M 0s\n",
      "  7200K .......... .......... .......... .......... .......... 71%  215M 0s\n",
      "  7250K .......... .......... .......... .......... .......... 72%  366M 0s\n",
      "  7300K .......... .......... .......... .......... .......... 72%  286M 0s\n",
      "  7350K .......... .......... .......... .......... .......... 73%  230M 0s\n",
      "  7400K .......... .......... .......... .......... .......... 73%  181M 0s\n",
      "  7450K .......... .......... .......... .......... .......... 74%  365M 0s\n",
      "  7500K .......... .......... .......... .......... .......... 74%  307M 0s\n",
      "  7550K .......... .......... .......... .......... .......... 75%  361M 0s\n",
      "  7600K .......... .......... .......... .......... .......... 75%  312M 0s\n",
      "  7650K .......... .......... .......... .......... .......... 76%  355M 0s\n",
      "  7700K .......... .......... .......... .......... .......... 76%  306M 0s\n",
      "  7750K .......... .......... .......... .......... .......... 77%  370M 0s\n",
      "  7800K .......... .......... .......... .......... .......... 77%  350M 0s\n",
      "  7850K .......... .......... .......... .......... .......... 78%  355M 0s\n",
      "  7900K .......... .......... .......... .......... .......... 78%  321M 0s\n",
      "  7950K .......... .......... .......... .......... .......... 79%  373M 0s\n",
      "  8000K .......... .......... .......... .......... .......... 79%  304M 0s\n",
      "  8050K .......... .......... .......... .......... .......... 80%  336M 0s\n",
      "  8100K .......... .......... .......... .......... .......... 80%  338M 0s\n",
      "  8150K .......... .......... .......... .......... .......... 80%  727K 0s\n",
      "  8200K .......... .......... .......... .......... .......... 81% 71.7M 0s\n",
      "  8250K .......... .......... .......... .......... .......... 81% 75.2M 0s\n",
      "  8300K .......... .......... .......... .......... .......... 82% 30.4M 0s\n",
      "  8350K .......... .......... .......... .......... .......... 82% 37.9M 0s\n",
      "  8400K .......... .......... .......... .......... .......... 83% 49.3M 0s\n",
      "  8450K .......... .......... .......... .......... .......... 83% 64.0M 0s\n",
      "  8500K .......... .......... .......... .......... .......... 84% 44.7M 0s\n",
      "  8550K .......... .......... .......... .......... .......... 84%  111M 0s\n",
      "  8600K .......... .......... .......... .......... .......... 85%  187M 0s\n",
      "  8650K .......... .......... .......... .......... .......... 85%  272M 0s\n",
      "  8700K .......... .......... .......... .......... .......... 86%  177M 0s\n",
      "  8750K .......... .......... .......... .......... .......... 86%  211M 0s\n",
      "  8800K .......... .......... .......... .......... .......... 87%  227M 0s\n",
      "  8850K .......... .......... .......... .......... .......... 87%  201M 0s\n",
      "  8900K .......... .......... .......... .......... .......... 88%  209M 0s\n",
      "  8950K .......... .......... .......... .......... .......... 88%  231M 0s\n",
      "  9000K .......... .......... .......... .......... .......... 89%  232M 0s\n",
      "  9050K .......... .......... .......... .......... .......... 89%  216M 0s\n",
      "  9100K .......... .......... .......... .......... .......... 90%  193M 0s\n",
      "  9150K .......... .......... .......... .......... .......... 90% 37.2M 0s\n",
      "  9200K .......... .......... .......... .......... .......... 91% 36.9M 0s\n",
      "  9250K .......... .......... .......... .......... .......... 91% 35.4M 0s\n",
      "  9300K .......... .......... .......... .......... .......... 92% 44.1M 0s\n",
      "  9350K .......... .......... .......... .......... .......... 92% 37.2M 0s\n",
      "  9400K .......... .......... .......... .......... .......... 93% 49.5M 0s\n",
      "  9450K .......... .......... .......... .......... .......... 93% 64.7M 0s\n",
      "  9500K .......... .......... .......... .......... .......... 94% 72.6M 0s\n",
      "  9550K .......... .......... .......... .......... .......... 94% 60.1M 0s\n",
      "  9600K .......... .......... .......... .......... .......... 95% 67.8M 0s\n",
      "  9650K .......... .......... .......... .......... .......... 95% 82.7M 0s\n",
      "  9700K .......... .......... .......... .......... .......... 96%  314M 0s\n",
      "  9750K .......... .......... .......... .......... .......... 96%  284M 0s\n",
      "  9800K .......... .......... .......... .......... .......... 97%  361M 0s\n",
      "  9850K .......... .......... .......... .......... .......... 97%  294M 0s\n",
      "  9900K .......... .......... .......... .......... .......... 98%  345M 0s\n",
      "  9950K .......... .......... .......... .......... .......... 98%  344M 0s\n",
      " 10000K .......... .......... .......... .......... .......... 99%  345M 0s\n",
      " 10050K .......... .......... .......... .......... .......... 99%  299M 0s\n",
      " 10100K .......... .......... ....                            100%  340M=0.2s\n",
      "\n",
      "2020-07-16 09:54:39 (42.7 MB/s) - ‘./pw-data/201701scripts_sample.json.gz’ saved [10367709/10367709]\n",
      "\n",
      "--2020-07-16 09:54:39--  http://dataincubator-wqu.s3.amazonaws.com/pwdata/practices.json.gz\n",
      "Resolving dataincubator-wqu.s3.amazonaws.com (dataincubator-wqu.s3.amazonaws.com)... 52.216.99.27\n",
      "Connecting to dataincubator-wqu.s3.amazonaws.com (dataincubator-wqu.s3.amazonaws.com)|52.216.99.27|:80... connected.\n",
      "HTTP request sent, awaiting response... 200 OK\n",
      "Length: 402461 (393K) [application/json]\n",
      "Saving to: ‘./pw-data/practices.json.gz’\n",
      "\n",
      "     0K .......... .......... .......... .......... .......... 12% 35.3M 0s\n",
      "    50K .......... .......... .......... .......... .......... 25% 36.6M 0s\n",
      "   100K .......... .......... .......... .......... .......... 38% 55.5M 0s\n",
      "   150K .......... .......... .......... .......... .......... 50% 25.7M 0s\n",
      "   200K .......... .......... .......... .......... .......... 63% 23.4M 0s\n",
      "   250K .......... .......... .......... .......... .......... 76% 17.4M 0s\n",
      "   300K .......... .......... .......... .......... .......... 89% 26.9M 0s\n",
      "   350K .......... .......... .......... .......... ...       100% 43.7M=0.01s\n",
      "\n",
      "2020-07-16 09:54:39 (29.2 MB/s) - ‘./pw-data/practices.json.gz’ saved [402461/402461]\n",
      "\n"
     ]
    }
   ],
   "source": [
    "%%bash\n",
    "mkdir pw-data\n",
    "wget http://dataincubator-wqu.s3.amazonaws.com/pwdata/201701scripts_sample.json.gz -nc -P ./pw-data\n",
    "wget http://dataincubator-wqu.s3.amazonaws.com/pwdata/practices.json.gz -nc -P ./pw-data"
   ]
  },
  {
   "cell_type": "markdown",
   "metadata": {},
   "source": [
    "## Loading the data\n",
    "\n",
    "The first step of the project is to read in the data. We will discuss reading and writing various kinds of files later in the course, but the code below should get you started."
   ]
  },
  {
   "cell_type": "code",
   "execution_count": 5,
   "metadata": {},
   "outputs": [],
   "source": [
    "import gzip\n",
    "import simplejson as json"
   ]
  },
  {
   "cell_type": "code",
   "execution_count": 6,
   "metadata": {},
   "outputs": [],
   "source": [
    "with gzip.open('./pw-data/201701scripts_sample.json.gz', 'rb') as f:\n",
    "    scripts = json.load(f)\n",
    "\n",
    "with gzip.open('./pw-data/practices.json.gz', 'rb') as f:\n",
    "    practices = json.load(f)"
   ]
  },
  {
   "cell_type": "markdown",
   "metadata": {},
   "source": [
    "This data set comes from Britain's National Health Service. The `scripts` variable is a list of prescriptions issued by NHS doctors. Each prescription is represented by a dictionary with various data fields: `'practice'`, `'bnf_code'`, `'bnf_name'`, `'quantity'`, `'items'`, `'nic'`, and `'act_cost'`. "
   ]
  },
  {
   "cell_type": "code",
   "execution_count": 7,
   "metadata": {},
   "outputs": [
    {
     "data": {
      "text/plain": [
       "[{'bnf_code': '0101010G0AAABAB',\n",
       "  'items': 2,\n",
       "  'practice': 'N81013',\n",
       "  'bnf_name': 'Co-Magaldrox_Susp 195mg/220mg/5ml S/F',\n",
       "  'nic': 5.98,\n",
       "  'act_cost': 5.56,\n",
       "  'quantity': 1000},\n",
       " {'bnf_code': '0101021B0AAAHAH',\n",
       "  'items': 1,\n",
       "  'practice': 'N81013',\n",
       "  'bnf_name': 'Alginate_Raft-Forming Oral Susp S/F',\n",
       "  'nic': 1.95,\n",
       "  'act_cost': 1.82,\n",
       "  'quantity': 500}]"
      ]
     },
     "execution_count": 7,
     "metadata": {},
     "output_type": "execute_result"
    }
   ],
   "source": [
    "scripts[:2]"
   ]
  },
  {
   "cell_type": "markdown",
   "metadata": {},
   "source": [
    "A [glossary of terms](http://webarchive.nationalarchives.gov.uk/20180328130852tf_/http://content.digital.nhs.uk/media/10686/Download-glossary-of-terms-for-GP-prescribing---presentation-level/pdf/PLP_Presentation_Level_Glossary_April_2015.pdf/) and [FAQ](http://webarchive.nationalarchives.gov.uk/20180328130852tf_/http://content.digital.nhs.uk/media/10048/FAQs-Practice-Level-Prescribingpdf/pdf/PLP_FAQs_April_2015.pdf/) is available from the NHS regarding the data. Below we supply a data dictionary briefly describing what these fields mean.\n",
    "\n",
    "| Data field |Description|\n",
    "|:----------:|-----------|\n",
    "|`'practice'`|Code designating the medical practice issuing the prescription|\n",
    "|`'bnf_code'`|British National Formulary drug code|\n",
    "|`'bnf_name'`|British National Formulary drug name|\n",
    "|`'quantity'`|Number of capsules/quantity of liquid/grams of powder prescribed|\n",
    "| `'items'`  |Number of refills (e.g. if `'quantity'` is 30 capsules, 3 `'items'` means 3 bottles of 30 capsules)|\n",
    "|  `'nic'`   |Net ingredient cost|\n",
    "|`'act_cost'`|Total cost including containers, fees, and discounts|"
   ]
  },
  {
   "cell_type": "markdown",
   "metadata": {},
   "source": [
    "The `practices` variable is a list of member medical practices of the NHS. Each practice is represented by a dictionary containing identifying information for the medical practice. Most of the data fields are self-explanatory. Notice the values in the `'code'` field of `practices` match the values in the `'practice'` field of `scripts`."
   ]
  },
  {
   "cell_type": "code",
   "execution_count": 8,
   "metadata": {},
   "outputs": [
    {
     "data": {
      "text/plain": [
       "[{'code': 'A81001',\n",
       "  'name': 'THE DENSHAM SURGERY',\n",
       "  'addr_1': 'THE HEALTH CENTRE',\n",
       "  'addr_2': 'LAWSON STREET',\n",
       "  'borough': 'STOCKTON ON TEES',\n",
       "  'village': 'CLEVELAND',\n",
       "  'post_code': 'TS18 1HU'},\n",
       " {'code': 'A81002',\n",
       "  'name': 'QUEENS PARK MEDICAL CENTRE',\n",
       "  'addr_1': 'QUEENS PARK MEDICAL CTR',\n",
       "  'addr_2': 'FARRER STREET',\n",
       "  'borough': 'STOCKTON ON TEES',\n",
       "  'village': 'CLEVELAND',\n",
       "  'post_code': 'TS18 2AW'}]"
      ]
     },
     "execution_count": 8,
     "metadata": {},
     "output_type": "execute_result"
    }
   ],
   "source": [
    "practices[:2]"
   ]
  },
  {
   "cell_type": "markdown",
   "metadata": {},
   "source": [
    "In the following questions we will ask you to explore this data set. You may need to combine pieces of the data set together in order to answer some questions. Not every element of the data set will be used in answering the questions."
   ]
  },
  {
   "cell_type": "markdown",
   "metadata": {},
   "source": [
    "## Question 1: summary_statistics\n",
    "\n",
    "Our beneficiary data (`scripts`) contains quantitative data on the number of items dispensed (`'items'`), the total quantity of item dispensed (`'quantity'`), the net cost of the ingredients (`'nic'`), and the actual cost to the patient (`'act_cost'`). Whenever working with a new data set, it can be useful to calculate summary statistics to develop a feeling for the volume and character of the data. This makes it easier to spot trends and significant features during further stages of analysis.\n",
    "\n",
    "Calculate the sum, mean, standard deviation, and quartile statistics for each of these quantities. Format your results for each quantity as a list: `[sum, mean, standard deviation, 1st quartile, median, 3rd quartile]`. We'll create a `tuple` with these lists for each quantity as a final result."
   ]
  },
  {
   "cell_type": "code",
   "execution_count": 38,
   "metadata": {},
   "outputs": [],
   "source": [
    "def find_median(sorted_list):\n",
    "    indices = []\n",
    "\n",
    "    list_size = len(sorted_list)\n",
    "    median = 0\n",
    "\n",
    "    if list_size % 2 == 0:\n",
    "        indices.append(int(list_size / 2) - 1)  # -1 because index starts from 0\n",
    "        indices.append(int(list_size / 2))\n",
    "\n",
    "        median = (sorted_list[indices[0]] + sorted_list[indices[1]]) / 2\n",
    "    else:\n",
    "        indices.append(int(list_size / 2))\n",
    "\n",
    "        median = sorted_list[indices[0]]\n",
    "\n",
    "    return median, indices"
   ]
  },
  {
   "cell_type": "code",
   "execution_count": 46,
   "metadata": {},
   "outputs": [],
   "source": [
    "from math import sqrt\n",
    "\n",
    "def describe(key):\n",
    "    N = len(scripts)\n",
    "    key_items = [each_dict[key] for each_dict in scripts]\n",
    "    key_items.sort()\n",
    "    total = sum(key_items)\n",
    "    avg = total / N\n",
    "    s = sqrt(sum([(each_dict[key] - avg) ** 2 for each_dict in scripts]) / N)\n",
    "    \n",
    "    median, median_indices = find_median(key_items)\n",
    "    Q1, _ = find_median(key_items[:median_indices[0]])\n",
    "    Q2, _ = find_median(key_items[median_indices[-1] + 1:])\n",
    "    \n",
    "    q25 = Q1\n",
    "    med = median\n",
    "    q75 = Q2\n",
    "\n",
    "    return (total, avg, s, q25, med, q75)"
   ]
  },
  {
   "cell_type": "code",
   "execution_count": 47,
   "metadata": {},
   "outputs": [
    {
     "data": {
      "text/plain": [
       "(4410054, 11.522744731217633, 33.11216633980368, 1.0, 3.0, 8.0)"
      ]
     },
     "execution_count": 47,
     "metadata": {},
     "output_type": "execute_result"
    }
   ],
   "source": [
    "describe('items')"
   ]
  },
  {
   "cell_type": "code",
   "execution_count": 48,
   "metadata": {},
   "outputs": [],
   "source": [
    "summary = [('items', describe('items')),\n",
    "           ('quantity', describe('quantity')),\n",
    "           ('nic', describe('nic')),\n",
    "           ('act_cost', describe('act_cost'))]"
   ]
  },
  {
   "cell_type": "code",
   "execution_count": 49,
   "metadata": {},
   "outputs": [
    {
     "name": "stdout",
     "output_type": "stream",
     "text": [
      "==================\n",
      "Your score:  1.0\n",
      "==================\n"
     ]
    }
   ],
   "source": [
    "grader.score.pw__summary_statistics(summary)"
   ]
  },
  {
   "cell_type": "markdown",
   "metadata": {},
   "source": [
    "## Question 2: most_common_item\n",
    "\n",
    "Often we are not interested only in how the data is distributed in our entire data set, but within particular groups -- for example, how many items of each drug (i.e. `'bnf_name'`) were prescribed? Calculate the total items prescribed for each `'bnf_name'`. What is the most commonly prescribed `'bnf_name'` in our data?\n",
    "\n",
    "To calculate this, we first need to split our data set into groups corresponding with the different values of `'bnf_name'`. Then we can sum the number of items dispensed within in each group. Finally we can find the largest sum.\n",
    "\n",
    "We'll use `'bnf_name'` to construct our groups. You should have *5619* unique values for `'bnf_name'`."
   ]
  },
  {
   "cell_type": "code",
   "execution_count": 7,
   "metadata": {},
   "outputs": [],
   "source": [
    "bnf_names = list(set([each_dict[\"bnf_name\"] for each_dict in scripts]))\n",
    "assert(len(bnf_names) == 5619)"
   ]
  },
  {
   "cell_type": "markdown",
   "metadata": {},
   "source": [
    "We want to construct \"groups\" identified by `'bnf_name'`, where each group is a collection of prescriptions (i.e. dictionaries from `scripts`). We'll construct a dictionary called `groups`, using `bnf_names` as the keys. We'll represent a group with a `list`, since we can easily append new members to the group. To split our `scripts` into groups by `'bnf_name'`, we should iterate over `scripts`, appending prescription dictionaries to each group as we encounter them."
   ]
  },
  {
   "cell_type": "code",
   "execution_count": 8,
   "metadata": {},
   "outputs": [],
   "source": [
    "groups = {name: [] for name in bnf_names}\n",
    "for script in scripts:\n",
    "    # INSERT ...\n",
    "    if script[\"bnf_name\"] in groups:\n",
    "        groups[script[\"bnf_name\"]].append(script)"
   ]
  },
  {
   "cell_type": "code",
   "execution_count": null,
   "metadata": {},
   "outputs": [],
   "source": [
    "groups['Co-Magaldrox_Susp 195mg/220mg/5ml S/F']"
   ]
  },
  {
   "cell_type": "markdown",
   "metadata": {},
   "source": [
    "Now that we've constructed our groups we should sum up `'items'` in each group and find the `'bnf_name'` with the largest sum. The result, `max_item`, should have the form `[(bnf_name, item total)]`, e.g. `[('Foobar', 2000)]`."
   ]
  },
  {
   "cell_type": "code",
   "execution_count": null,
   "metadata": {},
   "outputs": [],
   "source": [
    "max_item = [(\"\", 0)]"
   ]
  },
  {
   "cell_type": "markdown",
   "metadata": {},
   "source": [
    "**TIP:** If you are getting an error from the grader below, please make sure your answer conforms to the correct format of `[(bnf_name, item total)]`."
   ]
  },
  {
   "cell_type": "code",
   "execution_count": null,
   "metadata": {},
   "outputs": [],
   "source": [
    "grader.score.pw__most_common_item(max_item)"
   ]
  },
  {
   "cell_type": "markdown",
   "metadata": {},
   "source": [
    "**Challenge:** Write a function that constructs groups as we did above. The function should accept a list of dictionaries (e.g. `scripts` or `practices`) and a tuple of fields to `groupby` (e.g. `('bnf_name')` or `('bnf_name', 'post_code')`) and returns a dictionary of groups. The following questions will require you to aggregate data in groups, so this could be a useful function for the rest of the miniproject."
   ]
  },
  {
   "cell_type": "code",
   "execution_count": null,
   "metadata": {},
   "outputs": [],
   "source": [
    "def group_by_field(data, fields):\n",
    "    groups = {}\n",
    "    return groups"
   ]
  },
  {
   "cell_type": "code",
   "execution_count": null,
   "metadata": {},
   "outputs": [],
   "source": [
    "groups = group_by_field(scripts, ('bnf_name',))\n",
    "test_max_item = ...\n",
    "\n",
    "assert test_max_item == max_item"
   ]
  },
  {
   "cell_type": "markdown",
   "metadata": {},
   "source": [
    "## Question 3: postal_totals\n",
    "\n",
    "Our data set is broken up among different files. This is typical for tabular data to reduce redundancy. Each table typically contains data about a particular type of event, processes, or physical object. Data on prescriptions and medical practices are in separate files in our case. If we want to find the total items prescribed in each postal code, we will have to _join_ our prescription data (`scripts`) to our clinic data (`practices`).\n",
    "\n",
    "Find the total items prescribed in each postal code, representing the results as a list of tuples `(post code, total items prescribed)`. Sort your results ascending alphabetically by post code and take only results from the first 100 post codes. Only include post codes if there is at least one prescription from a practice in that post code.\n",
    "\n",
    "**NOTE:** Some practices have multiple postal codes associated with them. Use the alphabetically first postal code."
   ]
  },
  {
   "cell_type": "markdown",
   "metadata": {},
   "source": [
    "We can join `scripts` and `practices` based on the fact that `'practice'` in `scripts` matches `'code'` in `practices`. However, we must first deal with the repeated values of `'code'` in `practices`. We want the alphabetically first postal codes."
   ]
  },
  {
   "cell_type": "code",
   "execution_count": null,
   "metadata": {},
   "outputs": [],
   "source": [
    "practice_postal = {}\n",
    "for practice in practices:\n",
    "    if practice['code'] in practice_postal:\n",
    "        practice_postal[practice['code']] = ...\n",
    "    else:\n",
    "        practice_postal[practice['code']] = ..."
   ]
  },
  {
   "cell_type": "markdown",
   "metadata": {},
   "source": [
    "**Challenge:** This is an aggregation of the practice data grouped by practice codes. Write an alternative implementation of the above cell using the `group_by_field` function you defined previously."
   ]
  },
  {
   "cell_type": "code",
   "execution_count": null,
   "metadata": {},
   "outputs": [],
   "source": [
    "assert practice_postal['K82019'] == 'HP21 8TR'"
   ]
  },
  {
   "cell_type": "markdown",
   "metadata": {},
   "source": [
    "Now we can join `practice_postal` to `scripts`."
   ]
  },
  {
   "cell_type": "code",
   "execution_count": null,
   "metadata": {},
   "outputs": [],
   "source": [
    "joined = scripts[:]\n",
    "for script in joined:\n",
    "    script['post_code'] = ..."
   ]
  },
  {
   "cell_type": "markdown",
   "metadata": {},
   "source": [
    "Finally we'll group the prescription dictionaries in `joined` by `'post_code'` and sum up the items prescribed in each group, as we did in the previous question."
   ]
  },
  {
   "cell_type": "code",
   "execution_count": null,
   "metadata": {},
   "outputs": [],
   "source": [
    "items_by_post = ..."
   ]
  },
  {
   "cell_type": "code",
   "execution_count": null,
   "metadata": {},
   "outputs": [],
   "source": [
    "postal_totals = [('B11 4BW', 20673)] * 100\n",
    "\n",
    "grader.score.pw__postal_totals(postal_totals)"
   ]
  },
  {
   "cell_type": "markdown",
   "metadata": {},
   "source": [
    "## Question 4: items_by_region\n",
    "\n",
    "Now we'll combine the techniques we've developed to answer a more complex question. Find the most commonly dispensed item in each postal code, representing the results as a list of tuples (`post_code`, `bnf_name`, amount dispensed as proportion of total). Sort your results ascending alphabetically by post code and take only results from the first 100 post codes.\n",
    "\n",
    "**NOTE:** We'll continue to use the `joined` variable we created before, where we've chosen the alphabetically first postal code for each practice. Additionally, some postal codes will have multiple `'bnf_name'` with the same number of items prescribed for the maximum. In this case, we'll take the alphabetically first `'bnf_name'`."
   ]
  },
  {
   "cell_type": "markdown",
   "metadata": {},
   "source": [
    "Now we need to calculate the total items of each `'bnf_name'` prescribed in each `'post_code'`. Use the techniques we developed in the previous questions to calculate these totals. You should have 141196 `('post_code', 'bnf_name')` groups."
   ]
  },
  {
   "cell_type": "code",
   "execution_count": null,
   "metadata": {},
   "outputs": [],
   "source": [
    "total_items_by_bnf_post = ...\n",
    "assert len(total_items_by_bnf_post) == 141196"
   ]
  },
  {
   "cell_type": "markdown",
   "metadata": {},
   "source": [
    "Let's use `total_items` to find the maximum item total for each postal code. To do this, we will want to regroup `total_items_by_bnf_post` by `'post_code'` only, not by `('post_code', 'bnf_name')`. First let's turn `total_items` into a list of dictionaries (similar to `scripts` or `practices`) and then group it by `'post_code'`. You should have 118 groups in the resulting `total_items_by_post` after grouping `total_items` by `'post_code'`."
   ]
  },
  {
   "cell_type": "code",
   "execution_count": null,
   "metadata": {},
   "outputs": [],
   "source": [
    "total_items = ...\n",
    "assert len(total_items_by_post) == 118"
   ]
  },
  {
   "cell_type": "markdown",
   "metadata": {},
   "source": [
    "Now we will aggregate the groups in `total_by_item_post` to create `max_item_by_post`. Some `'bnf_name'` have the same item total within a given postal code. Therefore, if more than one `'bnf_name'` has the maximum item total in a given postal code, we'll take the alphabetically first `'bnf_name'`. We can do this by [sorting](https://docs.python.org/2.7/howto/sorting.html) each group according to the item total and `'bnf_name'`."
   ]
  },
  {
   "cell_type": "code",
   "execution_count": null,
   "metadata": {},
   "outputs": [],
   "source": [
    "max_item_by_post = ..."
   ]
  },
  {
   "cell_type": "markdown",
   "metadata": {},
   "source": [
    "In order to express the item totals as a proportion of the total amount of items prescribed across all `'bnf_name'` in a postal code, we'll need to use the total items prescribed that we previously calculated as `items_by_post`. Calculate the proportions for the most common `'bnf_names'` for each postal code. Format your answer as a list of tuples: `[(post_code, bnf_name, total)]`"
   ]
  },
  {
   "cell_type": "code",
   "execution_count": null,
   "metadata": {},
   "outputs": [],
   "source": [
    "items_by_region = [('B11 4BW', 'Salbutamol_Inha 100mcg (200 D) CFF', 0.0341508247)] * 100"
   ]
  },
  {
   "cell_type": "code",
   "execution_count": null,
   "metadata": {},
   "outputs": [],
   "source": [
    "grader.score.pw__items_by_region(items_by_region)"
   ]
  },
  {
   "cell_type": "markdown",
   "metadata": {},
   "source": [
    "*Copyright &copy; 2020 The Data Incubator.  All rights reserved.*"
   ]
  }
 ],
 "metadata": {
  "kernelspec": {
   "display_name": "Python 3",
   "language": "python",
   "name": "python3"
  },
  "language_info": {
   "codemirror_mode": {
    "name": "ipython",
    "version": 3
   },
   "file_extension": ".py",
   "mimetype": "text/x-python",
   "name": "python",
   "nbconvert_exporter": "python",
   "pygments_lexer": "ipython3",
   "version": "3.7.3"
  },
  "nbclean": true
 },
 "nbformat": 4,
 "nbformat_minor": 1
}
