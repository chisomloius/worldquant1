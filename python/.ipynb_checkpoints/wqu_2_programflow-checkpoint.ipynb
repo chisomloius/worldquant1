{
 "cells": [
  {
   "cell_type": "code",
   "execution_count": 1,
   "metadata": {},
   "outputs": [
    {
     "name": "stdout",
     "output_type": "stream",
     "text": [
      "Logging hadn't been started.\n"
     ]
    },
    {
     "name": "stderr",
     "output_type": "stream",
     "text": [
      "C:\\Users\\User\\anaconda3\\lib\\site-packages\\IPython\\core\\magics\\logging.py:130: UserWarning: Couldn't start log: [Errno 2] No such file or directory: 'C:\\\\Users\\\\User/.logs/PY_ProgramFlow.py'\n",
      "  warn(\"Couldn't start log: %s\" % sys.exc_info()[1])\n"
     ]
    },
    {
     "ename": "ModuleNotFoundError",
     "evalue": "No module named 'expectexception'",
     "output_type": "error",
     "traceback": [
      "\u001b[1;31m---------------------------------------------------------------------------\u001b[0m",
      "\u001b[1;31mModuleNotFoundError\u001b[0m                       Traceback (most recent call last)",
      "\u001b[1;32m<ipython-input-1-54699b76da6a>\u001b[0m in \u001b[0;36m<module>\u001b[1;34m\u001b[0m\n\u001b[0;32m      3\u001b[0m \u001b[0mget_ipython\u001b[0m\u001b[1;33m(\u001b[0m\u001b[1;33m)\u001b[0m\u001b[1;33m.\u001b[0m\u001b[0mrun_line_magic\u001b[0m\u001b[1;33m(\u001b[0m\u001b[1;34m'matplotlib'\u001b[0m\u001b[1;33m,\u001b[0m \u001b[1;34m'inline'\u001b[0m\u001b[1;33m)\u001b[0m\u001b[1;33m\u001b[0m\u001b[1;33m\u001b[0m\u001b[0m\n\u001b[0;32m      4\u001b[0m \u001b[1;32mimport\u001b[0m \u001b[0mmatplotlib\u001b[0m\u001b[1;33m\u001b[0m\u001b[1;33m\u001b[0m\u001b[0m\n\u001b[1;32m----> 5\u001b[1;33m \u001b[1;32mimport\u001b[0m \u001b[0mexpectexception\u001b[0m\u001b[1;33m\u001b[0m\u001b[1;33m\u001b[0m\u001b[0m\n\u001b[0m\u001b[0;32m      6\u001b[0m \u001b[1;32mimport\u001b[0m \u001b[0mseaborn\u001b[0m \u001b[1;32mas\u001b[0m \u001b[0msns\u001b[0m\u001b[1;33m\u001b[0m\u001b[1;33m\u001b[0m\u001b[0m\n\u001b[0;32m      7\u001b[0m \u001b[0msns\u001b[0m\u001b[1;33m.\u001b[0m\u001b[0mset\u001b[0m\u001b[1;33m(\u001b[0m\u001b[1;33m)\u001b[0m\u001b[1;33m\u001b[0m\u001b[1;33m\u001b[0m\u001b[0m\n",
      "\u001b[1;31mModuleNotFoundError\u001b[0m: No module named 'expectexception'"
     ]
    }
   ],
   "source": [
    "%logstop\n",
    "%logstart -rtq ~/.logs/PY_ProgramFlow.py append\n",
    "%matplotlib inline\n",
    "import matplotlib\n",
    "import expectexception\n",
    "import seaborn as sns\n",
    "sns.set()\n",
    "matplotlib.rcParams['figure.dpi'] = 144"
   ]
  },
  {
   "cell_type": "markdown",
   "metadata": {},
   "source": [
    "# 2. Program Flow"
   ]
  },
  {
   "cell_type": "markdown",
   "metadata": {},
   "source": [
    "## What is a computer program?\n",
    "At its simplest, a program is a list of instructions that a computer carries out in order. \n",
    "A program could be long and complicated, but it is built of simple parts. \n",
    "Let's look at some simple operations in Python, and think about what the computer does for each one:"
   ]
  },
  {
   "cell_type": "code",
   "execution_count": 2,
   "metadata": {},
   "outputs": [
    {
     "data": {
      "text/plain": [
       "20"
      ]
     },
     "execution_count": 2,
     "metadata": {},
     "output_type": "execute_result"
    }
   ],
   "source": [
    "10+ 10"
   ]
  },
  {
   "cell_type": "code",
   "execution_count": 3,
   "metadata": {},
   "outputs": [
    {
     "data": {
      "text/plain": [
       "7.0"
      ]
     },
     "execution_count": 3,
     "metadata": {},
     "output_type": "execute_result"
    }
   ],
   "source": [
    "2 * 3.5"
   ]
  },
  {
   "cell_type": "code",
   "execution_count": 4,
   "metadata": {},
   "outputs": [
    {
     "data": {
      "text/plain": [
       "7.0"
      ]
     },
     "execution_count": 4,
     "metadata": {},
     "output_type": "execute_result"
    }
   ],
   "source": [
    "1 + 1\n",
    "2 * 3.5"
   ]
  },
  {
   "cell_type": "markdown",
   "metadata": {},
   "source": [
    "In the first cell we compute `1 + 1`, and Python returns the result `2`. We can think of this as a very short program. \n",
    "Similarly, in the second cell we compute `2 * 3.5`, and Python returns the result `7.0`.\n",
    "\n",
    "However, in the third cell, when we combine these two statements as sequential lines, we only see Python return `7.0`. \n",
    "Why is that?\n",
    "\n",
    "Python can only return one result at the end of the cell, so the first line is evaluated, but we never see the result. \n",
    "One way we can report intermediate results is using `print`."
   ]
  },
  {
   "cell_type": "code",
   "execution_count": 5,
   "metadata": {},
   "outputs": [
    {
     "name": "stdout",
     "output_type": "stream",
     "text": [
      "2\n",
      "7.0\n"
     ]
    }
   ],
   "source": [
    "print(1 + 1)\n",
    "print(2 * 3.5)"
   ]
  },
  {
   "cell_type": "markdown",
   "metadata": {},
   "source": [
    "The lines of the code that the computer won't execute is called **comments**, because they are used to add notes and explanations to the code. We use `#` to indicate that we are making a comment."
   ]
  },
  {
   "cell_type": "code",
   "execution_count": 6,
   "metadata": {},
   "outputs": [
    {
     "name": "stdout",
     "output_type": "stream",
     "text": [
      "1 + 1 is 2\n",
      "All done!\n"
     ]
    }
   ],
   "source": [
    "print('1 + 1 is', 1 + 1)\n",
    "# this is a comment, Python won't try to execute it\n",
    "print('All done!')"
   ]
  },
  {
   "cell_type": "markdown",
   "metadata": {},
   "source": [
    "We can store results for later use. We can store a result in the computer's memory by assigning it to a **variable**.\n"
   ]
  },
  {
   "cell_type": "code",
   "execution_count": 7,
   "metadata": {},
   "outputs": [
    {
     "name": "stdout",
     "output_type": "stream",
     "text": [
      "7.0\n"
     ]
    }
   ],
   "source": [
    "first_result = 1 + 1\n",
    "final_result = first_result * 3.5\n",
    "\n",
    "print(final_result)"
   ]
  },
  {
   "cell_type": "markdown",
   "metadata": {},
   "source": [
    "Here we were able to use the result of the first calculation (stored in the variable `first_result`) in our second calculation.\n",
    "We store the second result in `final_result`, which we can print at the end of the cell.\n",
    "\n",
    "- Variables help us keep track of the information we need to successfully execute a program. \n",
    "- Variables can be used to store a variety of types of information."
   ]
  },
  {
   "cell_type": "code",
   "execution_count": 8,
   "metadata": {},
   "outputs": [
    {
     "name": "stdout",
     "output_type": "stream",
     "text": [
      "My name is chisom\n",
      "My_age 26\n",
      "My_number 17\n",
      "I own a dog: True\n"
     ]
    }
   ],
   "source": [
    "my_name = 'chisom'\n",
    "my_age = 26\n",
    "my_number = 17\n",
    "my_dog = True\n",
    "\n",
    "print('My name is', my_name)\n",
    "print('My_age', my_age)\n",
    "print('My_number', my_number)\n",
    "print('I own a dog:', my_dog)"
   ]
  },
  {
   "cell_type": "markdown",
   "metadata": {},
   "source": [
    "Since variables can be used to store so many types of information, \n",
    "it's a good idea to give those variables descriptive names like I did. \n",
    "This helps us write code that is easy to read, helps when we're trying to find and fix mistakes or share code with others."
   ]
  },
  {
   "cell_type": "code",
   "execution_count": 9,
   "metadata": {},
   "outputs": [
    {
     "name": "stdout",
     "output_type": "stream",
     "text": [
      "<class 'str'>\n",
      "<class 'int'>\n",
      "<class 'int'>\n",
      "<class 'bool'>\n"
     ]
    }
   ],
   "source": [
    "print(type(my_name))\n",
    "print(type(my_age))\n",
    "print(type(my_number))\n",
    "print(type(my_dog))"
   ]
  },
  {
   "cell_type": "markdown",
   "metadata": {},
   "source": [
    "A **string:** is a sequence of characters. \n",
    "    \n",
    "An **integer:** has the same meaning as in mathematics (i.e. \"whole numbers\").\n",
    "    \n",
    "A **float** or **floating point number:** refers to a decimal number (i.e. \"real number\" in mathematics);\n",
    "it is called a float because the decimal point is allowed to \"float\" through the digits, allowing us to \n",
    "represent both big numbers (e.g. 204939.12) and small numbers (e.g. 0.000239). \n",
    "\n",
    "A **bool** or **boolean:** refers to a variable that is either true or false.\n",
    "\n",
    "These are just a few types of data we will encounter, and we will explore others later on in the course.\n",
    "In Python, we can assign any type of data to a variable without declaring what type the variable will be in advance."
   ]
  },
  {
   "cell_type": "markdown",
   "metadata": {},
   "source": [
    "### Exercises\n",
    "\n",
    "1. Define `my_name` and `my_age` variables with values corresponding to your own name and age and print them.\n",
    "2. Use your `my_age` variable to print out how old you will be in 10 years."
   ]
  },
  {
   "cell_type": "code",
   "execution_count": 10,
   "metadata": {},
   "outputs": [],
   "source": [
    "my_name = \"chisom\"\n",
    "my_age  = 26"
   ]
  },
  {
   "cell_type": "code",
   "execution_count": 11,
   "metadata": {},
   "outputs": [
    {
     "name": "stdout",
     "output_type": "stream",
     "text": [
      "36\n"
     ]
    }
   ],
   "source": [
    "print(my_age + 10)"
   ]
  },
  {
   "cell_type": "markdown",
   "metadata": {},
   "source": [
    "## Functions\n",
    "Many programs react to user input. Functions allow us to define a task we would like the computer to carry out based on input. \n",
    "A simple function in Python might look like this:"
   ]
  },
  {
   "cell_type": "code",
   "execution_count": 12,
   "metadata": {},
   "outputs": [],
   "source": [
    "def square(number):\n",
    "    return number**2"
   ]
  },
  {
   "cell_type": "markdown",
   "metadata": {},
   "source": [
    "We define functions using the `def` keyword. Next comes the name of the function, which in this case is `square`. \n",
    "We then enclose the function's name parameter or input in parentheses, in this case `number`.\n",
    "We use `:` to tell Python we're ready to write the body of the function.\n",
    "\n",
    "In this case the body of the function is very simple; we return the square of `number` (we use `**` for exponents in Python).\n",
    "The keyword `return` signals that the function will generate some output. Not every function will have a `return` statement, \n",
    "but many will. A `return` statement ends a function."
   ]
  },
  {
   "cell_type": "code",
   "execution_count": 13,
   "metadata": {},
   "outputs": [
    {
     "name": "stdout",
     "output_type": "stream",
     "text": [
      "30.25\n",
      "36\n"
     ]
    }
   ],
   "source": [
    "# we can store function output in variables\n",
    "squared = square(5.5)\n",
    "print(squared)\n",
    "\n",
    "number = 6\n",
    "# we can also use variables as function input\n",
    "print(square(number))"
   ]
  },
  {
   "cell_type": "markdown",
   "metadata": {},
   "source": [
    "We can pass different input to the `square` function, including variables. When we passed a float to `square`, \n",
    "it returned a float. When we passed an integer, `square` returned an integer. In both cases the input was \n",
    "interpreted by the function as the argument `number`.\n",
    "\n",
    "Not all possible inputs are valid."
   ]
  },
  {
   "cell_type": "code",
   "execution_count": 14,
   "metadata": {},
   "outputs": [
    {
     "name": "stderr",
     "output_type": "stream",
     "text": [
      "UsageError: Cell magic `%%expect_exception` not found.\n"
     ]
    }
   ],
   "source": [
    "%%expect_exception TypeError\n",
    "\n",
    "print(square('banana'))"
   ]
  },
  {
   "cell_type": "markdown",
   "metadata": {},
   "source": [
    "We ran into an error because `'banana'` is a string, not a number. We should be careful to make sure that the input for a function makes sense for that function's purpose. We'll talk more about errors like this one later on.\n"
   ]
  },
  {
   "cell_type": "markdown",
   "metadata": {},
   "source": [
    "### Exercises\n",
    "\n",
    "1. Write a function to cube a number.\n",
    "2. Write a function, `say_hello` which takes in a name variable and print out \"Hello name\".  `say_hello(\"zach\")` should print `\"Hello zach\"`.\n",
    "3. Write a function to sum any number of your choice"
   ]
  },
  {
   "cell_type": "code",
   "execution_count": 129,
   "metadata": {},
   "outputs": [
    {
     "name": "stdout",
     "output_type": "stream",
     "text": [
      "729\n"
     ]
    }
   ],
   "source": [
    "#1\n",
    "def cube(number):\n",
    "    return number**3\n",
    "\n",
    "cubic_number = cube(9)\n",
    "print(cubic_number)\n",
    "#here: cubic_number has been set to replace the cube function"
   ]
  },
  {
   "cell_type": "code",
   "execution_count": 130,
   "metadata": {},
   "outputs": [
    {
     "data": {
      "text/plain": [
       "'Hello chisom'"
      ]
     },
     "execution_count": 130,
     "metadata": {},
     "output_type": "execute_result"
    }
   ],
   "source": [
    "#2\n",
    "def say_hello(name):\n",
    "    new_name = []\n",
    "    \n",
    "    new_name.append(\"Hello name\")\n",
    "    return name\n",
    "\n",
    "chisom = \"Hello chisom\"\n",
    "my_name = say_hello(chisom)\n",
    "my_name"
   ]
  },
  {
   "cell_type": "code",
   "execution_count": 131,
   "metadata": {},
   "outputs": [
    {
     "name": "stdout",
     "output_type": "stream",
     "text": [
      "Hello chisom\n",
      "How are you doing\n"
     ]
    },
    {
     "data": {
      "text/plain": [
       "'chisom'"
      ]
     },
     "execution_count": 131,
     "metadata": {},
     "output_type": "execute_result"
    }
   ],
   "source": [
    "#alternatively we can do a function of #2 as thus:\n",
    "def say_hello(person):\n",
    "    print (\"Hello\", person)\n",
    "    print (\"How are you doing\")\n",
    "    return person\n",
    "\n",
    "greet = say_hello(\"chisom\")\n",
    "greet"
   ]
  },
  {
   "cell_type": "markdown",
   "metadata": {},
   "source": [
    "# `Args*` Function"
   ]
  },
  {
   "cell_type": "code",
   "execution_count": 141,
   "metadata": {},
   "outputs": [],
   "source": [
    "#3a a function to add the list of available numbers\n",
    "\n",
    "def add_func(*args):\n",
    "    total = 0\n",
    "    print(\"this function add any available list of numbers\")\n",
    "    print(type(args))\n",
    "    for arg in args:\n",
    "        total += arg\n",
    "    \n",
    "    return total"
   ]
  },
  {
   "cell_type": "code",
   "execution_count": 142,
   "metadata": {},
   "outputs": [
    {
     "name": "stdout",
     "output_type": "stream",
     "text": [
      "this function add any availabel list of numbers\n",
      "<class 'tuple'>\n"
     ]
    },
    {
     "data": {
      "text/plain": [
       "14"
      ]
     },
     "execution_count": 142,
     "metadata": {},
     "output_type": "execute_result"
    }
   ],
   "source": [
    "add_func(2, 6, 6)"
   ]
  },
  {
   "cell_type": "code",
   "execution_count": 148,
   "metadata": {},
   "outputs": [],
   "source": [
    "#3b A function to subtract multiples numbers\n",
    "def sub (*args):\n",
    "    total = 0\n",
    "    print(\"this function subtract any list of numbers\")\n",
    "    print(type(args))\n",
    "    for arg in args:\n",
    "        total -= arg\n",
    "        \n",
    "    return total"
   ]
  },
  {
   "cell_type": "code",
   "execution_count": 149,
   "metadata": {},
   "outputs": [
    {
     "name": "stdout",
     "output_type": "stream",
     "text": [
      "this function subtract any list of numbers\n",
      "<class 'int'>\n"
     ]
    },
    {
     "ename": "TypeError",
     "evalue": "'int' object is not iterable",
     "output_type": "error",
     "traceback": [
      "\u001b[1;31m---------------------------------------------------------------------------\u001b[0m",
      "\u001b[1;31mTypeError\u001b[0m                                 Traceback (most recent call last)",
      "\u001b[1;32m<ipython-input-149-6416f3852b7e>\u001b[0m in \u001b[0;36m<module>\u001b[1;34m\u001b[0m\n\u001b[1;32m----> 1\u001b[1;33m \u001b[0msubt_func\u001b[0m\u001b[1;33m(\u001b[0m\u001b[1;36m6\u001b[0m\u001b[1;33m,\u001b[0m \u001b[1;36m3\u001b[0m\u001b[1;33m,\u001b[0m \u001b[1;36m2\u001b[0m\u001b[1;33m)\u001b[0m\u001b[1;33m\u001b[0m\u001b[1;33m\u001b[0m\u001b[0m\n\u001b[0m",
      "\u001b[1;32m<ipython-input-148-b4aa19ec01d5>\u001b[0m in \u001b[0;36msubt_func\u001b[1;34m(*args)\u001b[0m\n\u001b[0;32m      4\u001b[0m     \u001b[0mprint\u001b[0m\u001b[1;33m(\u001b[0m\u001b[1;34m\"this function subtract any list of numbers\"\u001b[0m\u001b[1;33m)\u001b[0m\u001b[1;33m\u001b[0m\u001b[1;33m\u001b[0m\u001b[0m\n\u001b[0;32m      5\u001b[0m     \u001b[0mprint\u001b[0m\u001b[1;33m(\u001b[0m\u001b[0mtype\u001b[0m\u001b[1;33m(\u001b[0m\u001b[0margs\u001b[0m\u001b[1;33m)\u001b[0m\u001b[1;33m)\u001b[0m\u001b[1;33m\u001b[0m\u001b[1;33m\u001b[0m\u001b[0m\n\u001b[1;32m----> 6\u001b[1;33m     \u001b[1;32mfor\u001b[0m \u001b[0marg\u001b[0m \u001b[1;32min\u001b[0m \u001b[0margs\u001b[0m\u001b[1;33m:\u001b[0m\u001b[1;33m\u001b[0m\u001b[1;33m\u001b[0m\u001b[0m\n\u001b[0m\u001b[0;32m      7\u001b[0m         \u001b[0mtotal\u001b[0m \u001b[1;33m-=\u001b[0m \u001b[0marg\u001b[0m\u001b[1;33m\u001b[0m\u001b[1;33m\u001b[0m\u001b[0m\n\u001b[0;32m      8\u001b[0m \u001b[1;33m\u001b[0m\u001b[0m\n",
      "\u001b[1;31mTypeError\u001b[0m: 'int' object is not iterable"
     ]
    }
   ],
   "source": [
    "subt_func(6,)"
   ]
  },
  {
   "cell_type": "markdown",
   "metadata": {},
   "source": [
    "4. A function that checks if its an even number before squaring the outcome if even"
   ]
  },
  {
   "cell_type": "code",
   "execution_count": 139,
   "metadata": {},
   "outputs": [
    {
     "data": {
      "text/plain": [
       "[0, 8]"
      ]
     },
     "execution_count": 139,
     "metadata": {},
     "output_type": "execute_result"
    }
   ],
   "source": [
    "#4a\n",
    "def cub_even_numbers(numbers):\n",
    "    new_result = []\n",
    "    \n",
    "    for num in numbers:\n",
    "        if num % 2 == 0:\n",
    "            new_result.append(num**3)\n",
    "   \n",
    "    return new_result\n",
    "\n",
    "random = [1, 2, 3, 4, 5, 6]\n",
    "output = cub_even_numbers(my_list)\n",
    "output"
   ]
  },
  {
   "cell_type": "code",
   "execution_count": 140,
   "metadata": {},
   "outputs": [
    {
     "data": {
      "text/plain": [
       "[485587656000, 704969000000, 153990656]"
      ]
     },
     "execution_count": 140,
     "metadata": {},
     "output_type": "execute_result"
    }
   ],
   "source": [
    "#4b alternatively using list comprehension\n",
    "def cube_even_numbers_2(numbers):\n",
    "    #[-(the thing to do) -(for ....) -(filtering conditions)]\n",
    "    return [num **3 for  num in numbers if num % 2  ==0]\n",
    "\n",
    "my_list_2 = [3, 45, 375, 7860, 8900, 536]\n",
    "output_2 = cube_even_numbers_2(my_list_2)\n",
    "output_2"
   ]
  },
  {
   "cell_type": "code",
   "execution_count": 141,
   "metadata": {},
   "outputs": [],
   "source": [
    "#a function nto multiplier number s\n",
    "def add(a, b, multiplier = 1):\n",
    "    answer  = multiplier * (a + b)\n",
    "    \n",
    "    if answer < 0:\n",
    "        return 0\n",
    "    return answer"
   ]
  },
  {
   "cell_type": "code",
   "execution_count": 142,
   "metadata": {},
   "outputs": [
    {
     "data": {
      "text/plain": [
       "3"
      ]
     },
     "execution_count": 142,
     "metadata": {},
     "output_type": "execute_result"
    }
   ],
   "source": [
    "summation = add(1, 2)\n",
    "summation"
   ]
  },
  {
   "cell_type": "code",
   "execution_count": 143,
   "metadata": {},
   "outputs": [
    {
     "data": {
      "text/plain": [
       "40"
      ]
     },
     "execution_count": 143,
     "metadata": {},
     "output_type": "execute_result"
    }
   ],
   "source": [
    "# if you want to increase the multiplier effects i.e 5\n",
    "summation_2 = add( 3, 5, multiplier = 5)\n",
    "summation_2"
   ]
  },
  {
   "cell_type": "code",
   "execution_count": 144,
   "metadata": {},
   "outputs": [
    {
     "data": {
      "text/plain": [
       "0"
      ]
     },
     "execution_count": 144,
     "metadata": {},
     "output_type": "execute_result"
    }
   ],
   "source": [
    "summation_3 =  add(2, 4, multiplier = -1)\n",
    "summation_3"
   ]
  },
  {
   "cell_type": "code",
   "execution_count": 160,
   "metadata": {},
   "outputs": [
    {
     "data": {
      "text/plain": [
       "212.0"
      ]
     },
     "execution_count": 160,
     "metadata": {},
     "output_type": "execute_result"
    }
   ],
   "source": [
    "def cel_2_fahr(deg_C):\n",
    "\n",
    "    return 9 /5 * deg_C + 32\n",
    "\n",
    "cel_2_fahr(100)"
   ]
  },
  {
   "cell_type": "code",
   "execution_count": null,
   "metadata": {},
   "outputs": [],
   "source": [
    "def cel_2_fahr(deg_C):\n",
    "    deg_F = 9 /5 * deg_C + 32\n",
    "\n",
    "    if deg_F >=100:\n",
    "        print(\"it's hot\")\n",
    "        \n",
    "    return deg_F\n",
    "\n",
    "cel_2_fahr(100)"
   ]
  },
  {
   "cell_type": "code",
   "execution_count": 161,
   "metadata": {},
   "outputs": [
    {
     "name": "stdout",
     "output_type": "stream",
     "text": [
      "it's not hot\n"
     ]
    },
    {
     "data": {
      "text/plain": [
       "89.6"
      ]
     },
     "execution_count": 161,
     "metadata": {},
     "output_type": "execute_result"
    }
   ],
   "source": [
    "def cel_2_fahr(deg_C):\n",
    "    deg_F = 9 /5 * deg_C + 32\n",
    "\n",
    "    if deg_F >=100:\n",
    "        print(\"it's hot\")\n",
    "    \n",
    "    else: \n",
    "        print(\"it's not hot\")\n",
    "    return deg_F\n",
    "\n",
    "cel_2_fahr(32)"
   ]
  },
  {
   "cell_type": "code",
   "execution_count": 165,
   "metadata": {},
   "outputs": [
    {
     "name": "stdout",
     "output_type": "stream",
     "text": [
      "it is warm\n"
     ]
    },
    {
     "data": {
      "text/plain": [
       "89.6"
      ]
     },
     "execution_count": 165,
     "metadata": {},
     "output_type": "execute_result"
    }
   ],
   "source": [
    "def cel_2_fahr(deg_C):\n",
    "    deg_F = 9 /5 * deg_C + 32\n",
    "\n",
    "    if deg_F >=100:\n",
    "        print(\"it's very hot\") \n",
    "    \n",
    "    elif deg_F > 50 and deg_F < 100:\n",
    "        print(\"it is warm\")\n",
    "    else: \n",
    "        print(\"it's getting chilly here\")\n",
    "    return deg_F\n",
    "\n",
    "cel_2_fahr(32)"
   ]
  },
  {
   "cell_type": "code",
   "execution_count": 167,
   "metadata": {},
   "outputs": [
    {
     "name": "stdout",
     "output_type": "stream",
     "text": [
      "it's very hot\n"
     ]
    },
    {
     "data": {
      "text/plain": [
       "104.0"
      ]
     },
     "execution_count": 167,
     "metadata": {},
     "output_type": "execute_result"
    }
   ],
   "source": [
    "def cel_2_fahr(deg_C):\n",
    "    deg_F = 9 /5 * deg_C + 32\n",
    "\n",
    "    if deg_F >=100:\n",
    "        print(\"it's very hot\") \n",
    "    \n",
    "    elif deg_F > 50 and deg_F < 100:\n",
    "        if deg_F % 2 ==0:\n",
    "            print(\"It's evenly warm\")\n",
    "        else:\n",
    "            print(\"it is ot evenly warm\")\n",
    "        print(\"It's OK\")\n",
    "    \n",
    "    else: \n",
    "        print(\"it's getting chilly here\")\n",
    "    \n",
    "    return deg_F\n",
    "\n",
    "recording_temp = cel_2_fahr(40)\n",
    "recording_temp"
   ]
  },
  {
   "cell_type": "markdown",
   "metadata": {},
   "source": [
    "Sometimes separating your functions into modularsso it can be readable and easily modified for other times to come.\n",
    "\n",
    "Below is an example"
   ]
  },
  {
   "cell_type": "code",
   "execution_count": 169,
   "metadata": {},
   "outputs": [
    {
     "data": {
      "text/plain": [
       "104.0"
      ]
     },
     "execution_count": 169,
     "metadata": {},
     "output_type": "execute_result"
    }
   ],
   "source": [
    "def cel_2_fahr(deg_C):\n",
    "    deg_F = 9 /5 * deg_C + 32\n",
    "    \n",
    "    return deg_F\n",
    "\n",
    "\n",
    "def value_message(deg_F):\n",
    "    if deg_F >=100:\n",
    "        print(\"it's very hot\") \n",
    "    \n",
    "    elif deg_F > 50 and deg_F < 100:\n",
    "        if deg_F % 2 ==0:\n",
    "            print(\"It's evenly warm\")\n",
    "        else:\n",
    "            print(\"it is ot evenly warm\")\n",
    "        print(\"It's OK\")\n",
    "    \n",
    "    else: \n",
    "        print(\"it's getting chilly here\")\n",
    "        \n",
    "        \n",
    "recording_temp = cel_2_fahr(40)\n",
    "recording_temp"
   ]
  },
  {
   "cell_type": "code",
   "execution_count": 4,
   "metadata": {},
   "outputs": [
    {
     "data": {
      "text/plain": [
       "[0, 1, 2, 3, 4, 5, 6, 7]"
      ]
     },
     "execution_count": 4,
     "metadata": {},
     "output_type": "execute_result"
    }
   ],
   "source": [
    "# a function to print a separate list\n",
    "def unique_elements (a, b):\n",
    "    combined_list = a + b\n",
    "    combined_set = set(combined_list)\n",
    "    \n",
    "    return list(combined_set)\n",
    "\n",
    "\n",
    "new_unique_list = unique_elements([0, 1, 2, 3, 4, 5], [2, 5, 6, 7])\n",
    "new_unique_list"
   ]
  },
  {
   "cell_type": "markdown",
   "metadata": {},
   "source": [
    "### Why Functions?\n",
    "We can see that functions are useful for handling user input, but they also come in handy in numerous other cases. \n",
    "One example is when we want to perform an action multiple times on different input.\n",
    "If I want to square a bunch of numbers, in particular the numbers between 1 and 10, I can do this pretty easily (later we will learn about iteration which will make this even easier!)\n"
   ]
  },
  {
   "cell_type": "code",
   "execution_count": 132,
   "metadata": {},
   "outputs": [
    {
     "data": {
      "text/plain": [
       "81"
      ]
     },
     "execution_count": 132,
     "metadata": {},
     "output_type": "execute_result"
    }
   ],
   "source": [
    "1**2\n",
    "2**2\n",
    "3**2\n",
    "4**2\n",
    "5**2\n",
    "6**2\n",
    "7**2\n",
    "8**2\n",
    "9**2"
   ]
  },
  {
   "cell_type": "markdown",
   "metadata": {},
   "source": [
    "It seems I forgot to save the answers or at least print them.  This is easy:"
   ]
  },
  {
   "cell_type": "code",
   "execution_count": 90,
   "metadata": {},
   "outputs": [
    {
     "name": "stdout",
     "output_type": "stream",
     "text": [
      "1\n",
      "4\n",
      "9\n",
      "16\n",
      "25\n",
      "36\n",
      "49\n",
      "64\n",
      "81\n"
     ]
    }
   ],
   "source": [
    "print(1**2)\n",
    "print(2**2)\n",
    "print(3**2)\n",
    "print(4**2)\n",
    "print(5**2)\n",
    "print(6**2)\n",
    "print(7**2)\n",
    "print(8**2)\n",
    "print(9**2)"
   ]
  },
  {
   "cell_type": "code",
   "execution_count": null,
   "metadata": {},
   "outputs": [],
   "source": [
    "def do_it(x):\n",
    "    print(x**2 + 2)"
   ]
  },
  {
   "cell_type": "code",
   "execution_count": null,
   "metadata": {},
   "outputs": [],
   "source": [
    "do_it(1)\n",
    "do_it(2)\n",
    "do_it(3)\n",
    "do_it(4)\n",
    "do_it(5)\n",
    "do_it(6)\n",
    "do_it(7)\n",
    "do_it(8)\n",
    "do_it(9)"
   ]
  },
  {
   "cell_type": "code",
   "execution_count": 34,
   "metadata": {},
   "outputs": [
    {
     "data": {
      "text/plain": [
       "'a'"
      ]
     },
     "execution_count": 34,
     "metadata": {},
     "output_type": "execute_result"
    }
   ],
   "source": [
    "a = 3\n",
    "'a' if a >2 else 'b'"
   ]
  },
  {
   "cell_type": "markdown",
   "metadata": {},
   "source": [
    "## Syntax\n",
    "\n",
    "As our instructions to the computer become more complicated, we will need to organise them in a way the computer understands. \n",
    "We've already seen an example of this with our `square` function. There was a specific order to the words and specific symbols \n",
    "we had to use to let Python know which part of the function was the definition and which part was the body, or which part was \n",
    "the name of the function and which part was the argument. We call the rules for organizing code the programming language's \n",
    "**syntax**.\n",
    "\n",
    "Python's syntax is very streamlined so that code is readable and intuitive. Python accomplishes this by using \n",
    "whitespace to organize code.Let's look at some examples."
   ]
  },
  {
   "cell_type": "code",
   "execution_count": 46,
   "metadata": {},
   "outputs": [
    {
     "name": "stdout",
     "output_type": "stream",
     "text": [
      "example_a is running\n",
      "returning value \"a\"\n"
     ]
    },
    {
     "data": {
      "text/plain": [
       "'a'"
      ]
     },
     "execution_count": 46,
     "metadata": {},
     "output_type": "execute_result"
    }
   ],
   "source": [
    "def example_a():\n",
    "    print('example_a is running')\n",
    "    print('returning value \"a\"')\n",
    "    return 'a'\n",
    "\n",
    "example_a()"
   ]
  },
  {
   "cell_type": "code",
   "execution_count": 104,
   "metadata": {},
   "outputs": [
    {
     "name": "stdout",
     "output_type": "stream",
     "text": [
      "example_b is running\n",
      "exiting without returning a value\n"
     ]
    }
   ],
   "source": [
    "def example_b():\n",
    "    print('example_b is running')\n",
    "    print('exiting without returning a value')\n",
    "\n",
    "example_b()"
   ]
  },
  {
   "cell_type": "markdown",
   "metadata": {},
   "source": [
    "The function `example_a` ends with a return statement, but `example_b` has no return statement. \n",
    "How does Python know where `example_b` ends? We use indentation to indicate which lines are part of the function and which aren't. The indented lines are all grouped together under the function definition. \n",
    "We'll see this format again for controlling whether certain sections of code execute."
   ]
  },
  {
   "cell_type": "markdown",
   "metadata": {},
   "source": [
    "## Conditionals and logic\n",
    "\n",
    "We'll often want the computer only to take an action under certain circumstances. For example, we might want a game to print the message 'High score!', but only if the player's score is higher than the previous high score. \n",
    "We can write this as a formal logical statement: *if* the player's score is higher than the previous high score _then_ print 'High score!'.\n",
    "\n",
    "The syntax for expressing this logic in Python is very similar. Let's define a function that accepts the player's score and the previous high score as arguments. If the player's score is higher, then it will print 'High score!'. Finally, it will return the new high score (whichever one that is).\n",
    "\n",
    "Conditional statements are used to control program flow. We can visualize our example, `test_high_score`, in a decision tree.\n",
    "\n",
    "![simple_logic_flowchart](images/high_score_flowchart.png)"
   ]
  },
  {
   "cell_type": "code",
   "execution_count": 105,
   "metadata": {},
   "outputs": [],
   "source": [
    "def test_high_score(player_score, high_score):\n",
    "    if player_score > high_score:\n",
    "        print('High score!')\n",
    "        high_score = player_score\n",
    "\n",
    "    return high_score"
   ]
  },
  {
   "cell_type": "code",
   "execution_count": 106,
   "metadata": {},
   "outputs": [
    {
     "name": "stdout",
     "output_type": "stream",
     "text": [
      "98\n"
     ]
    }
   ],
   "source": [
    "print(test_high_score(83, 98))"
   ]
  },
  {
   "cell_type": "code",
   "execution_count": 107,
   "metadata": {},
   "outputs": [
    {
     "name": "stdout",
     "output_type": "stream",
     "text": [
      "High score!\n",
      "90\n"
     ]
    }
   ],
   "source": [
    "print(test_high_score(90, 80))"
   ]
  },
  {
   "cell_type": "code",
   "execution_count": 137,
   "metadata": {},
   "outputs": [],
   "source": [
    "def welcome_to_abuja(distance_to_keffi, distance_to_maraba):\n",
    "    if distance_to_keffi == distance_to_maraba:\n",
    "        print(\"Not Abuja\")\n",
    "    \n",
    "    elif distance_to_keffi > distance_to_maraba:\n",
    "        print(\"In Abuja\")\n",
    "        \n",
    "    elif distance_to_keffi < distance_to_maraba: \n",
    "            print(\"Within Abuja\")\n",
    "    \n",
    "    return"
   ]
  },
  {
   "cell_type": "code",
   "execution_count": 138,
   "metadata": {},
   "outputs": [
    {
     "name": "stdout",
     "output_type": "stream",
     "text": [
      "In Abuja\n",
      "None\n"
     ]
    }
   ],
   "source": [
    "print(welcome_to_abuja(250, 200))"
   ]
  },
  {
   "cell_type": "code",
   "execution_count": 139,
   "metadata": {},
   "outputs": [
    {
     "name": "stdout",
     "output_type": "stream",
     "text": [
      "branch a\n",
      "branch c\n",
      "branch b\n"
     ]
    }
   ],
   "source": [
    "def nested_example(x):\n",
    "    if x < 50:\n",
    "        if x % 2 == 0:\n",
    "            return 'branch a'\n",
    "        else:\n",
    "            return 'branch b'\n",
    "    else:\n",
    "        return 'branch c'\n",
    "\n",
    "print(nested_example(42))\n",
    "print(nested_example(51))\n",
    "print(nested_example(37))"
   ]
  },
  {
   "cell_type": "markdown",
   "metadata": {},
   "source": [
    "In this example, we have an `if` statement nested under another `if` statement. As we change the input, we end up on different branches of the tree.\n",
    "\n",
    "![nested_logic_flowchart](images/nested_logic_flowchart.png)\n",
    "\n",
    "The statement that follows the `if` is called the **condition**. The condition can be either true or false. If the condition is true, then we execute the statements under the `if`. If the condition is false, then we execute the statements under the `else` (or if there is no `else`, then we do nothing).\n",
    "\n",
    "Conditions themselves are instructions that Python can interpret."
   ]
  },
  {
   "cell_type": "code",
   "execution_count": 174,
   "metadata": {},
   "outputs": [
    {
     "name": "stdout",
     "output_type": "stream",
     "text": [
      "mutiple of 20\n",
      "not a mutiple of 20\n",
      "not a mutiple of 20\n",
      "not a mutiple of 20\n"
     ]
    }
   ],
   "source": [
    "def nested_examples(y):\n",
    "    if y % 20 == 0:\n",
    "        return ('mutiple of 20')\n",
    "    else:\n",
    "        return('not a mutiple of 20')\n",
    "    \n",
    "    \n",
    "\n",
    "print(nested_examples(300))\n",
    "print(nested_examples(302))\n",
    "print(nested_examples(310))\n",
    "print(nested_examples(3222))"
   ]
  },
  {
   "cell_type": "code",
   "execution_count": 177,
   "metadata": {},
   "outputs": [
    {
     "name": "stdout",
     "output_type": "stream",
     "text": [
      "True\n",
      "True\n",
      "False\n"
     ]
    }
   ],
   "source": [
    "print(50 > 10)\n",
    "print(2 + 2 == 4)\n",
    "print(-3 > 2)"
   ]
  },
  {
   "cell_type": "markdown",
   "metadata": {},
   "source": [
    "Conditions are evaluated as booleans, which are `True` or `False`. We can combine conditions by asking of condition A _and_ condition B are true. We could also ask if condition A *or* condition B are true. Let's consider whether such statements are true overall based on the possible values of condition A and condition B.\n",
    "\n",
    "|Condition A|Condition B|Condition A and Condition B|Condition A or Condition B|\n",
    "|:---------:|:---------:|:-------------------------:|:------------------------:|\n",
    "|True|True|True|True|\n",
    "|True|False|False|True|\n",
    "|False|True|False|True|\n",
    "|False|False|False|False|"
   ]
  },
  {
   "cell_type": "code",
   "execution_count": 180,
   "metadata": {},
   "outputs": [
    {
     "name": "stdout",
     "output_type": "stream",
     "text": [
      "True\n",
      "False\n",
      "False\n",
      "False\n"
     ]
    }
   ],
   "source": [
    "print(True and True)\n",
    "print(True and False)\n",
    "print(False and True)\n",
    "print(False and False)"
   ]
  },
  {
   "cell_type": "code",
   "execution_count": 179,
   "metadata": {},
   "outputs": [
    {
     "name": "stdout",
     "output_type": "stream",
     "text": [
      "True\n",
      "True\n",
      "True\n",
      "False\n"
     ]
    }
   ],
   "source": [
    "print(True or True)\n",
    "print(True or False)\n",
    "print(False or True)\n",
    "print(False or False)"
   ]
  },
  {
   "cell_type": "code",
   "execution_count": 178,
   "metadata": {},
   "outputs": [
    {
     "name": "stdout",
     "output_type": "stream",
     "text": [
      "True\n",
      "False\n",
      "True\n"
     ]
    }
   ],
   "source": [
    "x = 5\n",
    "y = 3\n",
    "\n",
    "print(x > 4 and y > 2)\n",
    "print(x > 7 and y > 2)\n",
    "print(x > 7 or y > 2)"
   ]
  },
  {
   "cell_type": "markdown",
   "metadata": {},
   "source": [
    "The keywords `or` and `and` are called **logical operations** (in the same sense that we call `+`, `-`, `*`, etc. arithmetic operations). The last logical operation is `not`: `not True` is `False`, `not False` is `True`."
   ]
  },
  {
   "cell_type": "code",
   "execution_count": 181,
   "metadata": {},
   "outputs": [
    {
     "name": "stdout",
     "output_type": "stream",
     "text": [
      "False\n",
      "True\n"
     ]
    }
   ],
   "source": [
    "print(not True)\n",
    "print(not False)"
   ]
  },
  {
   "cell_type": "code",
   "execution_count": 182,
   "metadata": {},
   "outputs": [
    {
     "name": "stdout",
     "output_type": "stream",
     "text": [
      "True\n",
      "False\n",
      "True\n",
      "False\n"
     ]
    }
   ],
   "source": [
    "x = 10\n",
    "y = 8\n",
    "\n",
    "print(x > 7 or y < 7)\n",
    "print(not x > 7 or y < 7)\n",
    "print(not x > 7 or not y < 7)\n",
    "print(not (x > 7 or y < 7))"
   ]
  },
  {
   "cell_type": "markdown",
   "metadata": {},
   "source": [
    "### Exercises\n",
    "\n",
    "1. Write a function which takes in a number and returns True if it is greater than 10 but less than 20 or it is less than -100.\n",
    "2. In the code above we have used the `%` operator.  What does this do?\n",
    "3. Write a function which takes in a number and returns True if it is greater than 100 but less than 200 or it is less than 1100.\n",
    "4. In the code above we have used the `==` operator.  What does this do?"
   ]
  },
  {
   "cell_type": "code",
   "execution_count": 191,
   "metadata": {},
   "outputs": [
    {
     "ename": "SyntaxError",
     "evalue": "invalid syntax (<ipython-input-191-e597d5679bcf>, line 1)",
     "output_type": "error",
     "traceback": [
      "\u001b[1;36m  File \u001b[1;32m\"<ipython-input-191-e597d5679bcf>\"\u001b[1;36m, line \u001b[1;32m1\u001b[0m\n\u001b[1;33m    **#1**\u001b[0m\n\u001b[1;37m    ^\u001b[0m\n\u001b[1;31mSyntaxError\u001b[0m\u001b[1;31m:\u001b[0m invalid syntax\n"
     ]
    }
   ],
   "source": [
    "#1\n",
    "def number(x):\n",
    "    if x > 10 and x < 20 or x <- 100:\n",
    "        return True\n",
    "\n",
    "    \n",
    "    print(number(20))"
   ]
  },
  {
   "cell_type": "markdown",
   "metadata": {},
   "source": [
    "**2**\n",
    "\n",
    "the \"%\" operator is also called the modular divisor, it returns the remainder of the divisor."
   ]
  },
  {
   "cell_type": "code",
   "execution_count": null,
   "metadata": {},
   "outputs": [],
   "source": [
    "#3\n",
    "def number(x):\n",
    "    if x > 100 and x < 200 or x < 1000:\n",
    "        return True"
   ]
  },
  {
   "cell_type": "markdown",
   "metadata": {},
   "source": [
    "#### 4\n",
    "the \"==\" operator is also called the equality sign, it checks the other end of the equation."
   ]
  },
  {
   "cell_type": "markdown",
   "metadata": {},
   "source": [
    "## Iteration\n",
    "\n",
    "Conditionals are very useful because they allow our programs to make decisions based on some information. These decisions control the flow of the program (i.e. which statements get executed). We have one other major tool for controlling  program flow, which is repetition. In programming, we will use repetitive loops to execute the same code many times. This is called **iteration**. The most basic kind of iteration is the `while` loop. A `while` loop will keep executing so long as the condition after the `while` is `True`."
   ]
  },
  {
   "cell_type": "code",
   "execution_count": 95,
   "metadata": {
    "scrolled": true
   },
   "outputs": [
    {
     "name": "stdout",
     "output_type": "stream",
     "text": [
      "0\n",
      "1\n",
      "2\n",
      "3\n",
      "4\n"
     ]
    }
   ],
   "source": [
    "x = 0\n",
    "while x < 5:\n",
    "    print(x)\n",
    "    x = x + 1"
   ]
  },
  {
   "cell_type": "code",
   "execution_count": 96,
   "metadata": {},
   "outputs": [
    {
     "name": "stdout",
     "output_type": "stream",
     "text": [
      "1\n",
      "2\n",
      "3\n",
      "4\n",
      "5\n"
     ]
    }
   ],
   "source": [
    "x = 0\n",
    "while x < 5:\n",
    "    x = x + 1\n",
    "    print(x)"
   ]
  },
  {
   "cell_type": "code",
   "execution_count": 195,
   "metadata": {},
   "outputs": [
    {
     "name": "stdout",
     "output_type": "stream",
     "text": [
      "1\n",
      "2\n",
      "3\n",
      "4\n",
      "5\n",
      "6\n",
      "7\n",
      "8\n",
      "9\n"
     ]
    }
   ],
   "source": [
    "x = 1\n",
    "while x < 10:\n",
    "    print(x)\n",
    "    x = x + 1"
   ]
  },
  {
   "cell_type": "code",
   "execution_count": 97,
   "metadata": {
    "scrolled": true
   },
   "outputs": [
    {
     "name": "stdout",
     "output_type": "stream",
     "text": [
      "2\n",
      "3\n",
      "4\n",
      "5\n",
      "6\n",
      "7\n",
      "8\n",
      "9\n",
      "10\n"
     ]
    }
   ],
   "source": [
    "x = 1\n",
    "while x < 10:\n",
    "    x = x + 1\n",
    "    print(x)"
   ]
  },
  {
   "cell_type": "code",
   "execution_count": 55,
   "metadata": {},
   "outputs": [
    {
     "name": "stdout",
     "output_type": "stream",
     "text": [
      "0\n",
      "1\n",
      "2\n",
      "3\n",
      "4\n",
      "5\n",
      "6\n",
      "7\n",
      "8\n",
      "9\n"
     ]
    }
   ],
   "source": [
    "for i in range(10):\n",
    "    print(i)"
   ]
  },
  {
   "cell_type": "code",
   "execution_count": 98,
   "metadata": {
    "scrolled": false
   },
   "outputs": [
    {
     "name": "stdout",
     "output_type": "stream",
     "text": [
      "0 0\n",
      "0 1\n",
      "0 2\n",
      "0 3\n",
      "0 4\n",
      "0 5\n",
      "0 6\n",
      "0 7\n",
      "0 8\n",
      "0 9\n",
      "1 0\n",
      "1 1\n",
      "1 2\n",
      "1 3\n",
      "1 4\n",
      "1 5\n",
      "1 6\n",
      "1 7\n",
      "1 8\n",
      "1 9\n",
      "2 0\n",
      "2 1\n",
      "2 2\n",
      "2 3\n",
      "2 4\n",
      "2 5\n",
      "2 6\n",
      "2 7\n",
      "2 8\n",
      "2 9\n",
      "3 0\n",
      "3 1\n",
      "3 2\n",
      "3 3\n",
      "3 4\n",
      "3 5\n",
      "3 6\n",
      "3 7\n",
      "3 8\n",
      "3 9\n",
      "4 0\n",
      "4 1\n",
      "4 2\n",
      "4 3\n",
      "4 4\n",
      "4 5\n",
      "4 6\n",
      "4 7\n",
      "4 8\n",
      "4 9\n",
      "5 0\n",
      "5 1\n",
      "5 2\n",
      "5 3\n",
      "5 4\n",
      "5 5\n",
      "5 6\n",
      "5 7\n",
      "5 8\n",
      "5 9\n",
      "6 0\n",
      "6 1\n",
      "6 2\n",
      "6 3\n",
      "6 4\n",
      "6 5\n",
      "6 6\n",
      "6 7\n",
      "6 8\n",
      "6 9\n",
      "7 0\n",
      "7 1\n",
      "7 2\n",
      "7 3\n",
      "7 4\n",
      "7 5\n",
      "7 6\n",
      "7 7\n",
      "7 8\n",
      "7 9\n",
      "8 0\n",
      "8 1\n",
      "8 2\n",
      "8 3\n",
      "8 4\n",
      "8 5\n",
      "8 6\n",
      "8 7\n",
      "8 8\n",
      "8 9\n",
      "9 0\n",
      "9 1\n",
      "9 2\n",
      "9 3\n",
      "9 4\n",
      "9 5\n",
      "9 6\n",
      "9 7\n",
      "9 8\n",
      "9 9\n",
      "10 0\n",
      "10 1\n",
      "10 2\n",
      "10 3\n",
      "10 4\n",
      "10 5\n",
      "10 6\n",
      "10 7\n",
      "10 8\n",
      "10 9\n",
      "11 0\n",
      "11 1\n",
      "11 2\n",
      "11 3\n",
      "11 4\n",
      "11 5\n",
      "11 6\n",
      "11 7\n",
      "11 8\n",
      "11 9\n",
      "12 0\n",
      "12 1\n",
      "12 2\n",
      "12 3\n",
      "12 4\n",
      "12 5\n",
      "12 6\n",
      "12 7\n",
      "12 8\n",
      "12 9\n",
      "13 0\n",
      "13 1\n",
      "13 2\n",
      "13 3\n",
      "13 4\n",
      "13 5\n",
      "13 6\n",
      "13 7\n",
      "13 8\n",
      "13 9\n",
      "14 0\n",
      "14 1\n",
      "14 2\n",
      "14 3\n",
      "14 4\n",
      "14 5\n",
      "14 6\n",
      "14 7\n",
      "14 8\n",
      "14 9\n",
      "15 0\n",
      "15 1\n",
      "15 2\n",
      "15 3\n",
      "15 4\n",
      "15 5\n",
      "15 6\n",
      "15 7\n",
      "15 8\n",
      "15 9\n",
      "16 0\n",
      "16 1\n",
      "16 2\n",
      "16 3\n",
      "16 4\n",
      "16 5\n",
      "16 6\n",
      "16 7\n",
      "16 8\n",
      "16 9\n",
      "17 0\n",
      "17 1\n",
      "17 2\n",
      "17 3\n",
      "17 4\n",
      "17 5\n",
      "17 6\n",
      "17 7\n",
      "17 8\n",
      "17 9\n",
      "18 0\n",
      "18 1\n",
      "18 2\n",
      "18 3\n",
      "18 4\n",
      "18 5\n",
      "18 6\n",
      "18 7\n",
      "18 8\n",
      "18 9\n",
      "19 0\n",
      "19 1\n",
      "19 2\n",
      "19 3\n",
      "19 4\n",
      "19 5\n",
      "19 6\n",
      "19 7\n",
      "19 8\n",
      "19 9\n"
     ]
    }
   ],
   "source": [
    "for i in range(20): # iterate over values  0 to 19\n",
    "    for j in range(10): # iterate over values  0 to 9\n",
    "        print(i, j)"
   ]
  },
  {
   "cell_type": "code",
   "execution_count": 103,
   "metadata": {},
   "outputs": [
    {
     "name": "stdout",
     "output_type": "stream",
     "text": [
      "0 0 0\n",
      "0 0 1\n",
      "0 0 2\n",
      "0 1 0\n",
      "0 1 1\n",
      "0 1 2\n",
      "0 2 0\n",
      "0 2 1\n",
      "0 2 2\n",
      "0 3 0\n",
      "0 3 1\n",
      "0 3 2\n",
      "0 4 0\n",
      "0 4 1\n",
      "0 4 2\n",
      "0 5 0\n",
      "0 5 1\n",
      "0 5 2\n",
      "1 0 0\n",
      "1 0 1\n",
      "1 0 2\n",
      "1 1 0\n",
      "1 1 1\n",
      "1 1 2\n",
      "1 2 0\n",
      "1 2 1\n",
      "1 2 2\n",
      "1 3 0\n",
      "1 3 1\n",
      "1 3 2\n",
      "1 4 0\n",
      "1 4 1\n",
      "1 4 2\n",
      "1 5 0\n",
      "1 5 1\n",
      "1 5 2\n",
      "2 0 0\n",
      "2 0 1\n",
      "2 0 2\n",
      "2 1 0\n",
      "2 1 1\n",
      "2 1 2\n",
      "2 2 0\n",
      "2 2 1\n",
      "2 2 2\n",
      "2 3 0\n",
      "2 3 1\n",
      "2 3 2\n",
      "2 4 0\n",
      "2 4 1\n",
      "2 4 2\n",
      "2 5 0\n",
      "2 5 1\n",
      "2 5 2\n",
      "3 0 0\n",
      "3 0 1\n",
      "3 0 2\n",
      "3 1 0\n",
      "3 1 1\n",
      "3 1 2\n",
      "3 2 0\n",
      "3 2 1\n",
      "3 2 2\n",
      "3 3 0\n",
      "3 3 1\n",
      "3 3 2\n",
      "3 4 0\n",
      "3 4 1\n",
      "3 4 2\n",
      "3 5 0\n",
      "3 5 1\n",
      "3 5 2\n",
      "4 0 0\n",
      "4 0 1\n",
      "4 0 2\n",
      "4 1 0\n",
      "4 1 1\n",
      "4 1 2\n",
      "4 2 0\n",
      "4 2 1\n",
      "4 2 2\n",
      "4 3 0\n",
      "4 3 1\n",
      "4 3 2\n",
      "4 4 0\n",
      "4 4 1\n",
      "4 4 2\n",
      "4 5 0\n",
      "4 5 1\n",
      "4 5 2\n",
      "5 0 0\n",
      "5 0 1\n",
      "5 0 2\n",
      "5 1 0\n",
      "5 1 1\n",
      "5 1 2\n",
      "5 2 0\n",
      "5 2 1\n",
      "5 2 2\n",
      "5 3 0\n",
      "5 3 1\n",
      "5 3 2\n",
      "5 4 0\n",
      "5 4 1\n",
      "5 4 2\n",
      "5 5 0\n",
      "5 5 1\n",
      "5 5 2\n",
      "6 0 0\n",
      "6 0 1\n",
      "6 0 2\n",
      "6 1 0\n",
      "6 1 1\n",
      "6 1 2\n",
      "6 2 0\n",
      "6 2 1\n",
      "6 2 2\n",
      "6 3 0\n",
      "6 3 1\n",
      "6 3 2\n",
      "6 4 0\n",
      "6 4 1\n",
      "6 4 2\n",
      "6 5 0\n",
      "6 5 1\n",
      "6 5 2\n",
      "7 0 0\n",
      "7 0 1\n",
      "7 0 2\n",
      "7 1 0\n",
      "7 1 1\n",
      "7 1 2\n",
      "7 2 0\n",
      "7 2 1\n",
      "7 2 2\n",
      "7 3 0\n",
      "7 3 1\n",
      "7 3 2\n",
      "7 4 0\n",
      "7 4 1\n",
      "7 4 2\n",
      "7 5 0\n",
      "7 5 1\n",
      "7 5 2\n",
      "8 0 0\n",
      "8 0 1\n",
      "8 0 2\n",
      "8 1 0\n",
      "8 1 1\n",
      "8 1 2\n",
      "8 2 0\n",
      "8 2 1\n",
      "8 2 2\n",
      "8 3 0\n",
      "8 3 1\n",
      "8 3 2\n",
      "8 4 0\n",
      "8 4 1\n",
      "8 4 2\n",
      "8 5 0\n",
      "8 5 1\n",
      "8 5 2\n",
      "9 0 0\n",
      "9 0 1\n",
      "9 0 2\n",
      "9 1 0\n",
      "9 1 1\n",
      "9 1 2\n",
      "9 2 0\n",
      "9 2 1\n",
      "9 2 2\n",
      "9 3 0\n",
      "9 3 1\n",
      "9 3 2\n",
      "9 4 0\n",
      "9 4 1\n",
      "9 4 2\n",
      "9 5 0\n",
      "9 5 1\n",
      "9 5 2\n",
      "10 0 0\n",
      "10 0 1\n",
      "10 0 2\n",
      "10 1 0\n",
      "10 1 1\n",
      "10 1 2\n",
      "10 2 0\n",
      "10 2 1\n",
      "10 2 2\n",
      "10 3 0\n",
      "10 3 1\n",
      "10 3 2\n",
      "10 4 0\n",
      "10 4 1\n",
      "10 4 2\n",
      "10 5 0\n",
      "10 5 1\n",
      "10 5 2\n",
      "11 0 0\n",
      "11 0 1\n",
      "11 0 2\n",
      "11 1 0\n",
      "11 1 1\n",
      "11 1 2\n",
      "11 2 0\n",
      "11 2 1\n",
      "11 2 2\n",
      "11 3 0\n",
      "11 3 1\n",
      "11 3 2\n",
      "11 4 0\n",
      "11 4 1\n",
      "11 4 2\n",
      "11 5 0\n",
      "11 5 1\n",
      "11 5 2\n"
     ]
    }
   ],
   "source": [
    "for i in range(12): # iterate over values  0 to 12\n",
    "    for j in range(6): # iterate over values  0 to 6\n",
    "        for k in range(3): # iterate over values  0 to 3\n",
    "            print(i, j, k)"
   ]
  },
  {
   "cell_type": "code",
   "execution_count": null,
   "metadata": {},
   "outputs": [],
   "source": [
    "for i in range(12): # iterate over values  0 to 12\n",
    "    for j in range(6): # iterate over values  0 to 6\n",
    "        for k in range(3): # iterate over values  0 to 3\n",
    "            print(i, j, k)"
   ]
  },
  {
   "cell_type": "markdown",
   "metadata": {},
   "source": [
    "We will often use iteration to perform a task a certain number of times, but we might also use it to carry out a process to a certain stage of completion.\n",
    "\n",
    "As an example of these different cases, we'll consider the Fibonacci sequence. The Fibonacci sequence is a sequence of numbers where the next number in the sequence is given by the sum of the previous two numbers. The first two numbers are given as 0 and 1. So the sequence begins 0, 1, 1, 2, 3, 5, 8...\n",
    "\n",
    "The Fibonacci sequence goes on infinitely, so we can only ever compute part of it. Below we define two functions to compute part of the Fibonacci sequence; the first function computes the first `n` terms, while the second function computes all the terms less than an upper limit, `x`."
   ]
  },
  {
   "cell_type": "code",
   "execution_count": 206,
   "metadata": {},
   "outputs": [],
   "source": [
    "def first_n_fibonacci(n):\n",
    "    prev_num = 0\n",
    "    curr_num = 1\n",
    "    count = 2\n",
    "\n",
    "    print(prev_num)\n",
    "    print(curr_num)\n",
    "    \n",
    "    while count <= n:\n",
    "        next_num = curr_num + prev_num\n",
    "        print(next_num)\n",
    "        prev_num = curr_num\n",
    "        curr_num = next_num\n",
    "        count += 1"
   ]
  },
  {
   "cell_type": "code",
   "execution_count": 207,
   "metadata": {},
   "outputs": [
    {
     "name": "stdout",
     "output_type": "stream",
     "text": [
      "First 7 Fibonacci numbers\n",
      "0\n",
      "1\n",
      "1\n",
      "2\n",
      "3\n",
      "5\n",
      "8\n",
      "13\n"
     ]
    }
   ],
   "source": [
    "m = 7\n",
    "print('First %d Fibonacci numbers' % m)\n",
    "first_n_fibonacci(m)"
   ]
  },
  {
   "cell_type": "code",
   "execution_count": 216,
   "metadata": {},
   "outputs": [],
   "source": [
    "def below_n_fibonacci(y):\n",
    "    prev_num = 0\n",
    "    curr_num = 1\n",
    "\n",
    "    if curr_num < y:\n",
    "        print(prev_num)\n",
    "        print(curr_num)\n",
    "    elif prev_num < y:\n",
    "        print(prev_num)\n",
    "    \n",
    "    while curr_num + prev_num < y:\n",
    "        next_num = curr_num + prev_num\n",
    "        print(next_num)\n",
    "        prev_num = curr_num\n",
    "        curr_num = next_num\n",
    "    "
   ]
  },
  {
   "cell_type": "code",
   "execution_count": 217,
   "metadata": {},
   "outputs": [
    {
     "name": "stdout",
     "output_type": "stream",
     "text": [
      "First 7 Fibonacci numbers\n",
      "0\n",
      "1\n",
      "1\n",
      "2\n",
      "3\n",
      "5\n"
     ]
    }
   ],
   "source": [
    "m = 7\n",
    "print('First %d Fibonacci numbers' % m)\n",
    "below_n_fibonacci(m)"
   ]
  },
  {
   "cell_type": "code",
   "execution_count": 218,
   "metadata": {
    "scrolled": true
   },
   "outputs": [
    {
     "name": "stdout",
     "output_type": "stream",
     "text": [
      "\n",
      "Fibonacci numbers below 40\n",
      "0\n",
      "1\n",
      "1\n",
      "2\n",
      "3\n",
      "5\n",
      "8\n",
      "13\n",
      "21\n",
      "34\n"
     ]
    }
   ],
   "source": [
    "print()\n",
    "\n",
    "y = 40\n",
    "print('Fibonacci numbers below %d' % y)\n",
    "below_n_fibonacci(y)        "
   ]
  },
  {
   "cell_type": "markdown",
   "metadata": {},
   "source": [
    "Sometimes we will want our program to take a repeated action, but we won't know how many repetitions we will have to do, or it might be difficult to know ahead of time when the program should stop. For example, we could write a program that prints out cooking instructions. We don't know in advance how many instructions there will be in the recipe (some meals take a long time to cook and have many steps, while others are short and simple to make). We also don't know what the last instruction might be, so it would be difficult to write a conditional telling the program when to stop. How are we going to solve the problem? Let's look at an example.\n",
    "\n",
    "Instructions for making bread:  \n",
    "1) Dissolve salt in water  \n",
    "2) Mix yeast into water  \n",
    "3) Mix water with flour to form dough  \n",
    "4) Knead dough  \n",
    "5) Let dough rise  \n",
    "6) Shape dough  \n",
    "7) Bake  \n",
    "\n",
    "The recipe has an ordered `list` of instructions. In Python we can use a list of strings to represent the instructions."
   ]
  },
  {
   "cell_type": "code",
   "execution_count": 223,
   "metadata": {},
   "outputs": [],
   "source": [
    "bread_recipe = ['Dissolve salt in water', 'Mix yeast into water', 'Mix water with flour to form dough', \n",
    "                'Knead dough', 'Let dough rise', 'Shape dough', 'Bake']\n",
    "\n",
    "soup_recipe = ['Dissolve salt in water', 'Boil  water', 'Add bones to boiling water', 'Chop onions', \n",
    "               'Chop garlic', 'Chop carrot', 'Chop celery', 'Remove bones from water', \n",
    "               'Add vegetables to boiling water', 'Add meat to boiling water']\n",
    "\n",
    "beans_recipe = ['Soak beans in water', 'Dissolve salt in water', 'Heat water and beans to boil', \n",
    "                'Drain beans when done cooking']"
   ]
  },
  {
   "cell_type": "markdown",
   "metadata": {},
   "source": [
    "Each of these lists has different instructions, and they are not all the same length.\n",
    "The beans recipe has four steps. \n",
    "The soup recipe has ten steps. \n",
    "It would be hard to write a `while` loop to print out each step. It is much easier to do it using a `for` loop.\n",
    "\n",
    "A `for` loop does an action for each item in a `list` (or more precisely, in an **iterable**)."
   ]
  },
  {
   "cell_type": "code",
   "execution_count": 224,
   "metadata": {},
   "outputs": [],
   "source": [
    "def print_recipe(instructions):\n",
    "    for i in instructions:\n",
    "        print(i)"
   ]
  },
  {
   "cell_type": "code",
   "execution_count": 225,
   "metadata": {},
   "outputs": [
    {
     "name": "stdout",
     "output_type": "stream",
     "text": [
      "Dissolve salt in water\n",
      "Boil  water\n",
      "Add bones to boiling water\n",
      "Chop onions\n",
      "Chop garlic\n",
      "Chop carrot\n",
      "Chop celery\n",
      "Remove bones from water\n",
      "Add vegetables to boiling water\n",
      "Add meat to boiling water\n"
     ]
    }
   ],
   "source": [
    "print_recipe(soup_recipe)"
   ]
  },
  {
   "cell_type": "code",
   "execution_count": 226,
   "metadata": {},
   "outputs": [
    {
     "name": "stdout",
     "output_type": "stream",
     "text": [
      "Soak beans in water\n",
      "Dissolve salt in water\n",
      "Heat water and beans to boil\n",
      "Drain beans when done cooking\n"
     ]
    }
   ],
   "source": [
    "print_recipe(beans_recipe)"
   ]
  },
  {
   "cell_type": "code",
   "execution_count": 227,
   "metadata": {},
   "outputs": [
    {
     "name": "stdout",
     "output_type": "stream",
     "text": [
      "Dissolve salt in water\n",
      "Boil  water\n",
      "Add bones to boiling water\n",
      "Chop onions\n",
      "Chop garlic\n",
      "Chop carrot\n",
      "Chop celery\n",
      "Remove bones from water\n",
      "Add vegetables to boiling water\n",
      "Add meat to boiling water\n"
     ]
    }
   ],
   "source": [
    "print_recipe(soup_recipe)"
   ]
  },
  {
   "cell_type": "code",
   "execution_count": 250,
   "metadata": {},
   "outputs": [],
   "source": [
    "how_to_ace =['have a an overview of the course', 'watch the weekly videos', 'practice the demo codes on videos',\n",
    "         'research other codes', 'do tests, score hundred percent on each test']"
   ]
  },
  {
   "cell_type": "code",
   "execution_count": 263,
   "metadata": {},
   "outputs": [],
   "source": [
    "def wqu_university_certificates(steps):\n",
    "    for i in steps:\n",
    "        print(i)"
   ]
  },
  {
   "cell_type": "code",
   "execution_count": 264,
   "metadata": {},
   "outputs": [
    {
     "name": "stdout",
     "output_type": "stream",
     "text": [
      "have a an overview of the course\n",
      "watch the weekly videos\n",
      "practice the demo codes on videos\n",
      "research other codes\n",
      "do tests, score hundred percent on each test\n"
     ]
    }
   ],
   "source": [
    "wqu_university_certificates(how_to_ace)"
   ]
  },
  {
   "cell_type": "code",
   "execution_count": 260,
   "metadata": {},
   "outputs": [
    {
     "name": "stdout",
     "output_type": "stream",
     "text": [
      "['have a an overview of the course', 'watch the weekly videos', 'practice the demo codes on videos', 'research other codes', 'do tests, score hundred percent on each test']\n"
     ]
    }
   ],
   "source": [
    "print(how_to_ace)"
   ]
  },
  {
   "cell_type": "markdown",
   "metadata": {},
   "source": [
    "notice that 'print' function print the list as same, while the function curled into the list name returned list one after the other."
   ]
  },
  {
   "cell_type": "markdown",
   "metadata": {},
   "source": [
    "We can also use a `for` loop to repeat a task a certain number of times, like printing out the first `n` numbers in the Fibonacci sequence. Compare these two Fibonacci functions:"
   ]
  },
  {
   "cell_type": "code",
   "execution_count": 272,
   "metadata": {},
   "outputs": [],
   "source": [
    "def first_n_fibonacci_while(n):\n",
    "    prev_num = 0\n",
    "    curr_num = 1\n",
    "    count = 2\n",
    "    \n",
    "    print(prev_num)\n",
    "    print(curr_num)\n",
    "    \n",
    "    while count <= n:\n",
    "        next_num = prev_num + curr_num\n",
    "        print(next_num)\n",
    "        prev_num = curr_num\n",
    "        curr_num = next_num\n",
    "        count += 1"
   ]
  },
  {
   "cell_type": "code",
   "execution_count": 273,
   "metadata": {},
   "outputs": [
    {
     "name": "stdout",
     "output_type": "stream",
     "text": [
      "0\n",
      "1\n",
      "1\n",
      "2\n",
      "3\n",
      "5\n",
      "8\n",
      "13\n"
     ]
    }
   ],
   "source": [
    "first_n_fibonacci_while(7)"
   ]
  },
  {
   "cell_type": "code",
   "execution_count": 274,
   "metadata": {},
   "outputs": [],
   "source": [
    "def first_n_fibonacci_for(n):\n",
    "    prev_num = 0\n",
    "    curr_num = 1\n",
    "\n",
    "    print(prev_num)\n",
    "    print(curr_num)\n",
    "\n",
    "    for count in range(2, n + 1):\n",
    "        next_num = curr_num + prev_num\n",
    "        print(next_num)\n",
    "        prev_num = curr_num\n",
    "        curr_num = next_num"
   ]
  },
  {
   "cell_type": "code",
   "execution_count": 275,
   "metadata": {},
   "outputs": [
    {
     "name": "stdout",
     "output_type": "stream",
     "text": [
      "0\n",
      "1\n",
      "1\n",
      "2\n",
      "3\n",
      "5\n",
      "8\n",
      "13\n"
     ]
    }
   ],
   "source": [
    "first_n_fibonacci_for(7)"
   ]
  },
  {
   "cell_type": "markdown",
   "metadata": {},
   "source": [
    "### Exercises\n",
    "\n",
    "1. Compare `first_n_fibonacci_while` and `first_n_fibonacci_for`, which one is \"better\"?"
   ]
  },
  {
   "cell_type": "markdown",
   "metadata": {},
   "source": [
    "the 'first_n_fibonacci_while' is more restrictive than the 'first_n_fibonacci_for' making the later the better."
   ]
  },
  {
   "cell_type": "markdown",
   "metadata": {},
   "source": [
    "### Aside (Recursion)\n",
    "\n",
    "Another way to get something like iteration is called _recursion_ which is when we define a function in terms of itself.  Lets write the Fibonacci sequence recursively.  This will be slightly different in that it will only calculate the nth Fibonacci number."
   ]
  },
  {
   "cell_type": "code",
   "execution_count": 285,
   "metadata": {},
   "outputs": [],
   "source": [
    "def fibonacci_recursive(n):\n",
    "    if n == 0:\n",
    "        return 0\n",
    "    elif n == 1:\n",
    "        return 1\n",
    "    else:\n",
    "        return fibonacci_recursive(n-1) + fibonacci_recursive(n-2)"
   ]
  },
  {
   "cell_type": "code",
   "execution_count": 287,
   "metadata": {},
   "outputs": [
    {
     "data": {
      "text/plain": [
       "55"
      ]
     },
     "execution_count": 287,
     "metadata": {},
     "output_type": "execute_result"
    }
   ],
   "source": [
    "fibonacci_recursive(10)"
   ]
  },
  {
   "cell_type": "markdown",
   "metadata": {},
   "source": [
    "Here we make use of the fact that a **Fibonacci number $F_n$ can be defined in terms of $F_{N-1}$ and $F_{N-2}$ with some base cases $F_0=0$ and $F_1=1$.  We will not be using recursion in this course, but it is an interesting and useful programming construct.**\n"
   ]
  },
  {
   "cell_type": "markdown",
   "metadata": {},
   "source": [
    "Below is function that return how a single number can be arranged using different other numbers\n"
   ]
  },
  {
   "cell_type": "code",
   "execution_count": 119,
   "metadata": {},
   "outputs": [],
   "source": [
    "def get_ways_recursion(n, c):\n",
    "    if not c: #checking if c is empty\n",
    "        return 0\n",
    "    elif n< 0:\n",
    "        return 0\n",
    "    elif n == 0:\n",
    "        return 1\n",
    "    else:\n",
    "        print(n, c)\n",
    "        return get_ways_recursion(n- c[0], c) + get_ways_recursion(n, c[1:])"
   ]
  },
  {
   "cell_type": "code",
   "execution_count": 120,
   "metadata": {},
   "outputs": [
    {
     "name": "stdout",
     "output_type": "stream",
     "text": [
      "20 [7, 8]\n",
      "13 [7, 8]\n",
      "6 [7, 8]\n",
      "6 [8]\n",
      "13 [8]\n",
      "5 [8]\n",
      "20 [8]\n",
      "12 [8]\n",
      "4 [8]\n"
     ]
    },
    {
     "data": {
      "text/plain": [
       "0"
      ]
     },
     "execution_count": 120,
     "metadata": {},
     "output_type": "execute_result"
    }
   ],
   "source": [
    "get_ways_recursion(20, [7,8])"
   ]
  },
  {
   "cell_type": "code",
   "execution_count": 121,
   "metadata": {},
   "outputs": [
    {
     "name": "stdout",
     "output_type": "stream",
     "text": [
      "4 [1, 2, 3]\n",
      "3 [1, 2, 3]\n",
      "2 [1, 2, 3]\n",
      "1 [1, 2, 3]\n",
      "1 [2, 3]\n",
      "1 [3]\n",
      "2 [2, 3]\n",
      "2 [3]\n",
      "3 [2, 3]\n",
      "1 [2, 3]\n",
      "1 [3]\n",
      "3 [3]\n",
      "4 [2, 3]\n",
      "2 [2, 3]\n",
      "2 [3]\n",
      "4 [3]\n",
      "1 [3]\n"
     ]
    },
    {
     "data": {
      "text/plain": [
       "4"
      ]
     },
     "execution_count": 121,
     "metadata": {},
     "output_type": "execute_result"
    }
   ],
   "source": [
    "get_ways_recursion(4, [1, 2, 3])"
   ]
  },
  {
   "cell_type": "code",
   "execution_count": 122,
   "metadata": {},
   "outputs": [
    {
     "name": "stdout",
     "output_type": "stream",
     "text": [
      "10 [2, 4, 6]\n",
      "8 [2, 4, 6]\n",
      "6 [2, 4, 6]\n",
      "4 [2, 4, 6]\n",
      "2 [2, 4, 6]\n",
      "2 [4, 6]\n",
      "2 [6]\n",
      "4 [4, 6]\n",
      "4 [6]\n",
      "6 [4, 6]\n",
      "2 [4, 6]\n",
      "2 [6]\n",
      "6 [6]\n",
      "8 [4, 6]\n",
      "4 [4, 6]\n",
      "4 [6]\n",
      "8 [6]\n",
      "2 [6]\n",
      "10 [4, 6]\n",
      "6 [4, 6]\n",
      "2 [4, 6]\n",
      "2 [6]\n",
      "6 [6]\n",
      "10 [6]\n",
      "4 [6]\n"
     ]
    },
    {
     "data": {
      "text/plain": [
       "5"
      ]
     },
     "execution_count": 122,
     "metadata": {},
     "output_type": "execute_result"
    }
   ],
   "source": [
    "get_ways_recursion(10, [2, 4, 6])"
   ]
  },
  {
   "cell_type": "code",
   "execution_count": null,
   "metadata": {},
   "outputs": [],
   "source": [
    "COUNTERDICT = {}\n",
    "\n",
    "def get_ways_memo(n, c):\n",
    "    if not c:\n",
    "        return 0\n",
    "    elif n < 0:\n",
    "          return 0\n",
    "    elif n == 0:\n",
    "        return 1\n",
    "    \n",
    "    key = (n, tuple(c))\n",
    "    print(n, c)\n",
    "    if key not in COUNTERDICT:\n",
    "        COUNTERDICT[key] = get_ways_memo(n - c[0], c) + get_ways_memo(n, c[1:])\n",
    "        \n",
    "    return COUNTERDICT[key]\n",
    "        #let's store our answer in a dictionary\n",
    "        #the key will be n and c\n",
    "        #what is the problem of using keys that are (n, c)?"
   ]
  },
  {
   "cell_type": "code",
   "execution_count": 128,
   "metadata": {},
   "outputs": [
    {
     "name": "stdout",
     "output_type": "stream",
     "text": [
      "10 [2, 4, 6]\n",
      "12 [2, 4, 6]\n",
      "14 [2, 4, 6]\n",
      "16 [2, 4, 6]\n",
      "18 [2, 4, 6]\n",
      "20 [2, 4, 6]\n",
      "22 [2, 4, 6]\n",
      "24 [2, 4, 6]\n",
      "26 [2, 4, 6]\n",
      "28 [2, 4, 6]\n",
      "30 [2, 4, 6]\n",
      "32 [2, 4, 6]\n",
      "34 [2, 4, 6]\n",
      "36 [2, 4, 6]\n",
      "38 [2, 4, 6]\n",
      "40 [2, 4, 6]\n",
      "42 [2, 4, 6]\n",
      "44 [2, 4, 6]\n",
      "46 [2, 4, 6]\n",
      "48 [2, 4, 6]\n",
      "50 [2, 4, 6]\n",
      "52 [2, 4, 6]\n",
      "54 [2, 4, 6]\n",
      "56 [2, 4, 6]\n",
      "58 [2, 4, 6]\n",
      "60 [2, 4, 6]\n",
      "62 [2, 4, 6]\n",
      "64 [2, 4, 6]\n",
      "66 [2, 4, 6]\n",
      "68 [2, 4, 6]\n",
      "70 [2, 4, 6]\n",
      "72 [2, 4, 6]\n",
      "74 [2, 4, 6]\n",
      "76 [2, 4, 6]\n",
      "78 [2, 4, 6]\n",
      "80 [2, 4, 6]\n",
      "82 [2, 4, 6]\n",
      "84 [2, 4, 6]\n",
      "86 [2, 4, 6]\n",
      "88 [2, 4, 6]\n",
      "90 [2, 4, 6]\n",
      "92 [2, 4, 6]\n",
      "94 [2, 4, 6]\n",
      "96 [2, 4, 6]\n",
      "98 [2, 4, 6]\n",
      "100 [2, 4, 6]\n",
      "102 [2, 4, 6]\n",
      "104 [2, 4, 6]\n",
      "106 [2, 4, 6]\n",
      "108 [2, 4, 6]\n",
      "110 [2, 4, 6]\n",
      "112 [2, 4, 6]\n",
      "114 [2, 4, 6]\n",
      "116 [2, 4, 6]\n",
      "118 [2, 4, 6]\n",
      "120 [2, 4, 6]\n",
      "122 [2, 4, 6]\n",
      "124 [2, 4, 6]\n",
      "126 [2, 4, 6]\n",
      "128 [2, 4, 6]\n",
      "130 [2, 4, 6]\n",
      "132 [2, 4, 6]\n",
      "134 [2, 4, 6]\n",
      "136 [2, 4, 6]\n",
      "138 [2, 4, 6]\n",
      "140 [2, 4, 6]\n",
      "142 [2, 4, 6]\n",
      "144 [2, 4, 6]\n",
      "146 [2, 4, 6]\n",
      "148 [2, 4, 6]\n",
      "150 [2, 4, 6]\n",
      "152 [2, 4, 6]\n",
      "154 [2, 4, 6]\n",
      "156 [2, 4, 6]\n",
      "158 [2, 4, 6]\n",
      "160 [2, 4, 6]\n",
      "162 [2, 4, 6]\n",
      "164 [2, 4, 6]\n",
      "166 [2, 4, 6]\n",
      "168 [2, 4, 6]\n",
      "170 [2, 4, 6]\n",
      "172 [2, 4, 6]\n",
      "174 [2, 4, 6]\n",
      "176 [2, 4, 6]\n",
      "178 [2, 4, 6]\n",
      "180 [2, 4, 6]\n",
      "182 [2, 4, 6]\n",
      "184 [2, 4, 6]\n",
      "186 [2, 4, 6]\n",
      "188 [2, 4, 6]\n",
      "190 [2, 4, 6]\n",
      "192 [2, 4, 6]\n",
      "194 [2, 4, 6]\n",
      "196 [2, 4, 6]\n",
      "198 [2, 4, 6]\n",
      "200 [2, 4, 6]\n",
      "202 [2, 4, 6]\n",
      "204 [2, 4, 6]\n",
      "206 [2, 4, 6]\n",
      "208 [2, 4, 6]\n",
      "210 [2, 4, 6]\n",
      "212 [2, 4, 6]\n",
      "214 [2, 4, 6]\n",
      "216 [2, 4, 6]\n",
      "218 [2, 4, 6]\n",
      "220 [2, 4, 6]\n",
      "222 [2, 4, 6]\n",
      "224 [2, 4, 6]\n",
      "226 [2, 4, 6]\n",
      "228 [2, 4, 6]\n",
      "230 [2, 4, 6]\n",
      "232 [2, 4, 6]\n",
      "234 [2, 4, 6]\n",
      "236 [2, 4, 6]\n",
      "238 [2, 4, 6]\n",
      "240 [2, 4, 6]\n",
      "242 [2, 4, 6]\n",
      "244 [2, 4, 6]\n",
      "246 [2, 4, 6]\n",
      "248 [2, 4, 6]\n",
      "250 [2, 4, 6]\n",
      "252 [2, 4, 6]\n",
      "254 [2, 4, 6]\n",
      "256 [2, 4, 6]\n",
      "258 [2, 4, 6]\n",
      "260 [2, 4, 6]\n",
      "262 [2, 4, 6]\n",
      "264 [2, 4, 6]\n",
      "266 [2, 4, 6]\n",
      "268 [2, 4, 6]\n",
      "270 [2, 4, 6]\n",
      "272 [2, 4, 6]\n",
      "274 [2, 4, 6]\n",
      "276 [2, 4, 6]\n",
      "278 [2, 4, 6]\n",
      "280 [2, 4, 6]\n",
      "282 [2, 4, 6]\n",
      "284 [2, 4, 6]\n",
      "286 [2, 4, 6]\n",
      "288 [2, 4, 6]\n",
      "290 [2, 4, 6]\n",
      "292 [2, 4, 6]\n",
      "294 [2, 4, 6]\n",
      "296 [2, 4, 6]\n",
      "298 [2, 4, 6]\n",
      "300 [2, 4, 6]\n",
      "302 [2, 4, 6]\n",
      "304 [2, 4, 6]\n",
      "306 [2, 4, 6]\n",
      "308 [2, 4, 6]\n",
      "310 [2, 4, 6]\n",
      "312 [2, 4, 6]\n",
      "314 [2, 4, 6]\n",
      "316 [2, 4, 6]\n",
      "318 [2, 4, 6]\n",
      "320 [2, 4, 6]\n",
      "322 [2, 4, 6]\n",
      "324 [2, 4, 6]\n",
      "326 [2, 4, 6]\n",
      "328 [2, 4, 6]\n",
      "330 [2, 4, 6]\n",
      "332 [2, 4, 6]\n",
      "334 [2, 4, 6]\n",
      "336 [2, 4, 6]\n",
      "338 [2, 4, 6]\n",
      "340 [2, 4, 6]\n",
      "342 [2, 4, 6]\n",
      "344 [2, 4, 6]\n",
      "346 [2, 4, 6]\n",
      "348 [2, 4, 6]\n",
      "350 [2, 4, 6]\n",
      "352 [2, 4, 6]\n",
      "354 [2, 4, 6]\n",
      "356 [2, 4, 6]\n",
      "358 [2, 4, 6]\n",
      "360 [2, 4, 6]\n",
      "362 [2, 4, 6]\n",
      "364 [2, 4, 6]\n",
      "366 [2, 4, 6]\n",
      "368 [2, 4, 6]\n",
      "370 [2, 4, 6]\n",
      "372 [2, 4, 6]\n",
      "374 [2, 4, 6]\n",
      "376 [2, 4, 6]\n",
      "378 [2, 4, 6]\n",
      "380 [2, 4, 6]\n",
      "382 [2, 4, 6]\n",
      "384 [2, 4, 6]\n",
      "386 [2, 4, 6]\n",
      "388 [2, 4, 6]\n",
      "390 [2, 4, 6]\n",
      "392 [2, 4, 6]\n",
      "394 [2, 4, 6]\n",
      "396 [2, 4, 6]\n",
      "398 [2, 4, 6]\n",
      "400 [2, 4, 6]\n",
      "402 [2, 4, 6]\n",
      "404 [2, 4, 6]\n",
      "406 [2, 4, 6]\n",
      "408 [2, 4, 6]\n",
      "410 [2, 4, 6]\n",
      "412 [2, 4, 6]\n",
      "414 [2, 4, 6]\n",
      "416 [2, 4, 6]\n",
      "418 [2, 4, 6]\n",
      "420 [2, 4, 6]\n",
      "422 [2, 4, 6]\n",
      "424 [2, 4, 6]\n",
      "426 [2, 4, 6]\n",
      "428 [2, 4, 6]\n",
      "430 [2, 4, 6]\n",
      "432 [2, 4, 6]\n",
      "434 [2, 4, 6]\n",
      "436 [2, 4, 6]\n",
      "438 [2, 4, 6]\n",
      "440 [2, 4, 6]\n",
      "442 [2, 4, 6]\n",
      "444 [2, 4, 6]\n",
      "446 [2, 4, 6]\n",
      "448 [2, 4, 6]\n",
      "450 [2, 4, 6]\n",
      "452 [2, 4, 6]\n",
      "454 [2, 4, 6]\n",
      "456 [2, 4, 6]\n",
      "458 [2, 4, 6]\n",
      "460 [2, 4, 6]\n",
      "462 [2, 4, 6]\n",
      "464 [2, 4, 6]\n",
      "466 [2, 4, 6]\n",
      "468 [2, 4, 6]\n",
      "470 [2, 4, 6]\n",
      "472 [2, 4, 6]\n",
      "474 [2, 4, 6]\n",
      "476 [2, 4, 6]\n",
      "478 [2, 4, 6]\n",
      "480 [2, 4, 6]\n",
      "482 [2, 4, 6]\n",
      "484 [2, 4, 6]\n",
      "486 [2, 4, 6]\n",
      "488 [2, 4, 6]\n",
      "490 [2, 4, 6]\n",
      "492 [2, 4, 6]\n",
      "494 [2, 4, 6]\n",
      "496 [2, 4, 6]\n",
      "498 [2, 4, 6]\n",
      "500 [2, 4, 6]\n",
      "502 [2, 4, 6]\n",
      "504 [2, 4, 6]\n",
      "506 [2, 4, 6]\n",
      "508 [2, 4, 6]\n",
      "510 [2, 4, 6]\n",
      "512 [2, 4, 6]\n",
      "514 [2, 4, 6]\n",
      "516 [2, 4, 6]\n",
      "518 [2, 4, 6]\n",
      "520 [2, 4, 6]\n",
      "522 [2, 4, 6]\n",
      "524 [2, 4, 6]\n",
      "526 [2, 4, 6]\n",
      "528 [2, 4, 6]\n",
      "530 [2, 4, 6]\n",
      "532 [2, 4, 6]\n",
      "534 [2, 4, 6]\n",
      "536 [2, 4, 6]\n",
      "538 [2, 4, 6]\n",
      "540 [2, 4, 6]\n",
      "542 [2, 4, 6]\n",
      "544 [2, 4, 6]\n",
      "546 [2, 4, 6]\n",
      "548 [2, 4, 6]\n",
      "550 [2, 4, 6]\n",
      "552 [2, 4, 6]\n",
      "554 [2, 4, 6]\n",
      "556 [2, 4, 6]\n",
      "558 [2, 4, 6]\n",
      "560 [2, 4, 6]\n",
      "562 [2, 4, 6]\n",
      "564 [2, 4, 6]\n",
      "566 [2, 4, 6]\n",
      "568 [2, 4, 6]\n",
      "570 [2, 4, 6]\n",
      "572 [2, 4, 6]\n",
      "574 [2, 4, 6]\n",
      "576 [2, 4, 6]\n",
      "578 [2, 4, 6]\n",
      "580 [2, 4, 6]\n",
      "582 [2, 4, 6]\n",
      "584 [2, 4, 6]\n",
      "586 [2, 4, 6]\n",
      "588 [2, 4, 6]\n",
      "590 [2, 4, 6]\n",
      "592 [2, 4, 6]\n",
      "594 [2, 4, 6]\n",
      "596 [2, 4, 6]\n",
      "598 [2, 4, 6]\n",
      "600 [2, 4, 6]\n",
      "602 [2, 4, 6]\n",
      "604 [2, 4, 6]\n",
      "606 [2, 4, 6]\n",
      "608 [2, 4, 6]\n",
      "610 [2, 4, 6]\n",
      "612 [2, 4, 6]\n",
      "614 [2, 4, 6]\n",
      "616 [2, 4, 6]\n",
      "618 [2, 4, 6]\n",
      "620 [2, 4, 6]\n",
      "622 [2, 4, 6]\n",
      "624 [2, 4, 6]\n",
      "626 [2, 4, 6]\n",
      "628 [2, 4, 6]\n",
      "630 [2, 4, 6]\n",
      "632 [2, 4, 6]\n",
      "634 [2, 4, 6]\n",
      "636 [2, 4, 6]\n",
      "638 [2, 4, 6]\n",
      "640 [2, 4, 6]\n",
      "642 [2, 4, 6]\n",
      "644 [2, 4, 6]\n",
      "646 [2, 4, 6]\n",
      "648 [2, 4, 6]\n",
      "650 [2, 4, 6]\n",
      "652 [2, 4, 6]\n",
      "654 [2, 4, 6]\n",
      "656 [2, 4, 6]\n",
      "658 [2, 4, 6]\n",
      "660 [2, 4, 6]\n",
      "662 [2, 4, 6]\n",
      "664 [2, 4, 6]\n",
      "666 [2, 4, 6]\n",
      "668 [2, 4, 6]\n",
      "670 [2, 4, 6]\n",
      "672 [2, 4, 6]\n",
      "674 [2, 4, 6]\n",
      "676 [2, 4, 6]\n",
      "678 [2, 4, 6]\n",
      "680 [2, 4, 6]\n",
      "682 [2, 4, 6]\n",
      "684 [2, 4, 6]\n",
      "686 [2, 4, 6]\n",
      "688 [2, 4, 6]\n",
      "690 [2, 4, 6]\n",
      "692 [2, 4, 6]\n",
      "694 [2, 4, 6]\n",
      "696 [2, 4, 6]\n",
      "698 [2, 4, 6]\n",
      "700 [2, 4, 6]\n",
      "702 [2, 4, 6]\n",
      "704 [2, 4, 6]\n",
      "706 [2, 4, 6]\n",
      "708 [2, 4, 6]\n",
      "710 [2, 4, 6]\n",
      "712 [2, 4, 6]\n",
      "714 [2, 4, 6]\n",
      "716 [2, 4, 6]\n",
      "718 [2, 4, 6]\n",
      "720 [2, 4, 6]\n",
      "722 [2, 4, 6]\n",
      "724 [2, 4, 6]\n",
      "726 [2, 4, 6]\n",
      "728 [2, 4, 6]\n",
      "730 [2, 4, 6]\n",
      "732 [2, 4, 6]\n",
      "734 [2, 4, 6]\n",
      "736 [2, 4, 6]\n",
      "738 [2, 4, 6]\n",
      "740 [2, 4, 6]\n",
      "742 [2, 4, 6]\n",
      "744 [2, 4, 6]\n",
      "746 [2, 4, 6]\n",
      "748 [2, 4, 6]\n",
      "750 [2, 4, 6]\n",
      "752 [2, 4, 6]\n",
      "754 [2, 4, 6]\n",
      "756 [2, 4, 6]\n",
      "758 [2, 4, 6]\n",
      "760 [2, 4, 6]\n",
      "762 [2, 4, 6]\n",
      "764 [2, 4, 6]\n",
      "766 [2, 4, 6]\n",
      "768 [2, 4, 6]\n",
      "770 [2, 4, 6]\n",
      "772 [2, 4, 6]\n",
      "774 [2, 4, 6]\n",
      "776 [2, 4, 6]\n",
      "778 [2, 4, 6]\n",
      "780 [2, 4, 6]\n",
      "782 [2, 4, 6]\n",
      "784 [2, 4, 6]\n",
      "786 [2, 4, 6]\n",
      "788 [2, 4, 6]\n",
      "790 [2, 4, 6]\n",
      "792 [2, 4, 6]\n",
      "794 [2, 4, 6]\n",
      "796 [2, 4, 6]\n",
      "798 [2, 4, 6]\n",
      "800 [2, 4, 6]\n",
      "802 [2, 4, 6]\n",
      "804 [2, 4, 6]\n",
      "806 [2, 4, 6]\n",
      "808 [2, 4, 6]\n",
      "810 [2, 4, 6]\n",
      "812 [2, 4, 6]\n",
      "814 [2, 4, 6]\n",
      "816 [2, 4, 6]\n",
      "818 [2, 4, 6]\n",
      "820 [2, 4, 6]\n",
      "822 [2, 4, 6]\n",
      "824 [2, 4, 6]\n",
      "826 [2, 4, 6]\n",
      "828 [2, 4, 6]\n",
      "830 [2, 4, 6]\n",
      "832 [2, 4, 6]\n",
      "834 [2, 4, 6]\n",
      "836 [2, 4, 6]\n",
      "838 [2, 4, 6]\n",
      "840 [2, 4, 6]\n",
      "842 [2, 4, 6]\n",
      "844 [2, 4, 6]\n",
      "846 [2, 4, 6]\n",
      "848 [2, 4, 6]\n",
      "850 [2, 4, 6]\n",
      "852 [2, 4, 6]\n",
      "854 [2, 4, 6]\n",
      "856 [2, 4, 6]\n",
      "858 [2, 4, 6]\n",
      "860 [2, 4, 6]\n",
      "862 [2, 4, 6]\n",
      "864 [2, 4, 6]\n",
      "866 [2, 4, 6]\n",
      "868 [2, 4, 6]\n",
      "870 [2, 4, 6]\n",
      "872 [2, 4, 6]\n",
      "874 [2, 4, 6]\n",
      "876 [2, 4, 6]\n",
      "878 [2, 4, 6]\n",
      "880 [2, 4, 6]\n",
      "882 [2, 4, 6]\n",
      "884 [2, 4, 6]\n",
      "886 [2, 4, 6]\n",
      "888 [2, 4, 6]\n",
      "890 [2, 4, 6]\n",
      "892 [2, 4, 6]\n",
      "894 [2, 4, 6]\n",
      "896 [2, 4, 6]\n",
      "898 [2, 4, 6]\n",
      "900 [2, 4, 6]\n",
      "902 [2, 4, 6]\n",
      "904 [2, 4, 6]\n",
      "906 [2, 4, 6]\n",
      "908 [2, 4, 6]\n",
      "910 [2, 4, 6]\n",
      "912 [2, 4, 6]\n",
      "914 [2, 4, 6]\n",
      "916 [2, 4, 6]\n",
      "918 [2, 4, 6]\n",
      "920 [2, 4, 6]\n",
      "922 [2, 4, 6]\n",
      "924 [2, 4, 6]\n",
      "926 [2, 4, 6]\n",
      "928 [2, 4, 6]\n",
      "930 [2, 4, 6]\n",
      "932 [2, 4, 6]\n",
      "934 [2, 4, 6]\n",
      "936 [2, 4, 6]\n",
      "938 [2, 4, 6]\n",
      "940 [2, 4, 6]\n",
      "942 [2, 4, 6]\n",
      "944 [2, 4, 6]\n",
      "946 [2, 4, 6]\n",
      "948 [2, 4, 6]\n",
      "950 [2, 4, 6]\n",
      "952 [2, 4, 6]\n",
      "954 [2, 4, 6]\n",
      "956 [2, 4, 6]\n",
      "958 [2, 4, 6]\n",
      "960 [2, 4, 6]\n",
      "962 [2, 4, 6]\n",
      "964 [2, 4, 6]\n",
      "966 [2, 4, 6]\n",
      "968 [2, 4, 6]\n",
      "970 [2, 4, 6]\n",
      "972 [2, 4, 6]\n",
      "974 [2, 4, 6]\n",
      "976 [2, 4, 6]\n",
      "978 [2, 4, 6]\n",
      "980 [2, 4, 6]\n",
      "982 [2, 4, 6]\n",
      "984 [2, 4, 6]\n",
      "986 [2, 4, 6]\n",
      "988 [2, 4, 6]\n",
      "990 [2, 4, 6]\n",
      "992 [2, 4, 6]\n",
      "994 [2, 4, 6]\n",
      "996 [2, 4, 6]\n",
      "998 [2, 4, 6]\n",
      "1000 [2, 4, 6]\n",
      "1002 [2, 4, 6]\n",
      "1004 [2, 4, 6]\n",
      "1006 [2, 4, 6]\n",
      "1008 [2, 4, 6]\n",
      "1010 [2, 4, 6]\n",
      "1012 [2, 4, 6]\n",
      "1014 [2, 4, 6]\n",
      "1016 [2, 4, 6]\n",
      "1018 [2, 4, 6]\n",
      "1020 [2, 4, 6]\n",
      "1022 [2, 4, 6]\n",
      "1024 [2, 4, 6]\n",
      "1026 [2, 4, 6]\n",
      "1028 [2, 4, 6]\n",
      "1030 [2, 4, 6]\n",
      "1032 [2, 4, 6]\n",
      "1034 [2, 4, 6]\n",
      "1036 [2, 4, 6]\n",
      "1038 [2, 4, 6]\n",
      "1040 [2, 4, 6]\n",
      "1042 [2, 4, 6]\n",
      "1044 [2, 4, 6]\n",
      "1046 [2, 4, 6]\n",
      "1048 [2, 4, 6]\n",
      "1050 [2, 4, 6]\n",
      "1052 [2, 4, 6]\n",
      "1054 [2, 4, 6]\n",
      "1056 [2, 4, 6]\n",
      "1058 [2, 4, 6]\n",
      "1060 [2, 4, 6]\n",
      "1062 [2, 4, 6]\n",
      "1064 [2, 4, 6]\n",
      "1066 [2, 4, 6]\n",
      "1068 [2, 4, 6]\n",
      "1070 [2, 4, 6]\n",
      "1072 [2, 4, 6]\n",
      "1074 [2, 4, 6]\n",
      "1076 [2, 4, 6]\n",
      "1078 [2, 4, 6]\n",
      "1080 [2, 4, 6]\n",
      "1082 [2, 4, 6]\n",
      "1084 [2, 4, 6]\n",
      "1086 [2, 4, 6]\n",
      "1088 [2, 4, 6]\n",
      "1090 [2, 4, 6]\n",
      "1092 [2, 4, 6]\n",
      "1094 [2, 4, 6]\n",
      "1096 [2, 4, 6]\n",
      "1098 [2, 4, 6]\n",
      "1100 [2, 4, 6]\n",
      "1102 [2, 4, 6]\n",
      "1104 [2, 4, 6]\n",
      "1106 [2, 4, 6]\n",
      "1108 [2, 4, 6]\n",
      "1110 [2, 4, 6]\n",
      "1112 [2, 4, 6]\n",
      "1114 [2, 4, 6]\n",
      "1116 [2, 4, 6]\n",
      "1118 [2, 4, 6]\n",
      "1120 [2, 4, 6]\n",
      "1122 [2, 4, 6]\n",
      "1124 [2, 4, 6]\n",
      "1126 [2, 4, 6]\n",
      "1128 [2, 4, 6]\n",
      "1130 [2, 4, 6]\n",
      "1132 [2, 4, 6]\n",
      "1134 [2, 4, 6]\n",
      "1136 [2, 4, 6]\n",
      "1138 [2, 4, 6]\n",
      "1140 [2, 4, 6]\n",
      "1142 [2, 4, 6]\n",
      "1144 [2, 4, 6]\n",
      "1146 [2, 4, 6]\n",
      "1148 [2, 4, 6]\n",
      "1150 [2, 4, 6]\n",
      "1152 [2, 4, 6]\n",
      "1154 [2, 4, 6]\n",
      "1156 [2, 4, 6]\n",
      "1158 [2, 4, 6]\n",
      "1160 [2, 4, 6]\n",
      "1162 [2, 4, 6]\n",
      "1164 [2, 4, 6]\n",
      "1166 [2, 4, 6]\n",
      "1168 [2, 4, 6]\n",
      "1170 [2, 4, 6]\n",
      "1172 [2, 4, 6]\n",
      "1174 [2, 4, 6]\n",
      "1176 [2, 4, 6]\n",
      "1178 [2, 4, 6]\n",
      "1180 [2, 4, 6]\n",
      "1182 [2, 4, 6]\n",
      "1184 [2, 4, 6]\n",
      "1186 [2, 4, 6]\n",
      "1188 [2, 4, 6]\n",
      "1190 [2, 4, 6]\n",
      "1192 [2, 4, 6]\n",
      "1194 [2, 4, 6]\n",
      "1196 [2, 4, 6]\n",
      "1198 [2, 4, 6]\n",
      "1200 [2, 4, 6]\n",
      "1202 [2, 4, 6]\n"
     ]
    },
    {
     "name": "stdout",
     "output_type": "stream",
     "text": [
      "1204 [2, 4, 6]\n",
      "1206 [2, 4, 6]\n",
      "1208 [2, 4, 6]\n",
      "1210 [2, 4, 6]\n",
      "1212 [2, 4, 6]\n",
      "1214 [2, 4, 6]\n",
      "1216 [2, 4, 6]\n",
      "1218 [2, 4, 6]\n",
      "1220 [2, 4, 6]\n",
      "1222 [2, 4, 6]\n",
      "1224 [2, 4, 6]\n",
      "1226 [2, 4, 6]\n",
      "1228 [2, 4, 6]\n",
      "1230 [2, 4, 6]\n",
      "1232 [2, 4, 6]\n",
      "1234 [2, 4, 6]\n",
      "1236 [2, 4, 6]\n",
      "1238 [2, 4, 6]\n",
      "1240 [2, 4, 6]\n",
      "1242 [2, 4, 6]\n",
      "1244 [2, 4, 6]\n",
      "1246 [2, 4, 6]\n",
      "1248 [2, 4, 6]\n",
      "1250 [2, 4, 6]\n",
      "1252 [2, 4, 6]\n",
      "1254 [2, 4, 6]\n",
      "1256 [2, 4, 6]\n",
      "1258 [2, 4, 6]\n",
      "1260 [2, 4, 6]\n",
      "1262 [2, 4, 6]\n",
      "1264 [2, 4, 6]\n",
      "1266 [2, 4, 6]\n",
      "1268 [2, 4, 6]\n",
      "1270 [2, 4, 6]\n",
      "1272 [2, 4, 6]\n",
      "1274 [2, 4, 6]\n",
      "1276 [2, 4, 6]\n",
      "1278 [2, 4, 6]\n",
      "1280 [2, 4, 6]\n",
      "1282 [2, 4, 6]\n",
      "1284 [2, 4, 6]\n",
      "1286 [2, 4, 6]\n",
      "1288 [2, 4, 6]\n",
      "1290 [2, 4, 6]\n",
      "1292 [2, 4, 6]\n",
      "1294 [2, 4, 6]\n",
      "1296 [2, 4, 6]\n",
      "1298 [2, 4, 6]\n",
      "1300 [2, 4, 6]\n",
      "1302 [2, 4, 6]\n",
      "1304 [2, 4, 6]\n",
      "1306 [2, 4, 6]\n",
      "1308 [2, 4, 6]\n",
      "1310 [2, 4, 6]\n",
      "1312 [2, 4, 6]\n",
      "1314 [2, 4, 6]\n",
      "1316 [2, 4, 6]\n",
      "1318 [2, 4, 6]\n",
      "1320 [2, 4, 6]\n",
      "1322 [2, 4, 6]\n",
      "1324 [2, 4, 6]\n",
      "1326 [2, 4, 6]\n",
      "1328 [2, 4, 6]\n",
      "1330 [2, 4, 6]\n",
      "1332 [2, 4, 6]\n",
      "1334 [2, 4, 6]\n",
      "1336 [2, 4, 6]\n",
      "1338 [2, 4, 6]\n",
      "1340 [2, 4, 6]\n",
      "1342 [2, 4, 6]\n",
      "1344 [2, 4, 6]\n",
      "1346 [2, 4, 6]\n",
      "1348 [2, 4, 6]\n",
      "1350 [2, 4, 6]\n",
      "1352 [2, 4, 6]\n",
      "1354 [2, 4, 6]\n",
      "1356 [2, 4, 6]\n",
      "1358 [2, 4, 6]\n",
      "1360 [2, 4, 6]\n",
      "1362 [2, 4, 6]\n",
      "1364 [2, 4, 6]\n",
      "1366 [2, 4, 6]\n",
      "1368 [2, 4, 6]\n",
      "1370 [2, 4, 6]\n",
      "1372 [2, 4, 6]\n",
      "1374 [2, 4, 6]\n",
      "1376 [2, 4, 6]\n",
      "1378 [2, 4, 6]\n",
      "1380 [2, 4, 6]\n",
      "1382 [2, 4, 6]\n",
      "1384 [2, 4, 6]\n",
      "1386 [2, 4, 6]\n",
      "1388 [2, 4, 6]\n",
      "1390 [2, 4, 6]\n",
      "1392 [2, 4, 6]\n",
      "1394 [2, 4, 6]\n",
      "1396 [2, 4, 6]\n",
      "1398 [2, 4, 6]\n",
      "1400 [2, 4, 6]\n",
      "1402 [2, 4, 6]\n",
      "1404 [2, 4, 6]\n",
      "1406 [2, 4, 6]\n",
      "1408 [2, 4, 6]\n",
      "1410 [2, 4, 6]\n",
      "1412 [2, 4, 6]\n",
      "1414 [2, 4, 6]\n",
      "1416 [2, 4, 6]\n",
      "1418 [2, 4, 6]\n",
      "1420 [2, 4, 6]\n",
      "1422 [2, 4, 6]\n",
      "1424 [2, 4, 6]\n",
      "1426 [2, 4, 6]\n",
      "1428 [2, 4, 6]\n",
      "1430 [2, 4, 6]\n",
      "1432 [2, 4, 6]\n",
      "1434 [2, 4, 6]\n",
      "1436 [2, 4, 6]\n",
      "1438 [2, 4, 6]\n",
      "1440 [2, 4, 6]\n",
      "1442 [2, 4, 6]\n",
      "1444 [2, 4, 6]\n",
      "1446 [2, 4, 6]\n",
      "1448 [2, 4, 6]\n",
      "1450 [2, 4, 6]\n",
      "1452 [2, 4, 6]\n",
      "1454 [2, 4, 6]\n",
      "1456 [2, 4, 6]\n",
      "1458 [2, 4, 6]\n",
      "1460 [2, 4, 6]\n",
      "1462 [2, 4, 6]\n",
      "1464 [2, 4, 6]\n",
      "1466 [2, 4, 6]\n",
      "1468 [2, 4, 6]\n",
      "1470 [2, 4, 6]\n",
      "1472 [2, 4, 6]\n",
      "1474 [2, 4, 6]\n",
      "1476 [2, 4, 6]\n",
      "1478 [2, 4, 6]\n",
      "1480 [2, 4, 6]\n",
      "1482 [2, 4, 6]\n",
      "1484 [2, 4, 6]\n",
      "1486 [2, 4, 6]\n",
      "1488 [2, 4, 6]\n",
      "1490 [2, 4, 6]\n",
      "1492 [2, 4, 6]\n",
      "1494 [2, 4, 6]\n",
      "1496 [2, 4, 6]\n",
      "1498 [2, 4, 6]\n",
      "1500 [2, 4, 6]\n",
      "1502 [2, 4, 6]\n",
      "1504 [2, 4, 6]\n",
      "1506 [2, 4, 6]\n",
      "1508 [2, 4, 6]\n",
      "1510 [2, 4, 6]\n",
      "1512 [2, 4, 6]\n",
      "1514 [2, 4, 6]\n",
      "1516 [2, 4, 6]\n",
      "1518 [2, 4, 6]\n",
      "1520 [2, 4, 6]\n",
      "1522 [2, 4, 6]\n",
      "1524 [2, 4, 6]\n",
      "1526 [2, 4, 6]\n",
      "1528 [2, 4, 6]\n",
      "1530 [2, 4, 6]\n",
      "1532 [2, 4, 6]\n",
      "1534 [2, 4, 6]\n",
      "1536 [2, 4, 6]\n",
      "1538 [2, 4, 6]\n",
      "1540 [2, 4, 6]\n",
      "1542 [2, 4, 6]\n",
      "1544 [2, 4, 6]\n",
      "1546 [2, 4, 6]\n",
      "1548 [2, 4, 6]\n",
      "1550 [2, 4, 6]\n",
      "1552 [2, 4, 6]\n",
      "1554 [2, 4, 6]\n",
      "1556 [2, 4, 6]\n",
      "1558 [2, 4, 6]\n",
      "1560 [2, 4, 6]\n",
      "1562 [2, 4, 6]\n",
      "1564 [2, 4, 6]\n",
      "1566 [2, 4, 6]\n",
      "1568 [2, 4, 6]\n",
      "1570 [2, 4, 6]\n",
      "1572 [2, 4, 6]\n",
      "1574 [2, 4, 6]\n",
      "1576 [2, 4, 6]\n",
      "1578 [2, 4, 6]\n",
      "1580 [2, 4, 6]\n",
      "1582 [2, 4, 6]\n",
      "1584 [2, 4, 6]\n",
      "1586 [2, 4, 6]\n",
      "1588 [2, 4, 6]\n",
      "1590 [2, 4, 6]\n",
      "1592 [2, 4, 6]\n",
      "1594 [2, 4, 6]\n",
      "1596 [2, 4, 6]\n",
      "1598 [2, 4, 6]\n",
      "1600 [2, 4, 6]\n",
      "1602 [2, 4, 6]\n",
      "1604 [2, 4, 6]\n",
      "1606 [2, 4, 6]\n",
      "1608 [2, 4, 6]\n",
      "1610 [2, 4, 6]\n",
      "1612 [2, 4, 6]\n",
      "1614 [2, 4, 6]\n",
      "1616 [2, 4, 6]\n",
      "1618 [2, 4, 6]\n",
      "1620 [2, 4, 6]\n",
      "1622 [2, 4, 6]\n",
      "1624 [2, 4, 6]\n",
      "1626 [2, 4, 6]\n",
      "1628 [2, 4, 6]\n",
      "1630 [2, 4, 6]\n",
      "1632 [2, 4, 6]\n",
      "1634 [2, 4, 6]\n",
      "1636 [2, 4, 6]\n",
      "1638 [2, 4, 6]\n",
      "1640 [2, 4, 6]\n",
      "1642 [2, 4, 6]\n",
      "1644 [2, 4, 6]\n",
      "1646 [2, 4, 6]\n",
      "1648 [2, 4, 6]\n",
      "1650 [2, 4, 6]\n",
      "1652 [2, 4, 6]\n",
      "1654 [2, 4, 6]\n",
      "1656 [2, 4, 6]\n",
      "1658 [2, 4, 6]\n",
      "1660 [2, 4, 6]\n",
      "1662 [2, 4, 6]\n",
      "1664 [2, 4, 6]\n",
      "1666 [2, 4, 6]\n",
      "1668 [2, 4, 6]\n",
      "1670 [2, 4, 6]\n",
      "1672 [2, 4, 6]\n",
      "1674 [2, 4, 6]\n",
      "1676 [2, 4, 6]\n",
      "1678 [2, 4, 6]\n",
      "1680 [2, 4, 6]\n",
      "1682 [2, 4, 6]\n",
      "1684 [2, 4, 6]\n",
      "1686 [2, 4, 6]\n",
      "1688 [2, 4, 6]\n",
      "1690 [2, 4, 6]\n",
      "1692 [2, 4, 6]\n",
      "1694 [2, 4, 6]\n",
      "1696 [2, 4, 6]\n",
      "1698 [2, 4, 6]\n",
      "1700 [2, 4, 6]\n",
      "1702 [2, 4, 6]\n",
      "1704 [2, 4, 6]\n",
      "1706 [2, 4, 6]\n",
      "1708 [2, 4, 6]\n",
      "1710 [2, 4, 6]\n",
      "1712 [2, 4, 6]\n",
      "1714 [2, 4, 6]\n",
      "1716 [2, 4, 6]\n",
      "1718 [2, 4, 6]\n",
      "1720 [2, 4, 6]\n",
      "1722 [2, 4, 6]\n",
      "1724 [2, 4, 6]\n",
      "1726 [2, 4, 6]\n",
      "1728 [2, 4, 6]\n",
      "1730 [2, 4, 6]\n",
      "1732 [2, 4, 6]\n",
      "1734 [2, 4, 6]\n",
      "1736 [2, 4, 6]\n",
      "1738 [2, 4, 6]\n",
      "1740 [2, 4, 6]\n",
      "1742 [2, 4, 6]\n",
      "1744 [2, 4, 6]\n",
      "1746 [2, 4, 6]\n",
      "1748 [2, 4, 6]\n",
      "1750 [2, 4, 6]\n",
      "1752 [2, 4, 6]\n",
      "1754 [2, 4, 6]\n",
      "1756 [2, 4, 6]\n",
      "1758 [2, 4, 6]\n",
      "1760 [2, 4, 6]\n",
      "1762 [2, 4, 6]\n",
      "1764 [2, 4, 6]\n",
      "1766 [2, 4, 6]\n",
      "1768 [2, 4, 6]\n",
      "1770 [2, 4, 6]\n",
      "1772 [2, 4, 6]\n",
      "1774 [2, 4, 6]\n",
      "1776 [2, 4, 6]\n",
      "1778 [2, 4, 6]\n",
      "1780 [2, 4, 6]\n",
      "1782 [2, 4, 6]\n",
      "1784 [2, 4, 6]\n",
      "1786 [2, 4, 6]\n",
      "1788 [2, 4, 6]\n",
      "1790 [2, 4, 6]\n",
      "1792 [2, 4, 6]\n",
      "1794 [2, 4, 6]\n",
      "1796 [2, 4, 6]\n",
      "1798 [2, 4, 6]\n",
      "1800 [2, 4, 6]\n",
      "1802 [2, 4, 6]\n",
      "1804 [2, 4, 6]\n",
      "1806 [2, 4, 6]\n",
      "1808 [2, 4, 6]\n",
      "1810 [2, 4, 6]\n",
      "1812 [2, 4, 6]\n",
      "1814 [2, 4, 6]\n",
      "1816 [2, 4, 6]\n",
      "1818 [2, 4, 6]\n",
      "1820 [2, 4, 6]\n",
      "1822 [2, 4, 6]\n",
      "1824 [2, 4, 6]\n",
      "1826 [2, 4, 6]\n",
      "1828 [2, 4, 6]\n",
      "1830 [2, 4, 6]\n",
      "1832 [2, 4, 6]\n",
      "1834 [2, 4, 6]\n",
      "1836 [2, 4, 6]\n",
      "1838 [2, 4, 6]\n",
      "1840 [2, 4, 6]\n",
      "1842 [2, 4, 6]\n",
      "1844 [2, 4, 6]\n",
      "1846 [2, 4, 6]\n",
      "1848 [2, 4, 6]\n",
      "1850 [2, 4, 6]\n",
      "1852 [2, 4, 6]\n",
      "1854 [2, 4, 6]\n",
      "1856 [2, 4, 6]\n",
      "1858 [2, 4, 6]\n",
      "1860 [2, 4, 6]\n",
      "1862 [2, 4, 6]\n",
      "1864 [2, 4, 6]\n",
      "1866 [2, 4, 6]\n",
      "1868 [2, 4, 6]\n",
      "1870 [2, 4, 6]\n",
      "1872 [2, 4, 6]\n",
      "1874 [2, 4, 6]\n",
      "1876 [2, 4, 6]\n",
      "1878 [2, 4, 6]\n",
      "1880 [2, 4, 6]\n",
      "1882 [2, 4, 6]\n",
      "1884 [2, 4, 6]\n",
      "1886 [2, 4, 6]\n",
      "1888 [2, 4, 6]\n",
      "1890 [2, 4, 6]\n",
      "1892 [2, 4, 6]\n",
      "1894 [2, 4, 6]\n",
      "1896 [2, 4, 6]\n",
      "1898 [2, 4, 6]\n",
      "1900 [2, 4, 6]\n",
      "1902 [2, 4, 6]\n",
      "1904 [2, 4, 6]\n",
      "1906 [2, 4, 6]\n",
      "1908 [2, 4, 6]\n",
      "1910 [2, 4, 6]\n",
      "1912 [2, 4, 6]\n",
      "1914 [2, 4, 6]\n",
      "1916 [2, 4, 6]\n",
      "1918 [2, 4, 6]\n",
      "1920 [2, 4, 6]\n",
      "1922 [2, 4, 6]\n",
      "1924 [2, 4, 6]\n",
      "1926 [2, 4, 6]\n",
      "1928 [2, 4, 6]\n",
      "1930 [2, 4, 6]\n",
      "1932 [2, 4, 6]\n",
      "1934 [2, 4, 6]\n",
      "1936 [2, 4, 6]\n",
      "1938 [2, 4, 6]\n",
      "1940 [2, 4, 6]\n",
      "1942 [2, 4, 6]\n",
      "1944 [2, 4, 6]\n",
      "1946 [2, 4, 6]\n",
      "1948 [2, 4, 6]\n",
      "1950 [2, 4, 6]\n",
      "1952 [2, 4, 6]\n",
      "1954 [2, 4, 6]\n",
      "1956 [2, 4, 6]\n",
      "1958 [2, 4, 6]\n",
      "1960 [2, 4, 6]\n",
      "1962 [2, 4, 6]\n",
      "1964 [2, 4, 6]\n",
      "1966 [2, 4, 6]\n",
      "1968 [2, 4, 6]\n",
      "1970 [2, 4, 6]\n",
      "1972 [2, 4, 6]\n",
      "1974 [2, 4, 6]\n",
      "1976 [2, 4, 6]\n",
      "1978 [2, 4, 6]\n",
      "1980 [2, 4, 6]\n",
      "1982 [2, 4, 6]\n",
      "1984 [2, 4, 6]\n",
      "1986 [2, 4, 6]\n",
      "1988 [2, 4, 6]\n",
      "1990 [2, 4, 6]\n",
      "1992 [2, 4, 6]\n",
      "1994 [2, 4, 6]\n",
      "1996 [2, 4, 6]\n",
      "1998 [2, 4, 6]\n",
      "2000 [2, 4, 6]\n",
      "2002 [2, 4, 6]\n",
      "2004 [2, 4, 6]\n",
      "2006 [2, 4, 6]\n",
      "2008 [2, 4, 6]\n",
      "2010 [2, 4, 6]\n",
      "2012 [2, 4, 6]\n",
      "2014 [2, 4, 6]\n",
      "2016 [2, 4, 6]\n",
      "2018 [2, 4, 6]\n",
      "2020 [2, 4, 6]\n",
      "2022 [2, 4, 6]\n",
      "2024 [2, 4, 6]\n",
      "2026 [2, 4, 6]\n",
      "2028 [2, 4, 6]\n",
      "2030 [2, 4, 6]\n",
      "2032 [2, 4, 6]\n",
      "2034 [2, 4, 6]\n",
      "2036 [2, 4, 6]\n",
      "2038 [2, 4, 6]\n",
      "2040 [2, 4, 6]\n",
      "2042 [2, 4, 6]\n",
      "2044 [2, 4, 6]\n",
      "2046 [2, 4, 6]\n",
      "2048 [2, 4, 6]\n",
      "2050 [2, 4, 6]\n",
      "2052 [2, 4, 6]\n",
      "2054 [2, 4, 6]\n",
      "2056 [2, 4, 6]\n",
      "2058 [2, 4, 6]\n",
      "2060 [2, 4, 6]\n",
      "2062 [2, 4, 6]\n",
      "2064 [2, 4, 6]\n",
      "2066 [2, 4, 6]\n",
      "2068 [2, 4, 6]\n",
      "2070 [2, 4, 6]\n",
      "2072 [2, 4, 6]\n",
      "2074 [2, 4, 6]\n",
      "2076 [2, 4, 6]\n",
      "2078 [2, 4, 6]\n",
      "2080 [2, 4, 6]\n",
      "2082 [2, 4, 6]\n",
      "2084 [2, 4, 6]\n",
      "2086 [2, 4, 6]\n",
      "2088 [2, 4, 6]\n",
      "2090 [2, 4, 6]\n",
      "2092 [2, 4, 6]\n",
      "2094 [2, 4, 6]\n",
      "2096 [2, 4, 6]\n",
      "2098 [2, 4, 6]\n",
      "2100 [2, 4, 6]\n",
      "2102 [2, 4, 6]\n",
      "2104 [2, 4, 6]\n",
      "2106 [2, 4, 6]\n",
      "2108 [2, 4, 6]\n",
      "2110 [2, 4, 6]\n",
      "2112 [2, 4, 6]\n",
      "2114 [2, 4, 6]\n",
      "2116 [2, 4, 6]\n",
      "2118 [2, 4, 6]\n",
      "2120 [2, 4, 6]\n",
      "2122 [2, 4, 6]\n",
      "2124 [2, 4, 6]\n",
      "2126 [2, 4, 6]\n",
      "2128 [2, 4, 6]\n",
      "2130 [2, 4, 6]\n",
      "2132 [2, 4, 6]\n",
      "2134 [2, 4, 6]\n",
      "2136 [2, 4, 6]\n",
      "2138 [2, 4, 6]\n",
      "2140 [2, 4, 6]\n",
      "2142 [2, 4, 6]\n",
      "2144 [2, 4, 6]\n",
      "2146 [2, 4, 6]\n",
      "2148 [2, 4, 6]\n",
      "2150 [2, 4, 6]\n",
      "2152 [2, 4, 6]\n",
      "2154 [2, 4, 6]\n",
      "2156 [2, 4, 6]\n",
      "2158 [2, 4, 6]\n",
      "2160 [2, 4, 6]\n",
      "2162 [2, 4, 6]\n",
      "2164 [2, 4, 6]\n",
      "2166 [2, 4, 6]\n",
      "2168 [2, 4, 6]\n",
      "2170 [2, 4, 6]\n",
      "2172 [2, 4, 6]\n",
      "2174 [2, 4, 6]\n",
      "2176 [2, 4, 6]\n",
      "2178 [2, 4, 6]\n",
      "2180 [2, 4, 6]\n",
      "2182 [2, 4, 6]\n",
      "2184 [2, 4, 6]\n",
      "2186 [2, 4, 6]\n",
      "2188 [2, 4, 6]\n",
      "2190 [2, 4, 6]\n",
      "2192 [2, 4, 6]\n",
      "2194 [2, 4, 6]\n",
      "2196 [2, 4, 6]\n",
      "2198 [2, 4, 6]\n",
      "2200 [2, 4, 6]\n",
      "2202 [2, 4, 6]\n",
      "2204 [2, 4, 6]\n",
      "2206 [2, 4, 6]\n",
      "2208 [2, 4, 6]\n",
      "2210 [2, 4, 6]\n",
      "2212 [2, 4, 6]\n",
      "2214 [2, 4, 6]\n",
      "2216 [2, 4, 6]\n",
      "2218 [2, 4, 6]\n",
      "2220 [2, 4, 6]\n",
      "2222 [2, 4, 6]\n",
      "2224 [2, 4, 6]\n",
      "2226 [2, 4, 6]\n",
      "2228 [2, 4, 6]\n",
      "2230 [2, 4, 6]\n",
      "2232 [2, 4, 6]\n",
      "2234 [2, 4, 6]\n",
      "2236 [2, 4, 6]\n",
      "2238 [2, 4, 6]\n",
      "2240 [2, 4, 6]\n",
      "2242 [2, 4, 6]\n",
      "2244 [2, 4, 6]\n",
      "2246 [2, 4, 6]\n",
      "2248 [2, 4, 6]\n",
      "2250 [2, 4, 6]\n",
      "2252 [2, 4, 6]\n",
      "2254 [2, 4, 6]\n",
      "2256 [2, 4, 6]\n",
      "2258 [2, 4, 6]\n",
      "2260 [2, 4, 6]\n",
      "2262 [2, 4, 6]\n",
      "2264 [2, 4, 6]\n",
      "2266 [2, 4, 6]\n",
      "2268 [2, 4, 6]\n",
      "2270 [2, 4, 6]\n",
      "2272 [2, 4, 6]\n",
      "2274 [2, 4, 6]\n",
      "2276 [2, 4, 6]\n",
      "2278 [2, 4, 6]\n",
      "2280 [2, 4, 6]\n",
      "2282 [2, 4, 6]\n",
      "2284 [2, 4, 6]\n",
      "2286 [2, 4, 6]\n",
      "2288 [2, 4, 6]\n",
      "2290 [2, 4, 6]\n",
      "2292 [2, 4, 6]\n",
      "2294 [2, 4, 6]\n",
      "2296 [2, 4, 6]\n",
      "2298 [2, 4, 6]\n",
      "2300 [2, 4, 6]\n",
      "2302 [2, 4, 6]\n",
      "2304 [2, 4, 6]\n",
      "2306 [2, 4, 6]\n",
      "2308 [2, 4, 6]\n",
      "2310 [2, 4, 6]\n",
      "2312 [2, 4, 6]\n",
      "2314 [2, 4, 6]\n",
      "2316 [2, 4, 6]\n",
      "2318 [2, 4, 6]\n",
      "2320 [2, 4, 6]\n",
      "2322 [2, 4, 6]\n",
      "2324 [2, 4, 6]\n",
      "2326 [2, 4, 6]\n",
      "2328 [2, 4, 6]\n",
      "2330 [2, 4, 6]\n",
      "2332 [2, 4, 6]\n",
      "2334 [2, 4, 6]\n",
      "2336 [2, 4, 6]\n",
      "2338 [2, 4, 6]\n",
      "2340 [2, 4, 6]\n",
      "2342 [2, 4, 6]\n",
      "2344 [2, 4, 6]\n",
      "2346 [2, 4, 6]\n",
      "2348 [2, 4, 6]\n",
      "2350 [2, 4, 6]\n",
      "2352 [2, 4, 6]\n",
      "2354 [2, 4, 6]\n",
      "2356 [2, 4, 6]\n",
      "2358 [2, 4, 6]\n",
      "2360 [2, 4, 6]\n",
      "2362 [2, 4, 6]\n",
      "2364 [2, 4, 6]\n",
      "2366 [2, 4, 6]\n",
      "2368 [2, 4, 6]\n",
      "2370 [2, 4, 6]\n",
      "2372 [2, 4, 6]\n",
      "2374 [2, 4, 6]\n",
      "2376 [2, 4, 6]\n",
      "2378 [2, 4, 6]\n",
      "2380 [2, 4, 6]\n",
      "2382 [2, 4, 6]\n",
      "2384 [2, 4, 6]\n",
      "2386 [2, 4, 6]\n",
      "2388 [2, 4, 6]\n",
      "2390 [2, 4, 6]\n",
      "2392 [2, 4, 6]\n",
      "2394 [2, 4, 6]\n",
      "2396 [2, 4, 6]\n",
      "2398 [2, 4, 6]\n",
      "2400 [2, 4, 6]\n",
      "2402 [2, 4, 6]\n",
      "2404 [2, 4, 6]\n",
      "2406 [2, 4, 6]\n",
      "2408 [2, 4, 6]\n",
      "2410 [2, 4, 6]\n",
      "2412 [2, 4, 6]\n",
      "2414 [2, 4, 6]\n",
      "2416 [2, 4, 6]\n",
      "2418 [2, 4, 6]\n",
      "2420 [2, 4, 6]\n",
      "2422 [2, 4, 6]\n",
      "2424 [2, 4, 6]\n",
      "2426 [2, 4, 6]\n",
      "2428 [2, 4, 6]\n",
      "2430 [2, 4, 6]\n"
     ]
    },
    {
     "name": "stdout",
     "output_type": "stream",
     "text": [
      "2432 [2, 4, 6]\n",
      "2434 [2, 4, 6]\n",
      "2436 [2, 4, 6]\n",
      "2438 [2, 4, 6]\n",
      "2440 [2, 4, 6]\n",
      "2442 [2, 4, 6]\n",
      "2444 [2, 4, 6]\n",
      "2446 [2, 4, 6]\n",
      "2448 [2, 4, 6]\n",
      "2450 [2, 4, 6]\n",
      "2452 [2, 4, 6]\n",
      "2454 [2, 4, 6]\n",
      "2456 [2, 4, 6]\n",
      "2458 [2, 4, 6]\n",
      "2460 [2, 4, 6]\n",
      "2462 [2, 4, 6]\n",
      "2464 [2, 4, 6]\n",
      "2466 [2, 4, 6]\n",
      "2468 [2, 4, 6]\n",
      "2470 [2, 4, 6]\n",
      "2472 [2, 4, 6]\n",
      "2474 [2, 4, 6]\n",
      "2476 [2, 4, 6]\n",
      "2478 [2, 4, 6]\n",
      "2480 [2, 4, 6]\n",
      "2482 [2, 4, 6]\n",
      "2484 [2, 4, 6]\n",
      "2486 [2, 4, 6]\n",
      "2488 [2, 4, 6]\n",
      "2490 [2, 4, 6]\n",
      "2492 [2, 4, 6]\n",
      "2494 [2, 4, 6]\n",
      "2496 [2, 4, 6]\n",
      "2498 [2, 4, 6]\n",
      "2500 [2, 4, 6]\n",
      "2502 [2, 4, 6]\n",
      "2504 [2, 4, 6]\n",
      "2506 [2, 4, 6]\n",
      "2508 [2, 4, 6]\n",
      "2510 [2, 4, 6]\n",
      "2512 [2, 4, 6]\n",
      "2514 [2, 4, 6]\n",
      "2516 [2, 4, 6]\n",
      "2518 [2, 4, 6]\n",
      "2520 [2, 4, 6]\n",
      "2522 [2, 4, 6]\n",
      "2524 [2, 4, 6]\n",
      "2526 [2, 4, 6]\n",
      "2528 [2, 4, 6]\n",
      "2530 [2, 4, 6]\n",
      "2532 [2, 4, 6]\n",
      "2534 [2, 4, 6]\n",
      "2536 [2, 4, 6]\n",
      "2538 [2, 4, 6]\n",
      "2540 [2, 4, 6]\n",
      "2542 [2, 4, 6]\n",
      "2544 [2, 4, 6]\n",
      "2546 [2, 4, 6]\n",
      "2548 [2, 4, 6]\n",
      "2550 [2, 4, 6]\n",
      "2552 [2, 4, 6]\n",
      "2554 [2, 4, 6]\n",
      "2556 [2, 4, 6]\n",
      "2558 [2, 4, 6]\n",
      "2560 [2, 4, 6]\n",
      "2562 [2, 4, 6]\n",
      "2564 [2, 4, 6]\n",
      "2566 [2, 4, 6]\n",
      "2568 [2, 4, 6]\n",
      "2570 [2, 4, 6]\n",
      "2572 [2, 4, 6]\n",
      "2574 [2, 4, 6]\n",
      "2576 [2, 4, 6]\n",
      "2578 [2, 4, 6]\n",
      "2580 [2, 4, 6]\n",
      "2582 [2, 4, 6]\n",
      "2584 [2, 4, 6]\n",
      "2586 [2, 4, 6]\n",
      "2588 [2, 4, 6]\n",
      "2590 [2, 4, 6]\n",
      "2592 [2, 4, 6]\n",
      "2594 [2, 4, 6]\n",
      "2596 [2, 4, 6]\n",
      "2598 [2, 4, 6]\n",
      "2600 [2, 4, 6]\n",
      "2602 [2, 4, 6]\n",
      "2604 [2, 4, 6]\n",
      "2606 [2, 4, 6]\n",
      "2608 [2, 4, 6]\n",
      "2610 [2, 4, 6]\n",
      "2612 [2, 4, 6]\n",
      "2614 [2, 4, 6]\n",
      "2616 [2, 4, 6]\n",
      "2618 [2, 4, 6]\n",
      "2620 [2, 4, 6]\n",
      "2622 [2, 4, 6]\n",
      "2624 [2, 4, 6]\n",
      "2626 [2, 4, 6]\n",
      "2628 [2, 4, 6]\n",
      "2630 [2, 4, 6]\n",
      "2632 [2, 4, 6]\n",
      "2634 [2, 4, 6]\n",
      "2636 [2, 4, 6]\n",
      "2638 [2, 4, 6]\n",
      "2640 [2, 4, 6]\n",
      "2642 [2, 4, 6]\n",
      "2644 [2, 4, 6]\n",
      "2646 [2, 4, 6]\n",
      "2648 [2, 4, 6]\n",
      "2650 [2, 4, 6]\n",
      "2652 [2, 4, 6]\n",
      "2654 [2, 4, 6]\n",
      "2656 [2, 4, 6]\n",
      "2658 [2, 4, 6]\n",
      "2660 [2, 4, 6]\n",
      "2662 [2, 4, 6]\n",
      "2664 [2, 4, 6]\n",
      "2666 [2, 4, 6]\n",
      "2668 [2, 4, 6]\n",
      "2670 [2, 4, 6]\n",
      "2672 [2, 4, 6]\n",
      "2674 [2, 4, 6]\n",
      "2676 [2, 4, 6]\n",
      "2678 [2, 4, 6]\n",
      "2680 [2, 4, 6]\n",
      "2682 [2, 4, 6]\n",
      "2684 [2, 4, 6]\n",
      "2686 [2, 4, 6]\n",
      "2688 [2, 4, 6]\n",
      "2690 [2, 4, 6]\n",
      "2692 [2, 4, 6]\n",
      "2694 [2, 4, 6]\n",
      "2696 [2, 4, 6]\n",
      "2698 [2, 4, 6]\n",
      "2700 [2, 4, 6]\n",
      "2702 [2, 4, 6]\n",
      "2704 [2, 4, 6]\n",
      "2706 [2, 4, 6]\n",
      "2708 [2, 4, 6]\n",
      "2710 [2, 4, 6]\n",
      "2712 [2, 4, 6]\n",
      "2714 [2, 4, 6]\n",
      "2716 [2, 4, 6]\n",
      "2718 [2, 4, 6]\n",
      "2720 [2, 4, 6]\n",
      "2722 [2, 4, 6]\n",
      "2724 [2, 4, 6]\n",
      "2726 [2, 4, 6]\n",
      "2728 [2, 4, 6]\n",
      "2730 [2, 4, 6]\n",
      "2732 [2, 4, 6]\n",
      "2734 [2, 4, 6]\n",
      "2736 [2, 4, 6]\n",
      "2738 [2, 4, 6]\n",
      "2740 [2, 4, 6]\n",
      "2742 [2, 4, 6]\n",
      "2744 [2, 4, 6]\n",
      "2746 [2, 4, 6]\n",
      "2748 [2, 4, 6]\n",
      "2750 [2, 4, 6]\n",
      "2752 [2, 4, 6]\n",
      "2754 [2, 4, 6]\n",
      "2756 [2, 4, 6]\n",
      "2758 [2, 4, 6]\n",
      "2760 [2, 4, 6]\n",
      "2762 [2, 4, 6]\n",
      "2764 [2, 4, 6]\n",
      "2766 [2, 4, 6]\n",
      "2768 [2, 4, 6]\n",
      "2770 [2, 4, 6]\n",
      "2772 [2, 4, 6]\n",
      "2774 [2, 4, 6]\n",
      "2776 [2, 4, 6]\n",
      "2778 [2, 4, 6]\n",
      "2780 [2, 4, 6]\n",
      "2782 [2, 4, 6]\n",
      "2784 [2, 4, 6]\n",
      "2786 [2, 4, 6]\n",
      "2788 [2, 4, 6]\n",
      "2790 [2, 4, 6]\n",
      "2792 [2, 4, 6]\n",
      "2794 [2, 4, 6]\n",
      "2796 [2, 4, 6]\n",
      "2798 [2, 4, 6]\n",
      "2800 [2, 4, 6]\n",
      "2802 [2, 4, 6]\n",
      "2804 [2, 4, 6]\n",
      "2806 [2, 4, 6]\n",
      "2808 [2, 4, 6]\n",
      "2810 [2, 4, 6]\n",
      "2812 [2, 4, 6]\n",
      "2814 [2, 4, 6]\n",
      "2816 [2, 4, 6]\n",
      "2818 [2, 4, 6]\n",
      "2820 [2, 4, 6]\n",
      "2822 [2, 4, 6]\n",
      "2824 [2, 4, 6]\n",
      "2826 [2, 4, 6]\n",
      "2828 [2, 4, 6]\n",
      "2830 [2, 4, 6]\n",
      "2832 [2, 4, 6]\n",
      "2834 [2, 4, 6]\n",
      "2836 [2, 4, 6]\n",
      "2838 [2, 4, 6]\n",
      "2840 [2, 4, 6]\n",
      "2842 [2, 4, 6]\n",
      "2844 [2, 4, 6]\n",
      "2846 [2, 4, 6]\n",
      "2848 [2, 4, 6]\n",
      "2850 [2, 4, 6]\n",
      "2852 [2, 4, 6]\n",
      "2854 [2, 4, 6]\n",
      "2856 [2, 4, 6]\n",
      "2858 [2, 4, 6]\n",
      "2860 [2, 4, 6]\n",
      "2862 [2, 4, 6]\n",
      "2864 [2, 4, 6]\n",
      "2866 [2, 4, 6]\n",
      "2868 [2, 4, 6]\n",
      "2870 [2, 4, 6]\n",
      "2872 [2, 4, 6]\n",
      "2874 [2, 4, 6]\n",
      "2876 [2, 4, 6]\n",
      "2878 [2, 4, 6]\n",
      "2880 [2, 4, 6]\n",
      "2882 [2, 4, 6]\n",
      "2884 [2, 4, 6]\n",
      "2886 [2, 4, 6]\n",
      "2888 [2, 4, 6]\n",
      "2890 [2, 4, 6]\n",
      "2892 [2, 4, 6]\n",
      "2894 [2, 4, 6]\n",
      "2896 [2, 4, 6]\n",
      "2898 [2, 4, 6]\n",
      "2900 [2, 4, 6]\n",
      "2902 [2, 4, 6]\n",
      "2904 [2, 4, 6]\n",
      "2906 [2, 4, 6]\n",
      "2908 [2, 4, 6]\n",
      "2910 [2, 4, 6]\n",
      "2912 [2, 4, 6]\n",
      "2914 [2, 4, 6]\n",
      "2916 [2, 4, 6]\n",
      "2918 [2, 4, 6]\n",
      "2920 [2, 4, 6]\n",
      "2922 [2, 4, 6]\n",
      "2924 [2, 4, 6]\n",
      "2926 [2, 4, 6]\n",
      "2928 [2, 4, 6]\n",
      "2930 [2, 4, 6]\n",
      "2932 [2, 4, 6]\n",
      "2934 [2, 4, 6]\n",
      "2936 [2, 4, 6]\n",
      "2938 [2, 4, 6]\n",
      "2940 [2, 4, 6]\n",
      "2942 [2, 4, 6]\n",
      "2944 [2, 4, 6]\n",
      "2946 [2, 4, 6]\n",
      "2948 [2, 4, 6]\n",
      "2950 [2, 4, 6]\n",
      "2952 [2, 4, 6]\n",
      "2954 [2, 4, 6]\n",
      "2956 [2, 4, 6]\n",
      "2958 [2, 4, 6]\n",
      "2960 [2, 4, 6]\n",
      "2962 [2, 4, 6]\n",
      "2964 [2, 4, 6]\n",
      "2966 [2, 4, 6]\n",
      "2968 [2, 4, 6]\n",
      "2970 [2, 4, 6]\n",
      "2972 [2, 4, 6]\n",
      "2974 [2, 4, 6]\n",
      "2976 [2, 4, 6]\n",
      "2978 [2, 4, 6]\n",
      "2980 [2, 4, 6]\n",
      "2982 [2, 4, 6]\n",
      "2984 [2, 4, 6]\n",
      "2986 [2, 4, 6]\n",
      "2988 [2, 4, 6]\n",
      "2990 [2, 4, 6]\n",
      "2992 [2, 4, 6]\n",
      "2994 [2, 4, 6]\n",
      "2996 [2, 4, 6]\n",
      "2998 [2, 4, 6]\n",
      "3000 [2, 4, 6]\n",
      "3002 [2, 4, 6]\n",
      "3004 [2, 4, 6]\n",
      "3006 [2, 4, 6]\n",
      "3008 [2, 4, 6]\n",
      "3010 [2, 4, 6]\n",
      "3012 [2, 4, 6]\n",
      "3014 [2, 4, 6]\n",
      "3016 [2, 4, 6]\n",
      "3018 [2, 4, 6]\n",
      "3020 [2, 4, 6]\n",
      "3022 [2, 4, 6]\n",
      "3024 [2, 4, 6]\n",
      "3026 [2, 4, 6]\n",
      "3028 [2, 4, 6]\n",
      "3030 [2, 4, 6]\n",
      "3032 [2, 4, 6]\n",
      "3034 [2, 4, 6]\n",
      "3036 [2, 4, 6]\n",
      "3038 [2, 4, 6]\n",
      "3040 [2, 4, 6]\n",
      "3042 [2, 4, 6]\n",
      "3044 [2, 4, 6]\n",
      "3046 [2, 4, 6]\n",
      "3048 [2, 4, 6]\n",
      "3050 [2, 4, 6]\n",
      "3052 [2, 4, 6]\n",
      "3054 [2, 4, 6]\n",
      "3056 [2, 4, 6]\n",
      "3058 [2, 4, 6]\n",
      "3060 [2, 4, 6]\n",
      "3062 [2, 4, 6]\n",
      "3064 [2, 4, 6]\n",
      "3066 [2, 4, 6]\n",
      "3068 [2, 4, 6]\n",
      "3070 [2, 4, 6]\n",
      "3072 [2, 4, 6]\n",
      "3074 [2, 4, 6]\n",
      "3076 [2, 4, 6]\n",
      "3078 [2, 4, 6]\n",
      "3080 [2, 4, 6]\n",
      "3082 [2, 4, 6]\n",
      "3084 [2, 4, 6]\n",
      "3086 [2, 4, 6]\n",
      "3088 [2, 4, 6]\n",
      "3090 [2, 4, 6]\n",
      "3092 [2, 4, 6]\n",
      "3094 [2, 4, 6]\n",
      "3096 [2, 4, 6]\n",
      "3098 [2, 4, 6]\n",
      "3100 [2, 4, 6]\n",
      "3102 [2, 4, 6]\n",
      "3104 [2, 4, 6]\n",
      "3106 [2, 4, 6]\n",
      "3108 [2, 4, 6]\n",
      "3110 [2, 4, 6]\n",
      "3112 [2, 4, 6]\n",
      "3114 [2, 4, 6]\n",
      "3116 [2, 4, 6]\n",
      "3118 [2, 4, 6]\n",
      "3120 [2, 4, 6]\n",
      "3122 [2, 4, 6]\n",
      "3124 [2, 4, 6]\n",
      "3126 [2, 4, 6]\n",
      "3128 [2, 4, 6]\n",
      "3130 [2, 4, 6]\n",
      "3132 [2, 4, 6]\n",
      "3134 [2, 4, 6]\n",
      "3136 [2, 4, 6]\n",
      "3138 [2, 4, 6]\n",
      "3140 [2, 4, 6]\n",
      "3142 [2, 4, 6]\n",
      "3144 [2, 4, 6]\n",
      "3146 [2, 4, 6]\n",
      "3148 [2, 4, 6]\n",
      "3150 [2, 4, 6]\n",
      "3152 [2, 4, 6]\n",
      "3154 [2, 4, 6]\n",
      "3156 [2, 4, 6]\n",
      "3158 [2, 4, 6]\n",
      "3160 [2, 4, 6]\n",
      "3162 [2, 4, 6]\n",
      "3164 [2, 4, 6]\n",
      "3166 [2, 4, 6]\n",
      "3168 [2, 4, 6]\n",
      "3170 [2, 4, 6]\n",
      "3172 [2, 4, 6]\n",
      "3174 [2, 4, 6]\n",
      "3176 [2, 4, 6]\n",
      "3178 [2, 4, 6]\n",
      "3180 [2, 4, 6]\n",
      "3182 [2, 4, 6]\n",
      "3184 [2, 4, 6]\n",
      "3186 [2, 4, 6]\n",
      "3188 [2, 4, 6]\n",
      "3190 [2, 4, 6]\n",
      "3192 [2, 4, 6]\n",
      "3194 [2, 4, 6]\n",
      "3196 [2, 4, 6]\n",
      "3198 [2, 4, 6]\n",
      "3200 [2, 4, 6]\n",
      "3202 [2, 4, 6]\n",
      "3204 [2, 4, 6]\n",
      "3206 [2, 4, 6]\n",
      "3208 [2, 4, 6]\n",
      "3210 [2, 4, 6]\n",
      "3212 [2, 4, 6]\n",
      "3214 [2, 4, 6]\n",
      "3216 [2, 4, 6]\n",
      "3218 [2, 4, 6]\n",
      "3220 [2, 4, 6]\n",
      "3222 [2, 4, 6]\n",
      "3224 [2, 4, 6]\n",
      "3226 [2, 4, 6]\n",
      "3228 [2, 4, 6]\n",
      "3230 [2, 4, 6]\n",
      "3232 [2, 4, 6]\n",
      "3234 [2, 4, 6]\n",
      "3236 [2, 4, 6]\n",
      "3238 [2, 4, 6]\n",
      "3240 [2, 4, 6]\n",
      "3242 [2, 4, 6]\n",
      "3244 [2, 4, 6]\n",
      "3246 [2, 4, 6]\n",
      "3248 [2, 4, 6]\n",
      "3250 [2, 4, 6]\n",
      "3252 [2, 4, 6]\n",
      "3254 [2, 4, 6]\n",
      "3256 [2, 4, 6]\n",
      "3258 [2, 4, 6]\n",
      "3260 [2, 4, 6]\n",
      "3262 [2, 4, 6]\n",
      "3264 [2, 4, 6]\n",
      "3266 [2, 4, 6]\n",
      "3268 [2, 4, 6]\n",
      "3270 [2, 4, 6]\n",
      "3272 [2, 4, 6]\n",
      "3274 [2, 4, 6]\n",
      "3276 [2, 4, 6]\n",
      "3278 [2, 4, 6]\n",
      "3280 [2, 4, 6]\n",
      "3282 [2, 4, 6]\n",
      "3284 [2, 4, 6]\n",
      "3286 [2, 4, 6]\n",
      "3288 [2, 4, 6]\n",
      "3290 [2, 4, 6]\n",
      "3292 [2, 4, 6]\n",
      "3294 [2, 4, 6]\n",
      "3296 [2, 4, 6]\n",
      "3298 [2, 4, 6]\n",
      "3300 [2, 4, 6]\n",
      "3302 [2, 4, 6]\n",
      "3304 [2, 4, 6]\n",
      "3306 [2, 4, 6]\n",
      "3308 [2, 4, 6]\n",
      "3310 [2, 4, 6]\n",
      "3312 [2, 4, 6]\n",
      "3314 [2, 4, 6]\n",
      "3316 [2, 4, 6]\n",
      "3318 [2, 4, 6]\n",
      "3320 [2, 4, 6]\n",
      "3322 [2, 4, 6]\n",
      "3324 [2, 4, 6]\n",
      "3326 [2, 4, 6]\n",
      "3328 [2, 4, 6]\n",
      "3330 [2, 4, 6]\n",
      "3332 [2, 4, 6]\n",
      "3334 [2, 4, 6]\n",
      "3336 [2, 4, 6]\n",
      "3338 [2, 4, 6]\n",
      "3340 [2, 4, 6]\n",
      "3342 [2, 4, 6]\n",
      "3344 [2, 4, 6]\n",
      "3346 [2, 4, 6]\n",
      "3348 [2, 4, 6]\n",
      "3350 [2, 4, 6]\n",
      "3352 [2, 4, 6]\n",
      "3354 [2, 4, 6]\n",
      "3356 [2, 4, 6]\n",
      "3358 [2, 4, 6]\n",
      "3360 [2, 4, 6]\n",
      "3362 [2, 4, 6]\n",
      "3364 [2, 4, 6]\n",
      "3366 [2, 4, 6]\n",
      "3368 [2, 4, 6]\n",
      "3370 [2, 4, 6]\n",
      "3372 [2, 4, 6]\n",
      "3374 [2, 4, 6]\n",
      "3376 [2, 4, 6]\n",
      "3378 [2, 4, 6]\n",
      "3380 [2, 4, 6]\n",
      "3382 [2, 4, 6]\n",
      "3384 [2, 4, 6]\n",
      "3386 [2, 4, 6]\n",
      "3388 [2, 4, 6]\n",
      "3390 [2, 4, 6]\n",
      "3392 [2, 4, 6]\n",
      "3394 [2, 4, 6]\n",
      "3396 [2, 4, 6]\n",
      "3398 [2, 4, 6]\n",
      "3400 [2, 4, 6]\n",
      "3402 [2, 4, 6]\n",
      "3404 [2, 4, 6]\n",
      "3406 [2, 4, 6]\n",
      "3408 [2, 4, 6]\n",
      "3410 [2, 4, 6]\n",
      "3412 [2, 4, 6]\n",
      "3414 [2, 4, 6]\n",
      "3416 [2, 4, 6]\n",
      "3418 [2, 4, 6]\n",
      "3420 [2, 4, 6]\n",
      "3422 [2, 4, 6]\n",
      "3424 [2, 4, 6]\n",
      "3426 [2, 4, 6]\n",
      "3428 [2, 4, 6]\n",
      "3430 [2, 4, 6]\n",
      "3432 [2, 4, 6]\n",
      "3434 [2, 4, 6]\n",
      "3436 [2, 4, 6]\n",
      "3438 [2, 4, 6]\n",
      "3440 [2, 4, 6]\n",
      "3442 [2, 4, 6]\n",
      "3444 [2, 4, 6]\n",
      "3446 [2, 4, 6]\n",
      "3448 [2, 4, 6]\n",
      "3450 [2, 4, 6]\n",
      "3452 [2, 4, 6]\n",
      "3454 [2, 4, 6]\n",
      "3456 [2, 4, 6]\n",
      "3458 [2, 4, 6]\n",
      "3460 [2, 4, 6]\n",
      "3462 [2, 4, 6]\n",
      "3464 [2, 4, 6]\n",
      "3466 [2, 4, 6]\n",
      "3468 [2, 4, 6]\n",
      "3470 [2, 4, 6]\n",
      "3472 [2, 4, 6]\n",
      "3474 [2, 4, 6]\n",
      "3476 [2, 4, 6]\n",
      "3478 [2, 4, 6]\n",
      "3480 [2, 4, 6]\n",
      "3482 [2, 4, 6]\n",
      "3484 [2, 4, 6]\n",
      "3486 [2, 4, 6]\n",
      "3488 [2, 4, 6]\n",
      "3490 [2, 4, 6]\n",
      "3492 [2, 4, 6]\n",
      "3494 [2, 4, 6]\n",
      "3496 [2, 4, 6]\n",
      "3498 [2, 4, 6]\n",
      "3500 [2, 4, 6]\n",
      "3502 [2, 4, 6]\n",
      "3504 [2, 4, 6]\n",
      "3506 [2, 4, 6]\n",
      "3508 [2, 4, 6]\n",
      "3510 [2, 4, 6]\n",
      "3512 [2, 4, 6]\n",
      "3514 [2, 4, 6]\n",
      "3516 [2, 4, 6]\n",
      "3518 [2, 4, 6]\n",
      "3520 [2, 4, 6]\n",
      "3522 [2, 4, 6]\n",
      "3524 [2, 4, 6]\n",
      "3526 [2, 4, 6]\n",
      "3528 [2, 4, 6]\n",
      "3530 [2, 4, 6]\n",
      "3532 [2, 4, 6]\n",
      "3534 [2, 4, 6]\n",
      "3536 [2, 4, 6]\n",
      "3538 [2, 4, 6]\n",
      "3540 [2, 4, 6]\n",
      "3542 [2, 4, 6]\n",
      "3544 [2, 4, 6]\n",
      "3546 [2, 4, 6]\n",
      "3548 [2, 4, 6]\n",
      "3550 [2, 4, 6]\n",
      "3552 [2, 4, 6]\n",
      "3554 [2, 4, 6]\n",
      "3556 [2, 4, 6]\n",
      "3558 [2, 4, 6]\n",
      "3560 [2, 4, 6]\n",
      "3562 [2, 4, 6]\n",
      "3564 [2, 4, 6]\n",
      "3566 [2, 4, 6]\n",
      "3568 [2, 4, 6]\n",
      "3570 [2, 4, 6]\n",
      "3572 [2, 4, 6]\n",
      "3574 [2, 4, 6]\n",
      "3576 [2, 4, 6]\n",
      "3578 [2, 4, 6]\n",
      "3580 [2, 4, 6]\n",
      "3582 [2, 4, 6]\n",
      "3584 [2, 4, 6]\n",
      "3586 [2, 4, 6]\n",
      "3588 [2, 4, 6]\n",
      "3590 [2, 4, 6]\n",
      "3592 [2, 4, 6]\n",
      "3594 [2, 4, 6]\n",
      "3596 [2, 4, 6]\n",
      "3598 [2, 4, 6]\n",
      "3600 [2, 4, 6]\n",
      "3602 [2, 4, 6]\n",
      "3604 [2, 4, 6]\n",
      "3606 [2, 4, 6]\n",
      "3608 [2, 4, 6]\n",
      "3610 [2, 4, 6]\n",
      "3612 [2, 4, 6]\n",
      "3614 [2, 4, 6]\n",
      "3616 [2, 4, 6]\n",
      "3618 [2, 4, 6]\n",
      "3620 [2, 4, 6]\n",
      "3622 [2, 4, 6]\n",
      "3624 [2, 4, 6]\n",
      "3626 [2, 4, 6]\n",
      "3628 [2, 4, 6]\n",
      "3630 [2, 4, 6]\n",
      "3632 [2, 4, 6]\n",
      "3634 [2, 4, 6]\n",
      "3636 [2, 4, 6]\n",
      "3638 [2, 4, 6]\n",
      "3640 [2, 4, 6]\n",
      "3642 [2, 4, 6]\n",
      "3644 [2, 4, 6]\n",
      "3646 [2, 4, 6]\n",
      "3648 [2, 4, 6]\n",
      "3650 [2, 4, 6]\n",
      "3652 [2, 4, 6]\n",
      "3654 [2, 4, 6]\n",
      "3656 [2, 4, 6]\n",
      "3658 [2, 4, 6]\n",
      "3660 [2, 4, 6]\n",
      "3662 [2, 4, 6]\n",
      "3664 [2, 4, 6]\n",
      "3666 [2, 4, 6]\n",
      "3668 [2, 4, 6]\n",
      "3670 [2, 4, 6]\n",
      "3672 [2, 4, 6]\n",
      "3674 [2, 4, 6]\n",
      "3676 [2, 4, 6]\n",
      "3678 [2, 4, 6]\n",
      "3680 [2, 4, 6]\n",
      "3682 [2, 4, 6]\n",
      "3684 [2, 4, 6]\n",
      "3686 [2, 4, 6]\n",
      "3688 [2, 4, 6]\n",
      "3690 [2, 4, 6]\n",
      "3692 [2, 4, 6]\n",
      "3694 [2, 4, 6]\n",
      "3696 [2, 4, 6]\n"
     ]
    },
    {
     "name": "stdout",
     "output_type": "stream",
     "text": [
      "3698 [2, 4, 6]\n",
      "3700 [2, 4, 6]\n",
      "3702 [2, 4, 6]\n",
      "3704 [2, 4, 6]\n",
      "3706 [2, 4, 6]\n",
      "3708 [2, 4, 6]\n",
      "3710 [2, 4, 6]\n",
      "3712 [2, 4, 6]\n",
      "3714 [2, 4, 6]\n",
      "3716 [2, 4, 6]\n",
      "3718 [2, 4, 6]\n",
      "3720 [2, 4, 6]\n",
      "3722 [2, 4, 6]\n",
      "3724 [2, 4, 6]\n",
      "3726 [2, 4, 6]\n",
      "3728 [2, 4, 6]\n",
      "3730 [2, 4, 6]\n",
      "3732 [2, 4, 6]\n",
      "3734 [2, 4, 6]\n",
      "3736 [2, 4, 6]\n",
      "3738 [2, 4, 6]\n",
      "3740 [2, 4, 6]\n",
      "3742 [2, 4, 6]\n",
      "3744 [2, 4, 6]\n",
      "3746 [2, 4, 6]\n",
      "3748 [2, 4, 6]\n",
      "3750 [2, 4, 6]\n",
      "3752 [2, 4, 6]\n",
      "3754 [2, 4, 6]\n",
      "3756 [2, 4, 6]\n",
      "3758 [2, 4, 6]\n",
      "3760 [2, 4, 6]\n",
      "3762 [2, 4, 6]\n",
      "3764 [2, 4, 6]\n",
      "3766 [2, 4, 6]\n",
      "3768 [2, 4, 6]\n",
      "3770 [2, 4, 6]\n",
      "3772 [2, 4, 6]\n",
      "3774 [2, 4, 6]\n",
      "3776 [2, 4, 6]\n",
      "3778 [2, 4, 6]\n",
      "3780 [2, 4, 6]\n",
      "3782 [2, 4, 6]\n",
      "3784 [2, 4, 6]\n",
      "3786 [2, 4, 6]\n",
      "3788 [2, 4, 6]\n",
      "3790 [2, 4, 6]\n",
      "3792 [2, 4, 6]\n",
      "3794 [2, 4, 6]\n",
      "3796 [2, 4, 6]\n",
      "3798 [2, 4, 6]\n",
      "3800 [2, 4, 6]\n",
      "3802 [2, 4, 6]\n",
      "3804 [2, 4, 6]\n",
      "3806 [2, 4, 6]\n",
      "3808 [2, 4, 6]\n",
      "3810 [2, 4, 6]\n",
      "3812 [2, 4, 6]\n",
      "3814 [2, 4, 6]\n",
      "3816 [2, 4, 6]\n",
      "3818 [2, 4, 6]\n",
      "3820 [2, 4, 6]\n",
      "3822 [2, 4, 6]\n",
      "3824 [2, 4, 6]\n",
      "3826 [2, 4, 6]\n",
      "3828 [2, 4, 6]\n",
      "3830 [2, 4, 6]\n",
      "3832 [2, 4, 6]\n",
      "3834 [2, 4, 6]\n",
      "3836 [2, 4, 6]\n",
      "3838 [2, 4, 6]\n",
      "3840 [2, 4, 6]\n",
      "3842 [2, 4, 6]\n",
      "3844 [2, 4, 6]\n",
      "3846 [2, 4, 6]\n",
      "3848 [2, 4, 6]\n",
      "3850 [2, 4, 6]\n",
      "3852 [2, 4, 6]\n",
      "3854 [2, 4, 6]\n",
      "3856 [2, 4, 6]\n",
      "3858 [2, 4, 6]\n",
      "3860 [2, 4, 6]\n",
      "3862 [2, 4, 6]\n",
      "3864 [2, 4, 6]\n",
      "3866 [2, 4, 6]\n",
      "3868 [2, 4, 6]\n",
      "3870 [2, 4, 6]\n",
      "3872 [2, 4, 6]\n",
      "3874 [2, 4, 6]\n",
      "3876 [2, 4, 6]\n",
      "3878 [2, 4, 6]\n",
      "3880 [2, 4, 6]\n",
      "3882 [2, 4, 6]\n",
      "3884 [2, 4, 6]\n",
      "3886 [2, 4, 6]\n",
      "3888 [2, 4, 6]\n",
      "3890 [2, 4, 6]\n",
      "3892 [2, 4, 6]\n",
      "3894 [2, 4, 6]\n",
      "3896 [2, 4, 6]\n",
      "3898 [2, 4, 6]\n",
      "3900 [2, 4, 6]\n",
      "3902 [2, 4, 6]\n",
      "3904 [2, 4, 6]\n",
      "3906 [2, 4, 6]\n",
      "3908 [2, 4, 6]\n",
      "3910 [2, 4, 6]\n",
      "3912 [2, 4, 6]\n",
      "3914 [2, 4, 6]\n",
      "3916 [2, 4, 6]\n",
      "3918 [2, 4, 6]\n",
      "3920 [2, 4, 6]\n",
      "3922 [2, 4, 6]\n",
      "3924 [2, 4, 6]\n",
      "3926 [2, 4, 6]\n",
      "3928 [2, 4, 6]\n",
      "3930 [2, 4, 6]\n",
      "3932 [2, 4, 6]\n",
      "3934 [2, 4, 6]\n",
      "3936 [2, 4, 6]\n",
      "3938 [2, 4, 6]\n",
      "3940 [2, 4, 6]\n",
      "3942 [2, 4, 6]\n",
      "3944 [2, 4, 6]\n",
      "3946 [2, 4, 6]\n",
      "3948 [2, 4, 6]\n",
      "3950 [2, 4, 6]\n",
      "3952 [2, 4, 6]\n",
      "3954 [2, 4, 6]\n",
      "3956 [2, 4, 6]\n",
      "3958 [2, 4, 6]\n",
      "3960 [2, 4, 6]\n",
      "3962 [2, 4, 6]\n",
      "3964 [2, 4, 6]\n",
      "3966 [2, 4, 6]\n",
      "3968 [2, 4, 6]\n",
      "3970 [2, 4, 6]\n",
      "3972 [2, 4, 6]\n",
      "3974 [2, 4, 6]\n",
      "3976 [2, 4, 6]\n",
      "3978 [2, 4, 6]\n",
      "3980 [2, 4, 6]\n",
      "3982 [2, 4, 6]\n",
      "3984 [2, 4, 6]\n",
      "3986 [2, 4, 6]\n",
      "3988 [2, 4, 6]\n",
      "3990 [2, 4, 6]\n",
      "3992 [2, 4, 6]\n",
      "3994 [2, 4, 6]\n",
      "3996 [2, 4, 6]\n",
      "3998 [2, 4, 6]\n",
      "4000 [2, 4, 6]\n",
      "4002 [2, 4, 6]\n",
      "4004 [2, 4, 6]\n",
      "4006 [2, 4, 6]\n",
      "4008 [2, 4, 6]\n",
      "4010 [2, 4, 6]\n",
      "4012 [2, 4, 6]\n",
      "4014 [2, 4, 6]\n",
      "4016 [2, 4, 6]\n",
      "4018 [2, 4, 6]\n",
      "4020 [2, 4, 6]\n",
      "4022 [2, 4, 6]\n",
      "4024 [2, 4, 6]\n",
      "4026 [2, 4, 6]\n",
      "4028 [2, 4, 6]\n",
      "4030 [2, 4, 6]\n",
      "4032 [2, 4, 6]\n",
      "4034 [2, 4, 6]\n",
      "4036 [2, 4, 6]\n",
      "4038 [2, 4, 6]\n",
      "4040 [2, 4, 6]\n",
      "4042 [2, 4, 6]\n",
      "4044 [2, 4, 6]\n",
      "4046 [2, 4, 6]\n",
      "4048 [2, 4, 6]\n",
      "4050 [2, 4, 6]\n",
      "4052 [2, 4, 6]\n",
      "4054 [2, 4, 6]\n",
      "4056 [2, 4, 6]\n",
      "4058 [2, 4, 6]\n",
      "4060 [2, 4, 6]\n",
      "4062 [2, 4, 6]\n",
      "4064 [2, 4, 6]\n",
      "4066 [2, 4, 6]\n",
      "4068 [2, 4, 6]\n",
      "4070 [2, 4, 6]\n",
      "4072 [2, 4, 6]\n",
      "4074 [2, 4, 6]\n",
      "4076 [2, 4, 6]\n",
      "4078 [2, 4, 6]\n",
      "4080 [2, 4, 6]\n",
      "4082 [2, 4, 6]\n",
      "4084 [2, 4, 6]\n",
      "4086 [2, 4, 6]\n",
      "4088 [2, 4, 6]\n",
      "4090 [2, 4, 6]\n",
      "4092 [2, 4, 6]\n",
      "4094 [2, 4, 6]\n",
      "4096 [2, 4, 6]\n",
      "4098 [2, 4, 6]\n",
      "4100 [2, 4, 6]\n",
      "4102 [2, 4, 6]\n",
      "4104 [2, 4, 6]\n",
      "4106 [2, 4, 6]\n",
      "4108 [2, 4, 6]\n",
      "4110 [2, 4, 6]\n",
      "4112 [2, 4, 6]\n",
      "4114 [2, 4, 6]\n",
      "4116 [2, 4, 6]\n",
      "4118 [2, 4, 6]\n",
      "4120 [2, 4, 6]\n",
      "4122 [2, 4, 6]\n",
      "4124 [2, 4, 6]\n",
      "4126 [2, 4, 6]\n",
      "4128 [2, 4, 6]\n",
      "4130 [2, 4, 6]\n",
      "4132 [2, 4, 6]\n",
      "4134 [2, 4, 6]\n",
      "4136 [2, 4, 6]\n",
      "4138 [2, 4, 6]\n",
      "4140 [2, 4, 6]\n",
      "4142 [2, 4, 6]\n",
      "4144 [2, 4, 6]\n",
      "4146 [2, 4, 6]\n",
      "4148 [2, 4, 6]\n",
      "4150 [2, 4, 6]\n",
      "4152 [2, 4, 6]\n",
      "4154 [2, 4, 6]\n",
      "4156 [2, 4, 6]\n",
      "4158 [2, 4, 6]\n",
      "4160 [2, 4, 6]\n",
      "4162 [2, 4, 6]\n",
      "4164 [2, 4, 6]\n",
      "4166 [2, 4, 6]\n",
      "4168 [2, 4, 6]\n",
      "4170 [2, 4, 6]\n",
      "4172 [2, 4, 6]\n",
      "4174 [2, 4, 6]\n",
      "4176 [2, 4, 6]\n",
      "4178 [2, 4, 6]\n",
      "4180 [2, 4, 6]\n",
      "4182 [2, 4, 6]\n",
      "4184 [2, 4, 6]\n",
      "4186 [2, 4, 6]\n",
      "4188 [2, 4, 6]\n",
      "4190 [2, 4, 6]\n",
      "4192 [2, 4, 6]\n",
      "4194 [2, 4, 6]\n",
      "4196 [2, 4, 6]\n",
      "4198 [2, 4, 6]\n",
      "4200 [2, 4, 6]\n",
      "4202 [2, 4, 6]\n",
      "4204 [2, 4, 6]\n",
      "4206 [2, 4, 6]\n",
      "4208 [2, 4, 6]\n",
      "4210 [2, 4, 6]\n",
      "4212 [2, 4, 6]\n",
      "4214 [2, 4, 6]\n",
      "4216 [2, 4, 6]\n",
      "4218 [2, 4, 6]\n",
      "4220 [2, 4, 6]\n",
      "4222 [2, 4, 6]\n",
      "4224 [2, 4, 6]\n",
      "4226 [2, 4, 6]\n",
      "4228 [2, 4, 6]\n",
      "4230 [2, 4, 6]\n",
      "4232 [2, 4, 6]\n",
      "4234 [2, 4, 6]\n",
      "4236 [2, 4, 6]\n",
      "4238 [2, 4, 6]\n",
      "4240 [2, 4, 6]\n",
      "4242 [2, 4, 6]\n",
      "4244 [2, 4, 6]\n",
      "4246 [2, 4, 6]\n",
      "4248 [2, 4, 6]\n",
      "4250 [2, 4, 6]\n",
      "4252 [2, 4, 6]\n",
      "4254 [2, 4, 6]\n",
      "4256 [2, 4, 6]\n",
      "4258 [2, 4, 6]\n",
      "4260 [2, 4, 6]\n",
      "4262 [2, 4, 6]\n",
      "4264 [2, 4, 6]\n",
      "4266 [2, 4, 6]\n",
      "4268 [2, 4, 6]\n",
      "4270 [2, 4, 6]\n",
      "4272 [2, 4, 6]\n",
      "4274 [2, 4, 6]\n",
      "4276 [2, 4, 6]\n",
      "4278 [2, 4, 6]\n",
      "4280 [2, 4, 6]\n",
      "4282 [2, 4, 6]\n",
      "4284 [2, 4, 6]\n",
      "4286 [2, 4, 6]\n",
      "4288 [2, 4, 6]\n",
      "4290 [2, 4, 6]\n",
      "4292 [2, 4, 6]\n",
      "4294 [2, 4, 6]\n",
      "4296 [2, 4, 6]\n",
      "4298 [2, 4, 6]\n",
      "4300 [2, 4, 6]\n",
      "4302 [2, 4, 6]\n",
      "4304 [2, 4, 6]\n",
      "4306 [2, 4, 6]\n",
      "4308 [2, 4, 6]\n",
      "4310 [2, 4, 6]\n",
      "4312 [2, 4, 6]\n",
      "4314 [2, 4, 6]\n",
      "4316 [2, 4, 6]\n",
      "4318 [2, 4, 6]\n",
      "4320 [2, 4, 6]\n",
      "4322 [2, 4, 6]\n",
      "4324 [2, 4, 6]\n",
      "4326 [2, 4, 6]\n",
      "4328 [2, 4, 6]\n",
      "4330 [2, 4, 6]\n",
      "4332 [2, 4, 6]\n",
      "4334 [2, 4, 6]\n",
      "4336 [2, 4, 6]\n",
      "4338 [2, 4, 6]\n",
      "4340 [2, 4, 6]\n",
      "4342 [2, 4, 6]\n",
      "4344 [2, 4, 6]\n",
      "4346 [2, 4, 6]\n",
      "4348 [2, 4, 6]\n",
      "4350 [2, 4, 6]\n",
      "4352 [2, 4, 6]\n",
      "4354 [2, 4, 6]\n",
      "4356 [2, 4, 6]\n",
      "4358 [2, 4, 6]\n",
      "4360 [2, 4, 6]\n",
      "4362 [2, 4, 6]\n",
      "4364 [2, 4, 6]\n",
      "4366 [2, 4, 6]\n",
      "4368 [2, 4, 6]\n",
      "4370 [2, 4, 6]\n",
      "4372 [2, 4, 6]\n",
      "4374 [2, 4, 6]\n",
      "4376 [2, 4, 6]\n",
      "4378 [2, 4, 6]\n",
      "4380 [2, 4, 6]\n",
      "4382 [2, 4, 6]\n",
      "4384 [2, 4, 6]\n",
      "4386 [2, 4, 6]\n",
      "4388 [2, 4, 6]\n",
      "4390 [2, 4, 6]\n",
      "4392 [2, 4, 6]\n",
      "4394 [2, 4, 6]\n",
      "4396 [2, 4, 6]\n",
      "4398 [2, 4, 6]\n",
      "4400 [2, 4, 6]\n",
      "4402 [2, 4, 6]\n",
      "4404 [2, 4, 6]\n",
      "4406 [2, 4, 6]\n",
      "4408 [2, 4, 6]\n",
      "4410 [2, 4, 6]\n",
      "4412 [2, 4, 6]\n",
      "4414 [2, 4, 6]\n",
      "4416 [2, 4, 6]\n",
      "4418 [2, 4, 6]\n",
      "4420 [2, 4, 6]\n",
      "4422 [2, 4, 6]\n",
      "4424 [2, 4, 6]\n",
      "4426 [2, 4, 6]\n",
      "4428 [2, 4, 6]\n",
      "4430 [2, 4, 6]\n",
      "4432 [2, 4, 6]\n",
      "4434 [2, 4, 6]\n",
      "4436 [2, 4, 6]\n",
      "4438 [2, 4, 6]\n",
      "4440 [2, 4, 6]\n",
      "4442 [2, 4, 6]\n",
      "4444 [2, 4, 6]\n",
      "4446 [2, 4, 6]\n",
      "4448 [2, 4, 6]\n",
      "4450 [2, 4, 6]\n",
      "4452 [2, 4, 6]\n",
      "4454 [2, 4, 6]\n",
      "4456 [2, 4, 6]\n",
      "4458 [2, 4, 6]\n",
      "4460 [2, 4, 6]\n",
      "4462 [2, 4, 6]\n",
      "4464 [2, 4, 6]\n",
      "4466 [2, 4, 6]\n",
      "4468 [2, 4, 6]\n",
      "4470 [2, 4, 6]\n",
      "4472 [2, 4, 6]\n",
      "4474 [2, 4, 6]\n",
      "4476 [2, 4, 6]\n",
      "4478 [2, 4, 6]\n",
      "4480 [2, 4, 6]\n",
      "4482 [2, 4, 6]\n",
      "4484 [2, 4, 6]\n",
      "4486 [2, 4, 6]\n",
      "4488 [2, 4, 6]\n",
      "4490 [2, 4, 6]\n",
      "4492 [2, 4, 6]\n",
      "4494 [2, 4, 6]\n",
      "4496 [2, 4, 6]\n",
      "4498 [2, 4, 6]\n",
      "4500 [2, 4, 6]\n",
      "4502 [2, 4, 6]\n",
      "4504 [2, 4, 6]\n",
      "4506 [2, 4, 6]\n",
      "4508 [2, 4, 6]\n",
      "4510 [2, 4, 6]\n",
      "4512 [2, 4, 6]\n",
      "4514 [2, 4, 6]\n",
      "4516 [2, 4, 6]\n",
      "4518 [2, 4, 6]\n",
      "4520 [2, 4, 6]\n",
      "4522 [2, 4, 6]\n",
      "4524 [2, 4, 6]\n",
      "4526 [2, 4, 6]\n",
      "4528 [2, 4, 6]\n",
      "4530 [2, 4, 6]\n",
      "4532 [2, 4, 6]\n",
      "4534 [2, 4, 6]\n",
      "4536 [2, 4, 6]\n",
      "4538 [2, 4, 6]\n",
      "4540 [2, 4, 6]\n",
      "4542 [2, 4, 6]\n",
      "4544 [2, 4, 6]\n",
      "4546 [2, 4, 6]\n",
      "4548 [2, 4, 6]\n",
      "4550 [2, 4, 6]\n",
      "4552 [2, 4, 6]\n",
      "4554 [2, 4, 6]\n",
      "4556 [2, 4, 6]\n",
      "4558 [2, 4, 6]\n",
      "4560 [2, 4, 6]\n",
      "4562 [2, 4, 6]\n",
      "4564 [2, 4, 6]\n",
      "4566 [2, 4, 6]\n",
      "4568 [2, 4, 6]\n",
      "4570 [2, 4, 6]\n",
      "4572 [2, 4, 6]\n",
      "4574 [2, 4, 6]\n",
      "4576 [2, 4, 6]\n",
      "4578 [2, 4, 6]\n",
      "4580 [2, 4, 6]\n",
      "4582 [2, 4, 6]\n",
      "4584 [2, 4, 6]\n",
      "4586 [2, 4, 6]\n",
      "4588 [2, 4, 6]\n",
      "4590 [2, 4, 6]\n",
      "4592 [2, 4, 6]\n",
      "4594 [2, 4, 6]\n",
      "4596 [2, 4, 6]\n",
      "4598 [2, 4, 6]\n",
      "4600 [2, 4, 6]\n",
      "4602 [2, 4, 6]\n",
      "4604 [2, 4, 6]\n",
      "4606 [2, 4, 6]\n",
      "4608 [2, 4, 6]\n",
      "4610 [2, 4, 6]\n",
      "4612 [2, 4, 6]\n",
      "4614 [2, 4, 6]\n",
      "4616 [2, 4, 6]\n",
      "4618 [2, 4, 6]\n",
      "4620 [2, 4, 6]\n",
      "4622 [2, 4, 6]\n",
      "4624 [2, 4, 6]\n",
      "4626 [2, 4, 6]\n",
      "4628 [2, 4, 6]\n",
      "4630 [2, 4, 6]\n",
      "4632 [2, 4, 6]\n",
      "4634 [2, 4, 6]\n",
      "4636 [2, 4, 6]\n",
      "4638 [2, 4, 6]\n",
      "4640 [2, 4, 6]\n",
      "4642 [2, 4, 6]\n",
      "4644 [2, 4, 6]\n",
      "4646 [2, 4, 6]\n",
      "4648 [2, 4, 6]\n",
      "4650 [2, 4, 6]\n",
      "4652 [2, 4, 6]\n",
      "4654 [2, 4, 6]\n",
      "4656 [2, 4, 6]\n",
      "4658 [2, 4, 6]\n",
      "4660 [2, 4, 6]\n",
      "4662 [2, 4, 6]\n",
      "4664 [2, 4, 6]\n",
      "4666 [2, 4, 6]\n",
      "4668 [2, 4, 6]\n",
      "4670 [2, 4, 6]\n",
      "4672 [2, 4, 6]\n",
      "4674 [2, 4, 6]\n",
      "4676 [2, 4, 6]\n",
      "4678 [2, 4, 6]\n",
      "4680 [2, 4, 6]\n",
      "4682 [2, 4, 6]\n",
      "4684 [2, 4, 6]\n",
      "4686 [2, 4, 6]\n",
      "4688 [2, 4, 6]\n",
      "4690 [2, 4, 6]\n",
      "4692 [2, 4, 6]\n",
      "4694 [2, 4, 6]\n",
      "4696 [2, 4, 6]\n",
      "4698 [2, 4, 6]\n",
      "4700 [2, 4, 6]\n",
      "4702 [2, 4, 6]\n",
      "4704 [2, 4, 6]\n",
      "4706 [2, 4, 6]\n",
      "4708 [2, 4, 6]\n",
      "4710 [2, 4, 6]\n",
      "4712 [2, 4, 6]\n",
      "4714 [2, 4, 6]\n",
      "4716 [2, 4, 6]\n",
      "4718 [2, 4, 6]\n",
      "4720 [2, 4, 6]\n",
      "4722 [2, 4, 6]\n",
      "4724 [2, 4, 6]\n",
      "4726 [2, 4, 6]\n",
      "4728 [2, 4, 6]\n",
      "4730 [2, 4, 6]\n",
      "4732 [2, 4, 6]\n",
      "4734 [2, 4, 6]\n",
      "4736 [2, 4, 6]\n",
      "4738 [2, 4, 6]\n",
      "4740 [2, 4, 6]\n",
      "4742 [2, 4, 6]\n",
      "4744 [2, 4, 6]\n",
      "4746 [2, 4, 6]\n",
      "4748 [2, 4, 6]\n",
      "4750 [2, 4, 6]\n",
      "4752 [2, 4, 6]\n",
      "4754 [2, 4, 6]\n",
      "4756 [2, 4, 6]\n",
      "4758 [2, 4, 6]\n",
      "4760 [2, 4, 6]\n",
      "4762 [2, 4, 6]\n",
      "4764 [2, 4, 6]\n",
      "4766 [2, 4, 6]\n",
      "4768 [2, 4, 6]\n",
      "4770 [2, 4, 6]\n",
      "4772 [2, 4, 6]\n",
      "4774 [2, 4, 6]\n",
      "4776 [2, 4, 6]\n",
      "4778 [2, 4, 6]\n",
      "4780 [2, 4, 6]\n",
      "4782 [2, 4, 6]\n",
      "4784 [2, 4, 6]\n",
      "4786 [2, 4, 6]\n",
      "4788 [2, 4, 6]\n",
      "4790 [2, 4, 6]\n",
      "4792 [2, 4, 6]\n",
      "4794 [2, 4, 6]\n",
      "4796 [2, 4, 6]\n",
      "4798 [2, 4, 6]\n",
      "4800 [2, 4, 6]\n",
      "4802 [2, 4, 6]\n",
      "4804 [2, 4, 6]\n",
      "4806 [2, 4, 6]\n",
      "4808 [2, 4, 6]\n",
      "4810 [2, 4, 6]\n",
      "4812 [2, 4, 6]\n",
      "4814 [2, 4, 6]\n",
      "4816 [2, 4, 6]\n",
      "4818 [2, 4, 6]\n",
      "4820 [2, 4, 6]\n",
      "4822 [2, 4, 6]\n",
      "4824 [2, 4, 6]\n",
      "4826 [2, 4, 6]\n",
      "4828 [2, 4, 6]\n",
      "4830 [2, 4, 6]\n",
      "4832 [2, 4, 6]\n",
      "4834 [2, 4, 6]\n",
      "4836 [2, 4, 6]\n",
      "4838 [2, 4, 6]\n",
      "4840 [2, 4, 6]\n",
      "4842 [2, 4, 6]\n",
      "4844 [2, 4, 6]\n",
      "4846 [2, 4, 6]\n",
      "4848 [2, 4, 6]\n",
      "4850 [2, 4, 6]\n"
     ]
    },
    {
     "name": "stdout",
     "output_type": "stream",
     "text": [
      "4852 [2, 4, 6]\n",
      "4854 [2, 4, 6]\n",
      "4856 [2, 4, 6]\n",
      "4858 [2, 4, 6]\n",
      "4860 [2, 4, 6]\n",
      "4862 [2, 4, 6]\n",
      "4864 [2, 4, 6]\n",
      "4866 [2, 4, 6]\n",
      "4868 [2, 4, 6]\n",
      "4870 [2, 4, 6]\n",
      "4872 [2, 4, 6]\n",
      "4874 [2, 4, 6]\n",
      "4876 [2, 4, 6]\n",
      "4878 [2, 4, 6]\n",
      "4880 [2, 4, 6]\n",
      "4882 [2, 4, 6]\n",
      "4884 [2, 4, 6]\n",
      "4886 [2, 4, 6]\n",
      "4888 [2, 4, 6]\n",
      "4890 [2, 4, 6]\n",
      "4892 [2, 4, 6]\n",
      "4894 [2, 4, 6]\n",
      "4896 [2, 4, 6]\n",
      "4898 [2, 4, 6]\n",
      "4900 [2, 4, 6]\n",
      "4902 [2, 4, 6]\n",
      "4904 [2, 4, 6]\n",
      "4906 [2, 4, 6]\n",
      "4908 [2, 4, 6]\n",
      "4910 [2, 4, 6]\n",
      "4912 [2, 4, 6]\n",
      "4914 [2, 4, 6]\n",
      "4916 [2, 4, 6]\n",
      "4918 [2, 4, 6]\n",
      "4920 [2, 4, 6]\n",
      "4922 [2, 4, 6]\n",
      "4924 [2, 4, 6]\n",
      "4926 [2, 4, 6]\n",
      "4928 [2, 4, 6]\n",
      "4930 [2, 4, 6]\n",
      "4932 [2, 4, 6]\n",
      "4934 [2, 4, 6]\n",
      "4936 [2, 4, 6]\n",
      "4938 [2, 4, 6]\n",
      "4940 [2, 4, 6]\n",
      "4942 [2, 4, 6]\n",
      "4944 [2, 4, 6]\n",
      "4946 [2, 4, 6]\n",
      "4948 [2, 4, 6]\n",
      "4950 [2, 4, 6]\n",
      "4952 [2, 4, 6]\n",
      "4954 [2, 4, 6]\n",
      "4956 [2, 4, 6]\n",
      "4958 [2, 4, 6]\n",
      "4960 [2, 4, 6]\n",
      "4962 [2, 4, 6]\n",
      "4964 [2, 4, 6]\n",
      "4966 [2, 4, 6]\n",
      "4968 [2, 4, 6]\n",
      "4970 [2, 4, 6]\n",
      "4972 [2, 4, 6]\n",
      "4974 [2, 4, 6]\n",
      "4976 [2, 4, 6]\n",
      "4978 [2, 4, 6]\n",
      "4980 [2, 4, 6]\n",
      "4982 [2, 4, 6]\n",
      "4984 [2, 4, 6]\n",
      "4986 [2, 4, 6]\n",
      "4988 [2, 4, 6]\n",
      "4990 [2, 4, 6]\n",
      "4992 [2, 4, 6]\n",
      "4994 [2, 4, 6]\n",
      "4996 [2, 4, 6]\n",
      "4998 [2, 4, 6]\n",
      "5000 [2, 4, 6]\n",
      "5002 [2, 4, 6]\n",
      "5004 [2, 4, 6]\n",
      "5006 [2, 4, 6]\n",
      "5008 [2, 4, 6]\n",
      "5010 [2, 4, 6]\n",
      "5012 [2, 4, 6]\n",
      "5014 [2, 4, 6]\n",
      "5016 [2, 4, 6]\n",
      "5018 [2, 4, 6]\n",
      "5020 [2, 4, 6]\n",
      "5022 [2, 4, 6]\n",
      "5024 [2, 4, 6]\n",
      "5026 [2, 4, 6]\n",
      "5028 [2, 4, 6]\n",
      "5030 [2, 4, 6]\n",
      "5032 [2, 4, 6]\n",
      "5034 [2, 4, 6]\n",
      "5036 [2, 4, 6]\n",
      "5038 [2, 4, 6]\n",
      "5040 [2, 4, 6]\n",
      "5042 [2, 4, 6]\n",
      "5044 [2, 4, 6]\n",
      "5046 [2, 4, 6]\n",
      "5048 [2, 4, 6]\n",
      "5050 [2, 4, 6]\n",
      "5052 [2, 4, 6]\n",
      "5054 [2, 4, 6]\n",
      "5056 [2, 4, 6]\n",
      "5058 [2, 4, 6]\n",
      "5060 [2, 4, 6]\n",
      "5062 [2, 4, 6]\n",
      "5064 [2, 4, 6]\n",
      "5066 [2, 4, 6]\n",
      "5068 [2, 4, 6]\n",
      "5070 [2, 4, 6]\n",
      "5072 [2, 4, 6]\n",
      "5074 [2, 4, 6]\n",
      "5076 [2, 4, 6]\n",
      "5078 [2, 4, 6]\n",
      "5080 [2, 4, 6]\n",
      "5082 [2, 4, 6]\n",
      "5084 [2, 4, 6]\n",
      "5086 [2, 4, 6]\n",
      "5088 [2, 4, 6]\n",
      "5090 [2, 4, 6]\n",
      "5092 [2, 4, 6]\n",
      "5094 [2, 4, 6]\n",
      "5096 [2, 4, 6]\n",
      "5098 [2, 4, 6]\n",
      "5100 [2, 4, 6]\n",
      "5102 [2, 4, 6]\n",
      "5104 [2, 4, 6]\n",
      "5106 [2, 4, 6]\n",
      "5108 [2, 4, 6]\n",
      "5110 [2, 4, 6]\n",
      "5112 [2, 4, 6]\n",
      "5114 [2, 4, 6]\n",
      "5116 [2, 4, 6]\n",
      "5118 [2, 4, 6]\n",
      "5120 [2, 4, 6]\n",
      "5122 [2, 4, 6]\n",
      "5124 [2, 4, 6]\n",
      "5126 [2, 4, 6]\n",
      "5128 [2, 4, 6]\n",
      "5130 [2, 4, 6]\n",
      "5132 [2, 4, 6]\n",
      "5134 [2, 4, 6]\n",
      "5136 [2, 4, 6]\n",
      "5138 [2, 4, 6]\n",
      "5140 [2, 4, 6]\n",
      "5142 [2, 4, 6]\n",
      "5144 [2, 4, 6]\n",
      "5146 [2, 4, 6]\n",
      "5148 [2, 4, 6]\n",
      "5150 [2, 4, 6]\n",
      "5152 [2, 4, 6]\n",
      "5154 [2, 4, 6]\n",
      "5156 [2, 4, 6]\n",
      "5158 [2, 4, 6]\n",
      "5160 [2, 4, 6]\n",
      "5162 [2, 4, 6]\n",
      "5164 [2, 4, 6]\n",
      "5166 [2, 4, 6]\n",
      "5168 [2, 4, 6]\n",
      "5170 [2, 4, 6]\n",
      "5172 [2, 4, 6]\n",
      "5174 [2, 4, 6]\n",
      "5176 [2, 4, 6]\n",
      "5178 [2, 4, 6]\n",
      "5180 [2, 4, 6]\n",
      "5182 [2, 4, 6]\n",
      "5184 [2, 4, 6]\n",
      "5186 [2, 4, 6]\n",
      "5188 [2, 4, 6]\n",
      "5190 [2, 4, 6]\n",
      "5192 [2, 4, 6]\n",
      "5194 [2, 4, 6]\n",
      "5196 [2, 4, 6]\n",
      "5198 [2, 4, 6]\n",
      "5200 [2, 4, 6]\n",
      "5202 [2, 4, 6]\n",
      "5204 [2, 4, 6]\n",
      "5206 [2, 4, 6]\n",
      "5208 [2, 4, 6]\n",
      "5210 [2, 4, 6]\n",
      "5212 [2, 4, 6]\n",
      "5214 [2, 4, 6]\n",
      "5216 [2, 4, 6]\n",
      "5218 [2, 4, 6]\n",
      "5220 [2, 4, 6]\n",
      "5222 [2, 4, 6]\n",
      "5224 [2, 4, 6]\n",
      "5226 [2, 4, 6]\n",
      "5228 [2, 4, 6]\n",
      "5230 [2, 4, 6]\n",
      "5232 [2, 4, 6]\n",
      "5234 [2, 4, 6]\n",
      "5236 [2, 4, 6]\n",
      "5238 [2, 4, 6]\n",
      "5240 [2, 4, 6]\n",
      "5242 [2, 4, 6]\n",
      "5244 [2, 4, 6]\n",
      "5246 [2, 4, 6]\n",
      "5248 [2, 4, 6]\n",
      "5250 [2, 4, 6]\n",
      "5252 [2, 4, 6]\n",
      "5254 [2, 4, 6]\n",
      "5256 [2, 4, 6]\n",
      "5258 [2, 4, 6]\n",
      "5260 [2, 4, 6]\n",
      "5262 [2, 4, 6]\n",
      "5264 [2, 4, 6]\n",
      "5266 [2, 4, 6]\n",
      "5268 [2, 4, 6]\n",
      "5270 [2, 4, 6]\n",
      "5272 [2, 4, 6]\n",
      "5274 [2, 4, 6]\n",
      "5276 [2, 4, 6]\n",
      "5278 [2, 4, 6]\n",
      "5280 [2, 4, 6]\n",
      "5282 [2, 4, 6]\n",
      "5284 [2, 4, 6]\n",
      "5286 [2, 4, 6]\n",
      "5288 [2, 4, 6]\n",
      "5290 [2, 4, 6]\n",
      "5292 [2, 4, 6]\n",
      "5294 [2, 4, 6]\n",
      "5296 [2, 4, 6]\n",
      "5298 [2, 4, 6]\n",
      "5300 [2, 4, 6]\n",
      "5302 [2, 4, 6]\n",
      "5304 [2, 4, 6]\n",
      "5306 [2, 4, 6]\n",
      "5308 [2, 4, 6]\n",
      "5310 [2, 4, 6]\n",
      "5312 [2, 4, 6]\n",
      "5314 [2, 4, 6]\n",
      "5316 [2, 4, 6]\n",
      "5318 [2, 4, 6]\n",
      "5320 [2, 4, 6]\n",
      "5322 [2, 4, 6]\n",
      "5324 [2, 4, 6]\n",
      "5326 [2, 4, 6]\n",
      "5328 [2, 4, 6]\n",
      "5330 [2, 4, 6]\n",
      "5332 [2, 4, 6]\n",
      "5334 [2, 4, 6]\n",
      "5336 [2, 4, 6]\n",
      "5338 [2, 4, 6]\n",
      "5340 [2, 4, 6]\n",
      "5342 [2, 4, 6]\n",
      "5344 [2, 4, 6]\n",
      "5346 [2, 4, 6]\n",
      "5348 [2, 4, 6]\n",
      "5350 [2, 4, 6]\n",
      "5352 [2, 4, 6]\n",
      "5354 [2, 4, 6]\n",
      "5356 [2, 4, 6]\n",
      "5358 [2, 4, 6]\n",
      "5360 [2, 4, 6]\n",
      "5362 [2, 4, 6]\n",
      "5364 [2, 4, 6]\n",
      "5366 [2, 4, 6]\n",
      "5368 [2, 4, 6]\n",
      "5370 [2, 4, 6]\n",
      "5372 [2, 4, 6]\n",
      "5374 [2, 4, 6]\n",
      "5376 [2, 4, 6]\n",
      "5378 [2, 4, 6]\n",
      "5380 [2, 4, 6]\n",
      "5382 [2, 4, 6]\n",
      "5384 [2, 4, 6]\n",
      "5386 [2, 4, 6]\n",
      "5388 [2, 4, 6]\n",
      "5390 [2, 4, 6]\n",
      "5392 [2, 4, 6]\n",
      "5394 [2, 4, 6]\n",
      "5396 [2, 4, 6]\n",
      "5398 [2, 4, 6]\n",
      "5400 [2, 4, 6]\n",
      "5402 [2, 4, 6]\n",
      "5404 [2, 4, 6]\n",
      "5406 [2, 4, 6]\n",
      "5408 [2, 4, 6]\n",
      "5410 [2, 4, 6]\n",
      "5412 [2, 4, 6]\n",
      "5414 [2, 4, 6]\n",
      "5416 [2, 4, 6]\n",
      "5418 [2, 4, 6]\n",
      "5420 [2, 4, 6]\n",
      "5422 [2, 4, 6]\n",
      "5424 [2, 4, 6]\n",
      "5426 [2, 4, 6]\n",
      "5428 [2, 4, 6]\n",
      "5430 [2, 4, 6]\n",
      "5432 [2, 4, 6]\n",
      "5434 [2, 4, 6]\n",
      "5436 [2, 4, 6]\n",
      "5438 [2, 4, 6]\n",
      "5440 [2, 4, 6]\n",
      "5442 [2, 4, 6]\n",
      "5444 [2, 4, 6]\n",
      "5446 [2, 4, 6]\n",
      "5448 [2, 4, 6]\n",
      "5450 [2, 4, 6]\n",
      "5452 [2, 4, 6]\n",
      "5454 [2, 4, 6]\n",
      "5456 [2, 4, 6]\n",
      "5458 [2, 4, 6]\n",
      "5460 [2, 4, 6]\n",
      "5462 [2, 4, 6]\n",
      "5464 [2, 4, 6]\n",
      "5466 [2, 4, 6]\n",
      "5468 [2, 4, 6]\n",
      "5470 [2, 4, 6]\n",
      "5472 [2, 4, 6]\n",
      "5474 [2, 4, 6]\n",
      "5476 [2, 4, 6]\n",
      "5478 [2, 4, 6]\n",
      "5480 [2, 4, 6]\n",
      "5482 [2, 4, 6]\n",
      "5484 [2, 4, 6]\n",
      "5486 [2, 4, 6]\n",
      "5488 [2, 4, 6]\n",
      "5490 [2, 4, 6]\n",
      "5492 [2, 4, 6]\n",
      "5494 [2, 4, 6]\n",
      "5496 [2, 4, 6]\n",
      "5498 [2, 4, 6]\n",
      "5500 [2, 4, 6]\n",
      "5502 [2, 4, 6]\n",
      "5504 [2, 4, 6]\n",
      "5506 [2, 4, 6]\n",
      "5508 [2, 4, 6]\n",
      "5510 [2, 4, 6]\n",
      "5512 [2, 4, 6]\n",
      "5514 [2, 4, 6]\n",
      "5516 [2, 4, 6]\n",
      "5518 [2, 4, 6]\n",
      "5520 [2, 4, 6]\n",
      "5522 [2, 4, 6]\n",
      "5524 [2, 4, 6]\n",
      "5526 [2, 4, 6]\n",
      "5528 [2, 4, 6]\n",
      "5530 [2, 4, 6]\n",
      "5532 [2, 4, 6]\n",
      "5534 [2, 4, 6]\n",
      "5536 [2, 4, 6]\n",
      "5538 [2, 4, 6]\n",
      "5540 [2, 4, 6]\n",
      "5542 [2, 4, 6]\n",
      "5544 [2, 4, 6]\n",
      "5546 [2, 4, 6]\n",
      "5548 [2, 4, 6]\n",
      "5550 [2, 4, 6]\n",
      "5552 [2, 4, 6]\n",
      "5554 [2, 4, 6]\n",
      "5556 [2, 4, 6]\n",
      "5558 [2, 4, 6]\n",
      "5560 [2, 4, 6]\n",
      "5562 [2, 4, 6]\n",
      "5564 [2, 4, 6]\n",
      "5566 [2, 4, 6]\n",
      "5568 [2, 4, 6]\n",
      "5570 [2, 4, 6]\n",
      "5572 [2, 4, 6]\n",
      "5574 [2, 4, 6]\n",
      "5576 [2, 4, 6]\n",
      "5578 [2, 4, 6]\n",
      "5580 [2, 4, 6]\n",
      "5582 [2, 4, 6]\n",
      "5584 [2, 4, 6]\n",
      "5586 [2, 4, 6]\n",
      "5588 [2, 4, 6]\n",
      "5590 [2, 4, 6]\n",
      "5592 [2, 4, 6]\n",
      "5594 [2, 4, 6]\n",
      "5596 [2, 4, 6]\n",
      "5598 [2, 4, 6]\n",
      "5600 [2, 4, 6]\n",
      "5602 [2, 4, 6]\n",
      "5604 [2, 4, 6]\n",
      "5606 [2, 4, 6]\n",
      "5608 [2, 4, 6]\n",
      "5610 [2, 4, 6]\n",
      "5612 [2, 4, 6]\n",
      "5614 [2, 4, 6]\n",
      "5616 [2, 4, 6]\n",
      "5618 [2, 4, 6]\n",
      "5620 [2, 4, 6]\n",
      "5622 [2, 4, 6]\n",
      "5624 [2, 4, 6]\n",
      "5626 [2, 4, 6]\n",
      "5628 [2, 4, 6]\n",
      "5630 [2, 4, 6]\n",
      "5632 [2, 4, 6]\n",
      "5634 [2, 4, 6]\n",
      "5636 [2, 4, 6]\n",
      "5638 [2, 4, 6]\n",
      "5640 [2, 4, 6]\n",
      "5642 [2, 4, 6]\n",
      "5644 [2, 4, 6]\n",
      "5646 [2, 4, 6]\n",
      "5648 [2, 4, 6]\n",
      "5650 [2, 4, 6]\n",
      "5652 [2, 4, 6]\n",
      "5654 [2, 4, 6]\n",
      "5656 [2, 4, 6]\n",
      "5658 [2, 4, 6]\n",
      "5660 [2, 4, 6]\n",
      "5662 [2, 4, 6]\n",
      "5664 [2, 4, 6]\n",
      "5666 [2, 4, 6]\n",
      "5668 [2, 4, 6]\n",
      "5670 [2, 4, 6]\n",
      "5672 [2, 4, 6]\n",
      "5674 [2, 4, 6]\n",
      "5676 [2, 4, 6]\n",
      "5678 [2, 4, 6]\n",
      "5680 [2, 4, 6]\n",
      "5682 [2, 4, 6]\n",
      "5684 [2, 4, 6]\n",
      "5686 [2, 4, 6]\n",
      "5688 [2, 4, 6]\n",
      "5690 [2, 4, 6]\n",
      "5692 [2, 4, 6]\n",
      "5694 [2, 4, 6]\n",
      "5696 [2, 4, 6]\n",
      "5698 [2, 4, 6]\n",
      "5700 [2, 4, 6]\n",
      "5702 [2, 4, 6]\n",
      "5704 [2, 4, 6]\n",
      "5706 [2, 4, 6]\n",
      "5708 [2, 4, 6]\n",
      "5710 [2, 4, 6]\n",
      "5712 [2, 4, 6]\n",
      "5714 [2, 4, 6]\n",
      "5716 [2, 4, 6]\n",
      "5718 [2, 4, 6]\n",
      "5720 [2, 4, 6]\n",
      "5722 [2, 4, 6]\n",
      "5724 [2, 4, 6]\n",
      "5726 [2, 4, 6]\n",
      "5728 [2, 4, 6]\n",
      "5730 [2, 4, 6]\n",
      "5732 [2, 4, 6]\n",
      "5734 [2, 4, 6]\n",
      "5736 [2, 4, 6]\n",
      "5738 [2, 4, 6]\n",
      "5740 [2, 4, 6]\n",
      "5742 [2, 4, 6]\n",
      "5744 [2, 4, 6]\n",
      "5746 [2, 4, 6]\n",
      "5748 [2, 4, 6]\n",
      "5750 [2, 4, 6]\n",
      "5752 [2, 4, 6]\n",
      "5754 [2, 4, 6]\n",
      "5756 [2, 4, 6]\n",
      "5758 [2, 4, 6]\n",
      "5760 [2, 4, 6]\n",
      "5762 [2, 4, 6]\n",
      "5764 [2, 4, 6]\n",
      "5766 [2, 4, 6]\n",
      "5768 [2, 4, 6]\n",
      "5770 [2, 4, 6]\n",
      "5772 [2, 4, 6]\n",
      "5774 [2, 4, 6]\n",
      "5776 [2, 4, 6]\n",
      "5778 [2, 4, 6]\n",
      "5780 [2, 4, 6]\n",
      "5782 [2, 4, 6]\n",
      "5784 [2, 4, 6]\n",
      "5786 [2, 4, 6]\n",
      "5788 [2, 4, 6]\n",
      "5790 [2, 4, 6]\n",
      "5792 [2, 4, 6]\n",
      "5794 [2, 4, 6]\n",
      "5796 [2, 4, 6]\n",
      "5798 [2, 4, 6]\n",
      "5800 [2, 4, 6]\n",
      "5802 [2, 4, 6]\n",
      "5804 [2, 4, 6]\n",
      "5806 [2, 4, 6]\n",
      "5808 [2, 4, 6]\n",
      "5810 [2, 4, 6]\n",
      "5812 [2, 4, 6]\n",
      "5814 [2, 4, 6]\n",
      "5816 [2, 4, 6]\n",
      "5818 [2, 4, 6]\n",
      "5820 [2, 4, 6]\n",
      "5822 [2, 4, 6]\n",
      "5824 [2, 4, 6]\n",
      "5826 [2, 4, 6]\n",
      "5828 [2, 4, 6]\n",
      "5830 [2, 4, 6]\n",
      "5832 [2, 4, 6]\n",
      "5834 [2, 4, 6]\n",
      "5836 [2, 4, 6]\n",
      "5838 [2, 4, 6]\n",
      "5840 [2, 4, 6]\n",
      "5842 [2, 4, 6]\n",
      "5844 [2, 4, 6]\n",
      "5846 [2, 4, 6]\n",
      "5848 [2, 4, 6]\n",
      "5850 [2, 4, 6]\n",
      "5852 [2, 4, 6]\n",
      "5854 [2, 4, 6]\n",
      "5856 [2, 4, 6]\n",
      "5858 [2, 4, 6]\n",
      "5860 [2, 4, 6]\n",
      "5862 [2, 4, 6]\n",
      "5864 [2, 4, 6]\n",
      "5866 [2, 4, 6]\n",
      "5868 [2, 4, 6]\n",
      "5870 [2, 4, 6]\n",
      "5872 [2, 4, 6]\n",
      "5874 [2, 4, 6]\n",
      "5876 [2, 4, 6]\n",
      "5878 [2, 4, 6]\n",
      "5880 [2, 4, 6]\n",
      "5882 [2, 4, 6]\n",
      "5884 [2, 4, 6]\n",
      "5886 [2, 4, 6]\n",
      "5888 [2, 4, 6]\n",
      "5890 [2, 4, 6]\n",
      "5892 [2, 4, 6]\n",
      "5894 [2, 4, 6]\n",
      "5896 [2, 4, 6]\n",
      "5898 [2, 4, 6]\n",
      "5900 [2, 4, 6]\n",
      "5902 [2, 4, 6]\n",
      "5904 [2, 4, 6]\n",
      "5906 [2, 4, 6]\n",
      "5908 [2, 4, 6]\n",
      "5910 [2, 4, 6]\n",
      "5912 [2, 4, 6]\n",
      "5914 [2, 4, 6]\n",
      "5916 [2, 4, 6]\n",
      "5918 [2, 4, 6]\n",
      "5920 [2, 4, 6]\n",
      "5922 [2, 4, 6]\n"
     ]
    },
    {
     "ename": "RecursionError",
     "evalue": "maximum recursion depth exceeded while calling a Python object",
     "output_type": "error",
     "traceback": [
      "\u001b[1;31m---------------------------------------------------------------------------\u001b[0m",
      "\u001b[1;31mRecursionError\u001b[0m                            Traceback (most recent call last)",
      "\u001b[1;32m<ipython-input-128-4fc19cd0e7d6>\u001b[0m in \u001b[0;36m<module>\u001b[1;34m\u001b[0m\n\u001b[1;32m----> 1\u001b[1;33m \u001b[0mget_ways_memo\u001b[0m\u001b[1;33m(\u001b[0m\u001b[1;36m10\u001b[0m\u001b[1;33m,\u001b[0m \u001b[1;33m[\u001b[0m\u001b[1;36m2\u001b[0m\u001b[1;33m,\u001b[0m \u001b[1;36m4\u001b[0m\u001b[1;33m,\u001b[0m \u001b[1;36m6\u001b[0m\u001b[1;33m]\u001b[0m\u001b[1;33m)\u001b[0m\u001b[1;33m\u001b[0m\u001b[1;33m\u001b[0m\u001b[0m\n\u001b[0m",
      "\u001b[1;32m<ipython-input-125-3b5ec8424ba2>\u001b[0m in \u001b[0;36mget_ways_memo\u001b[1;34m(n, c)\u001b[0m\n\u001b[0;32m     12\u001b[0m     \u001b[0mprint\u001b[0m\u001b[1;33m(\u001b[0m\u001b[0mn\u001b[0m\u001b[1;33m,\u001b[0m \u001b[0mc\u001b[0m\u001b[1;33m)\u001b[0m\u001b[1;33m\u001b[0m\u001b[1;33m\u001b[0m\u001b[0m\n\u001b[0;32m     13\u001b[0m     \u001b[1;32mif\u001b[0m \u001b[0mkey\u001b[0m \u001b[1;32mnot\u001b[0m \u001b[1;32min\u001b[0m \u001b[0mCOUNTERDICT\u001b[0m\u001b[1;33m:\u001b[0m\u001b[1;33m\u001b[0m\u001b[1;33m\u001b[0m\u001b[0m\n\u001b[1;32m---> 14\u001b[1;33m         \u001b[0mCOUNTERDICT\u001b[0m\u001b[1;33m[\u001b[0m\u001b[0mkey\u001b[0m\u001b[1;33m]\u001b[0m \u001b[1;33m=\u001b[0m \u001b[0mget_ways_memo\u001b[0m\u001b[1;33m(\u001b[0m\u001b[0mn\u001b[0m \u001b[1;33m+\u001b[0m \u001b[0mc\u001b[0m\u001b[1;33m[\u001b[0m\u001b[1;36m0\u001b[0m\u001b[1;33m]\u001b[0m\u001b[1;33m,\u001b[0m \u001b[0mc\u001b[0m\u001b[1;33m)\u001b[0m \u001b[1;33m+\u001b[0m \u001b[0mget_ways_memo\u001b[0m\u001b[1;33m(\u001b[0m\u001b[0mn\u001b[0m\u001b[1;33m,\u001b[0m \u001b[0mc\u001b[0m\u001b[1;33m[\u001b[0m\u001b[1;36m1\u001b[0m\u001b[1;33m:\u001b[0m\u001b[1;33m]\u001b[0m\u001b[1;33m)\u001b[0m\u001b[1;33m\u001b[0m\u001b[1;33m\u001b[0m\u001b[0m\n\u001b[0m\u001b[0;32m     15\u001b[0m \u001b[1;33m\u001b[0m\u001b[0m\n\u001b[0;32m     16\u001b[0m     \u001b[1;32mreturn\u001b[0m \u001b[0mCOUNTERDICT\u001b[0m\u001b[1;33m[\u001b[0m\u001b[0mkey\u001b[0m\u001b[1;33m]\u001b[0m\u001b[1;33m\u001b[0m\u001b[1;33m\u001b[0m\u001b[0m\n",
      "... last 1 frames repeated, from the frame below ...\n",
      "\u001b[1;32m<ipython-input-125-3b5ec8424ba2>\u001b[0m in \u001b[0;36mget_ways_memo\u001b[1;34m(n, c)\u001b[0m\n\u001b[0;32m     12\u001b[0m     \u001b[0mprint\u001b[0m\u001b[1;33m(\u001b[0m\u001b[0mn\u001b[0m\u001b[1;33m,\u001b[0m \u001b[0mc\u001b[0m\u001b[1;33m)\u001b[0m\u001b[1;33m\u001b[0m\u001b[1;33m\u001b[0m\u001b[0m\n\u001b[0;32m     13\u001b[0m     \u001b[1;32mif\u001b[0m \u001b[0mkey\u001b[0m \u001b[1;32mnot\u001b[0m \u001b[1;32min\u001b[0m \u001b[0mCOUNTERDICT\u001b[0m\u001b[1;33m:\u001b[0m\u001b[1;33m\u001b[0m\u001b[1;33m\u001b[0m\u001b[0m\n\u001b[1;32m---> 14\u001b[1;33m         \u001b[0mCOUNTERDICT\u001b[0m\u001b[1;33m[\u001b[0m\u001b[0mkey\u001b[0m\u001b[1;33m]\u001b[0m \u001b[1;33m=\u001b[0m \u001b[0mget_ways_memo\u001b[0m\u001b[1;33m(\u001b[0m\u001b[0mn\u001b[0m \u001b[1;33m+\u001b[0m \u001b[0mc\u001b[0m\u001b[1;33m[\u001b[0m\u001b[1;36m0\u001b[0m\u001b[1;33m]\u001b[0m\u001b[1;33m,\u001b[0m \u001b[0mc\u001b[0m\u001b[1;33m)\u001b[0m \u001b[1;33m+\u001b[0m \u001b[0mget_ways_memo\u001b[0m\u001b[1;33m(\u001b[0m\u001b[0mn\u001b[0m\u001b[1;33m,\u001b[0m \u001b[0mc\u001b[0m\u001b[1;33m[\u001b[0m\u001b[1;36m1\u001b[0m\u001b[1;33m:\u001b[0m\u001b[1;33m]\u001b[0m\u001b[1;33m)\u001b[0m\u001b[1;33m\u001b[0m\u001b[1;33m\u001b[0m\u001b[0m\n\u001b[0m\u001b[0;32m     15\u001b[0m \u001b[1;33m\u001b[0m\u001b[0m\n\u001b[0;32m     16\u001b[0m     \u001b[1;32mreturn\u001b[0m \u001b[0mCOUNTERDICT\u001b[0m\u001b[1;33m[\u001b[0m\u001b[0mkey\u001b[0m\u001b[1;33m]\u001b[0m\u001b[1;33m\u001b[0m\u001b[1;33m\u001b[0m\u001b[0m\n",
      "\u001b[1;31mRecursionError\u001b[0m: maximum recursion depth exceeded while calling a Python object"
     ]
    }
   ],
   "source": [
    "get_ways_memo(10, [2, 4, 6])"
   ]
  },
  {
   "cell_type": "code",
   "execution_count": null,
   "metadata": {
    "scrolled": true
   },
   "outputs": [],
   "source": [
    "COUNTERDICT[(10, [2, 5, 3, 6])] = 5"
   ]
  },
  {
   "cell_type": "markdown",
   "metadata": {},
   "source": [
    "## Putting it all together\n",
    "\n",
    "We've learned two of the major components of programs: **variables** and **functions**. \n",
    "We've also learned two of the major components of program control: **conditionals** (`if` statements) and **iteration** (`for` and `while` loops). \n",
    "We can use these ideas and tools to write code to perform complex tasks. \n",
    "Let's look at an example, involving all of these ideas put together.\n",
    "\n",
    "Below we write a function that prints out all the prime numbers up to some number `n`. We will use iteration to check if each number is prime. We will use a conditional to print out numbers only if they are prime. We will also break up the task into small pieces so our code is easy to read and understand. This means we will use (or _call_) helper functions inside of our solution."
   ]
  },
  {
   "cell_type": "code",
   "execution_count": 99,
   "metadata": {},
   "outputs": [],
   "source": [
    "def is_prime(n):\n",
    "    if n <= 1:\n",
    "        return False\n",
    "            \n",
    "    for factor in range(2, n):\n",
    "        if n % factor == 0:\n",
    "            return False\n",
    "        \n",
    "    return True\n",
    "\n",
    "def print_primes(m):\n",
    "    for n in range(1, m):\n",
    "        if is_prime(n):\n",
    "            print('%d is prime' % n )"
   ]
  },
  {
   "cell_type": "code",
   "execution_count": 100,
   "metadata": {
    "scrolled": true
   },
   "outputs": [
    {
     "name": "stdout",
     "output_type": "stream",
     "text": [
      "2 is prime\n",
      "3 is prime\n",
      "5 is prime\n",
      "7 is prime\n",
      "11 is prime\n",
      "13 is prime\n",
      "17 is prime\n",
      "19 is prime\n",
      "23 is prime\n",
      "29 is prime\n",
      "31 is prime\n",
      "37 is prime\n",
      "41 is prime\n"
     ]
    }
   ],
   "source": [
    "print_primes(42)"
   ]
  },
  {
   "cell_type": "markdown",
   "metadata": {},
   "source": [
    "The other application of functions might be to do something many times (not necessarily in an iteration).  One specific and natural way to understand this is to have a list elements and apply a function to each element of the `list`.  Lets take a list of the first 20 numbers and find which ones are prime.  We will do this and save the result in a `list`. Lists have an `append` method which allows us to add to the end of the list (we will see more about lists in the next lecture)."
   ]
  },
  {
   "cell_type": "code",
   "execution_count": 101,
   "metadata": {},
   "outputs": [
    {
     "data": {
      "text/plain": [
       "[2, 3, 5, 7, 11, 13, 17, 19]"
      ]
     },
     "execution_count": 101,
     "metadata": {},
     "output_type": "execute_result"
    }
   ],
   "source": [
    "list_of_numbers = [0, 1, 2, 3, 4, 5, 6, 7, 8, 9, 10, 11, 12, 13, 14, 15, 16, 17, 18, 19]\n",
    "prime_list = []\n",
    "for number in list_of_numbers:\n",
    "    if is_prime(number):\n",
    "        prime_list.append(number)\n",
    "prime_list"
   ]
  },
  {
   "cell_type": "markdown",
   "metadata": {},
   "source": [
    "Python provides a nice construct to apply a function to every element of a list, called a `list comprehension`, here is an example of one:"
   ]
  },
  {
   "cell_type": "code",
   "execution_count": 310,
   "metadata": {},
   "outputs": [
    {
     "data": {
      "text/plain": [
       "[2, 3, 5, 7, 11, 13, 17, 19]"
      ]
     },
     "execution_count": 310,
     "metadata": {},
     "output_type": "execute_result"
    }
   ],
   "source": [
    "[number for number in list_of_numbers if is_prime(number)]"
   ]
  },
  {
   "cell_type": "markdown",
   "metadata": {},
   "source": [
    "Note that this is a simple bit of code that is very understandable.  We don't need to care **how** the `is_prime` computation is occurring, only that its occurring for every element of `list_of_numbers`.  This means that we can more view our program at a high level without caring about the small details (which hopefully we have already designed well and tested)."
   ]
  },
  {
   "cell_type": "markdown",
   "metadata": {},
   "source": [
    "## More About Functions\n",
    "\n",
    "Notice that the `example_a` and `example_b` had no input, but other functions like `test_high_score` had multiple variables as input.  Remember that a function argument is just a placeholder for a name and will be bound to whatever is passed into the function.  For example:"
   ]
  },
  {
   "cell_type": "code",
   "execution_count": 311,
   "metadata": {},
   "outputs": [
    {
     "name": "stdout",
     "output_type": "stream",
     "text": [
      "inside print_this:  2\n",
      "a =  5\n"
     ]
    }
   ],
   "source": [
    "def print_this(a):\n",
    "    print('inside print_this: ', a)\n",
    "\n",
    "a = 5\n",
    "print_this(2)\n",
    "print('a = ', a)"
   ]
  },
  {
   "cell_type": "markdown",
   "metadata": {},
   "source": [
    "Notice that even though `print_this` was printing the variable `a` inside the function and there was a variable `a` defined outside of the function, the `print` function inside `print_this` still printed what was passed in.  However, I can also "
   ]
  },
  {
   "cell_type": "code",
   "execution_count": 312,
   "metadata": {},
   "outputs": [
    {
     "name": "stdout",
     "output_type": "stream",
     "text": [
      "inside print_it:  5\n",
      "a =  5\n"
     ]
    }
   ],
   "source": [
    "def print_it():\n",
    "    print('inside print_it: ', a)\n",
    "    \n",
    "a = 5\n",
    "print_it()\n",
    "print('a = ', a)"
   ]
  },
  {
   "cell_type": "markdown",
   "metadata": {},
   "source": [
    "Here there is no variable passed into the function so Python uses the variable from the outer scope.  Be careful with this second paradigm as it can be dangerous. The danger lies in the fact that the output of the function depends upon the overall state of the program (namely the value of `a`) as opposed to `print_this` which depends only on the input of the function.  Functions like `print_this` are much easier to reason about, test, and use, they should be preferred in many contexts.\n",
    "\n",
    "That said, there is a very powerful technique called `function closure` which we can make use of this ability.  Lets say we want a function which will raise a number to some exponent, but we don't know which exponent ahead of runtime.  We can define such a function like this."
   ]
  },
  {
   "cell_type": "code",
   "execution_count": 313,
   "metadata": {},
   "outputs": [],
   "source": [
    "def some_exponent(exponent):\n",
    "    def func(x):\n",
    "        return x**exponent\n",
    "    return func"
   ]
  },
  {
   "cell_type": "code",
   "execution_count": 314,
   "metadata": {},
   "outputs": [
    {
     "data": {
      "text/plain": [
       "(4, 8)"
      ]
     },
     "execution_count": 314,
     "metadata": {},
     "output_type": "execute_result"
    }
   ],
   "source": [
    "some_exponent(2)(2), some_exponent(3)(2)"
   ]
  },
  {
   "cell_type": "markdown",
   "metadata": {},
   "source": [
    "Now that we understand how normal arguments work, lets look at a few conveniences Python provides for making functions easier to create.  The first is default arguments.  Let's suppose we have a function which had a bunch of arguments, but most of them had sane defaults, for example:"
   ]
  },
  {
   "cell_type": "code",
   "execution_count": 315,
   "metadata": {},
   "outputs": [
    {
     "name": "stdout",
     "output_type": "stream",
     "text": [
      "I need to:\n",
      "  watch_tv\n",
      "  read\n",
      "  eat\n",
      "  sleep\n"
     ]
    }
   ],
   "source": [
    "def print_todo(watch_tv, read, eat, sleep):\n",
    "    print('I need to:')\n",
    "    if watch_tv:\n",
    "        print('  watch_tv')\n",
    "    if read:\n",
    "        print('  read')\n",
    "    if eat:\n",
    "        print('  eat')\n",
    "    if sleep:\n",
    "        print('  sleep')\n",
    "print_todo(True, True, True, True)"
   ]
  },
  {
   "cell_type": "markdown",
   "metadata": {},
   "source": [
    "I know that I almost always need to eat and sleep, so I can use a default argument for these instead.  This means I don't need to define the value of `eat` and `sleep` unless they are different than the default."
   ]
  },
  {
   "cell_type": "code",
   "execution_count": 316,
   "metadata": {},
   "outputs": [
    {
     "name": "stdout",
     "output_type": "stream",
     "text": [
      "I need to:\n",
      "  watch_tv\n",
      "  read\n",
      "  eat\n",
      "  sleep\n"
     ]
    }
   ],
   "source": [
    "def print_todo_default(watch_tv, read, eat=True, sleep=True):\n",
    "    print('I need to:')\n",
    "    if watch_tv:\n",
    "        print('  watch_tv')\n",
    "    if read:\n",
    "        print('  read')\n",
    "    if eat:\n",
    "        print('  eat')\n",
    "    if sleep:\n",
    "        print('  sleep')\n",
    "print_todo_default(True, True)"
   ]
  },
  {
   "cell_type": "markdown",
   "metadata": {},
   "source": [
    "Another thing we might want to do is take a variable list of arguments, lets write a similar `todo` function as before, but this time we will allow it to pass in any number of arguments.  Here we will make use of the `*args` syntax.  This `*` tells python to gather the rest of the arguments into the tuple `args`."
   ]
  },
  {
   "cell_type": "code",
   "execution_count": 318,
   "metadata": {},
   "outputs": [
    {
     "name": "stdout",
     "output_type": "stream",
     "text": [
      "I need to:\n",
      "  watch_tv\n",
      "  read\n",
      "  eat\n",
      "  sleep\n"
     ]
    }
   ],
   "source": [
    "def print_todo_args(*args):\n",
    "    print('I need to:')\n",
    "    for arg in args:\n",
    "        print('  ' + arg)\n",
    "print_todo_args('watch_tv', 'read', 'eat', 'sleep')"
   ]
  },
  {
   "cell_type": "markdown",
   "metadata": {},
   "source": [
    "# String formatting"
   ]
  },
  {
   "cell_type": "code",
   "execution_count": 61,
   "metadata": {},
   "outputs": [],
   "source": [
    "my_name = \"chisom\"\n",
    "my_list = [0, 1, 2, 3]"
   ]
  },
  {
   "cell_type": "code",
   "execution_count": 62,
   "metadata": {},
   "outputs": [],
   "source": [
    "name = \"okocha\"\n",
    "age =  20 \n",
    "jersey = 20"
   ]
  },
  {
   "cell_type": "code",
   "execution_count": 70,
   "metadata": {},
   "outputs": [
    {
     "name": "stdout",
     "output_type": "stream",
     "text": [
      "okocha is 20 years old. His jersey_number is 20\n"
     ]
    }
   ],
   "source": [
    "#using the f string format will help you format the print statement\n",
    "print(f\"{name} is {age} years old. His jersey_number is {jersey}\")"
   ]
  },
  {
   "cell_type": "code",
   "execution_count": 69,
   "metadata": {},
   "outputs": [
    {
     "name": "stdout",
     "output_type": "stream",
     "text": [
      "okocha is 20 is 20 years old. His jersey number is 20\n"
     ]
    }
   ],
   "source": [
    "#the above code can be replaicated as this:\n",
    "\n",
    "print(\"{} is {} is 20 years old. His jersey number is {}\".\n",
    "          format(name, age, jersey))"
   ]
  },
  {
   "cell_type": "code",
   "execution_count": 64,
   "metadata": {
    "scrolled": true
   },
   "outputs": [
    {
     "name": "stdout",
     "output_type": "stream",
     "text": [
      "I like curly brackets {}\n"
     ]
    }
   ],
   "source": [
    "print(f\"I like curly brackets {{}}\")"
   ]
  },
  {
   "cell_type": "code",
   "execution_count": 66,
   "metadata": {},
   "outputs": [
    {
     "name": "stdout",
     "output_type": "stream",
     "text": [
      "Neuer is the 'best' goalkeeper in the \n",
      " world\n"
     ]
    }
   ],
   "source": [
    "print(f\"Neuer is the 'best' goalkeeper in the \\n world\")"
   ]
  },
  {
   "cell_type": "markdown",
   "metadata": {},
   "source": [
    "# Time it Magic"
   ]
  },
  {
   "cell_type": "code",
   "execution_count": 72,
   "metadata": {},
   "outputs": [
    {
     "name": "stdout",
     "output_type": "stream",
     "text": [
      "1.06 µs ± 32 ns per loop (mean ± std. dev. of 7 runs, 1000000 loops each)\n"
     ]
    }
   ],
   "source": [
    "%%timeit\n",
    "sum([1, 2, 3])"
   ]
  },
  {
   "cell_type": "markdown",
   "metadata": {},
   "source": [
    "# Exceptions and Error Handling (e.g. TypeError)"
   ]
  },
  {
   "cell_type": "markdown",
   "metadata": {},
   "source": [
    "This is how to simply handle error and move your program cells."
   ]
  },
  {
   "cell_type": "code",
   "execution_count": 18,
   "metadata": {},
   "outputs": [],
   "source": [
    "my_tuple = (1, 2, 3)"
   ]
  },
  {
   "cell_type": "code",
   "execution_count": 19,
   "metadata": {},
   "outputs": [
    {
     "ename": "TypeError",
     "evalue": "'tuple' object does not support item assignment",
     "output_type": "error",
     "traceback": [
      "\u001b[1;31m---------------------------------------------------------------------------\u001b[0m",
      "\u001b[1;31mTypeError\u001b[0m                                 Traceback (most recent call last)",
      "\u001b[1;32m<ipython-input-19-d825ac17b881>\u001b[0m in \u001b[0;36m<module>\u001b[1;34m\u001b[0m\n\u001b[1;32m----> 1\u001b[1;33m \u001b[0mmy_tuple\u001b[0m\u001b[1;33m[\u001b[0m\u001b[1;36m0\u001b[0m\u001b[1;33m]\u001b[0m \u001b[1;33m=\u001b[0m \u001b[1;33m-\u001b[0m\u001b[1;36m1\u001b[0m\u001b[1;33m\u001b[0m\u001b[1;33m\u001b[0m\u001b[0m\n\u001b[0m",
      "\u001b[1;31mTypeError\u001b[0m: 'tuple' object does not support item assignment"
     ]
    }
   ],
   "source": [
    "my_tuple[0] = -1"
   ]
  },
  {
   "cell_type": "code",
   "execution_count": 20,
   "metadata": {},
   "outputs": [
    {
     "name": "stdout",
     "output_type": "stream",
     "text": [
      "This can't be done\n",
      "program will not be stopped\n"
     ]
    }
   ],
   "source": [
    "try:\n",
    "    my_tuple[0] = -1\n",
    "except TypeError:\n",
    "    print(\"This can't be done\")\n",
    "    \n",
    "print(\"program will not be stopped\")"
   ]
  },
  {
   "cell_type": "code",
   "execution_count": 23,
   "metadata": {},
   "outputs": [
    {
     "name": "stdout",
     "output_type": "stream",
     "text": [
      "out of range selection\n"
     ]
    }
   ],
   "source": [
    "my_list3 = [1, 3, 5, 7]\n",
    "\n",
    "try:\n",
    "    print(my_list3[4])\n",
    "except IndexError:\n",
    "    print(\"out of range selection\")"
   ]
  },
  {
   "cell_type": "code",
   "execution_count": 29,
   "metadata": {},
   "outputs": [
    {
     "ename": "ZeroDivisionError",
     "evalue": "division by zero",
     "output_type": "error",
     "traceback": [
      "\u001b[1;31m---------------------------------------------------------------------------\u001b[0m",
      "\u001b[1;31mZeroDivisionError\u001b[0m                         Traceback (most recent call last)",
      "\u001b[1;32m<ipython-input-29-a276c294cadd>\u001b[0m in \u001b[0;36m<module>\u001b[1;34m\u001b[0m\n\u001b[0;32m      2\u001b[0m \u001b[0mb\u001b[0m \u001b[1;33m=\u001b[0m \u001b[1;36m0\u001b[0m\u001b[1;33m\u001b[0m\u001b[1;33m\u001b[0m\u001b[0m\n\u001b[0;32m      3\u001b[0m \u001b[1;33m\u001b[0m\u001b[0m\n\u001b[1;32m----> 4\u001b[1;33m \u001b[0mc\u001b[0m \u001b[1;33m=\u001b[0m \u001b[0ma\u001b[0m \u001b[1;33m/\u001b[0m \u001b[0mb\u001b[0m\u001b[1;33m\u001b[0m\u001b[1;33m\u001b[0m\u001b[0m\n\u001b[0m\u001b[0;32m      5\u001b[0m \u001b[1;33m\u001b[0m\u001b[0m\n\u001b[0;32m      6\u001b[0m \u001b[1;32mtry\u001b[0m\u001b[1;33m:\u001b[0m\u001b[1;33m\u001b[0m\u001b[1;33m\u001b[0m\u001b[0m\n",
      "\u001b[1;31mZeroDivisionError\u001b[0m: division by zero"
     ]
    }
   ],
   "source": [
    "a = 1\n",
    "b = 0\n",
    "\n",
    "c = a / b\n",
    "\n",
    "try:\n",
    "    c\n",
    "except ZeroDivisionError:\n",
    "    return 0"
   ]
  },
  {
   "cell_type": "code",
   "execution_count": 30,
   "metadata": {},
   "outputs": [],
   "source": [
    "def division(a, b):\n",
    "    try:\n",
    "        return a/b\n",
    "    except Exception:\n",
    "        return -1"
   ]
  },
  {
   "cell_type": "markdown",
   "metadata": {},
   "source": [
    "it is good practice to state the particular error type to get"
   ]
  },
  {
   "cell_type": "markdown",
   "metadata": {},
   "source": [
    "*Copyright &copy; 2020 The Data Incubator.  All rights reserved.*\n",
    "**Edited by Chisiomloius**"
   ]
  }
 ],
 "metadata": {
  "kernelspec": {
   "display_name": "Python 3",
   "language": "python",
   "name": "python3"
  },
  "language_info": {
   "codemirror_mode": {
    "name": "ipython",
    "version": 3
   },
   "file_extension": ".py",
   "mimetype": "text/x-python",
   "name": "python",
   "nbconvert_exporter": "python",
   "pygments_lexer": "ipython3",
   "version": "3.8.3"
  }
 },
 "nbformat": 4,
 "nbformat_minor": 4
}
