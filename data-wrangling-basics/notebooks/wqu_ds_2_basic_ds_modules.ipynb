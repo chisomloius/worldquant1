{
 "cells": [
  {
   "cell_type": "code",
   "execution_count": 90,
   "metadata": {},
   "outputs": [
    {
     "name": "stdout",
     "output_type": "stream",
     "text": [
      "Logging hadn't been started.\n"
     ]
    },
    {
     "name": "stderr",
     "output_type": "stream",
     "text": [
      "C:\\Users\\User\\anaconda3\\lib\\site-packages\\IPython\\core\\magics\\logging.py:130: UserWarning: Couldn't start log: [Errno 2] No such file or directory: 'C:\\\\Users\\\\User/.logs/wqu_2_basic_ds_modules.py'\n",
      "  warn(\"Couldn't start log: %s\" % sys.exc_info()[1])\n"
     ]
    }
   ],
   "source": [
    "%logstop\n",
    "%logstart -rtq ~/.logs/wqu_2_basic_ds_modules.py append\n",
    "%matplotlib inline\n",
    "import matplotlib\n",
    "import seaborn as sns\n",
    "sns.set()\n",
    "matplotlib.rcParams['figure.dpi'] = 144"
   ]
  },
  {
   "cell_type": "markdown",
   "metadata": {},
   "source": [
    "# Basic data tools: NumPy, Matplotlib, Pandas\n",
    "\n",
    "Python is a powerful and flexible programming language, but it doesn't have built-in tools for mathematical analysis or data visualization. For most data analysis we will rely on some helpful libraries. We'll explore three libraries that are very common for data analysis and visualization."
   ]
  },
  {
   "cell_type": "markdown",
   "metadata": {},
   "source": [
    "## NumPy\n",
    "\n",
    "First among these is NumPy. The main NumPy features are three-fold: its mathematical functions (e.g. `sin`, `log`, `floor`), its `random` submodule (useful for random sampling), and the NumPy `ndarray` object.\n",
    "\n",
    "A NumPy array is similar to a mathematical n-dimensional matrix. For example, \n",
    "\n",
    "$$\\begin{bmatrix}\n",
    "    x_{11} & x_{12} & x_{13} & \\dots  & x_{1n} \\\\\n",
    "    x_{21} & x_{22} & x_{23} & \\dots  & x_{2n} \\\\\n",
    "    \\vdots & \\vdots & \\vdots & \\ddots & \\vdots \\\\\n",
    "    x_{d1} & x_{d2} & x_{d3} & \\dots  & x_{dn}\n",
    "\\end{bmatrix}$$\n",
    "\n",
    "A NumPy array could be 1-dimensional (e.g. [1, 5, 20, 34, ...]), 2-dimensional (as above), or many dimensions. It's important to note that all the rows and columns of the 2-dimensional array are the same length. That will be true for all dimensions of arrays.\n",
    "\n",
    "Let's contrast this with lists."
   ]
  },
  {
   "cell_type": "code",
   "execution_count": 91,
   "metadata": {},
   "outputs": [],
   "source": [
    "# to access NumPy, we have to import it\n",
    "import numpy as np"
   ]
  },
  {
   "cell_type": "code",
   "execution_count": 92,
   "metadata": {},
   "outputs": [
    {
     "name": "stdout",
     "output_type": "stream",
     "text": [
      "[[1, 2, 3], [4, 5, 6], [7, 8, 9]]\n"
     ]
    }
   ],
   "source": [
    "list_of_lists = [[1, 2, 3], [4, 5, 6], [7, 8, 9]]\n",
    "print(list_of_lists)"
   ]
  },
  {
   "cell_type": "code",
   "execution_count": 93,
   "metadata": {},
   "outputs": [
    {
     "name": "stdout",
     "output_type": "stream",
     "text": [
      "[[1 2 3]\n",
      " [4 5 6]\n",
      " [7 8 9]]\n"
     ]
    }
   ],
   "source": [
    "an_array = np.array(list_of_lists)\n",
    "print(an_array)"
   ]
  },
  {
   "cell_type": "code",
   "execution_count": 94,
   "metadata": {},
   "outputs": [
    {
     "name": "stdout",
     "output_type": "stream",
     "text": [
      "[[1, 2], [3, 4, 5], [6, 7, 8, 9]]\n"
     ]
    }
   ],
   "source": [
    "non_rectangular = [[1, 2], [3, 4, 5], [6, 7, 8, 9]]\n",
    "print(non_rectangular)"
   ]
  },
  {
   "cell_type": "code",
   "execution_count": 95,
   "metadata": {},
   "outputs": [
    {
     "name": "stdout",
     "output_type": "stream",
     "text": [
      "[list([1, 2]) list([3, 4, 5]) list([6, 7, 8, 9])]\n"
     ]
    }
   ],
   "source": [
    "non_rectangular_array = np.array(non_rectangular)\n",
    "print(non_rectangular_array)"
   ]
  },
  {
   "cell_type": "markdown",
   "metadata": {},
   "source": [
    "Why did these print differently? Let's investigate their _shape_ and _data type_ (`dtype`)."
   ]
  },
  {
   "cell_type": "code",
   "execution_count": 96,
   "metadata": {},
   "outputs": [
    {
     "name": "stdout",
     "output_type": "stream",
     "text": [
      "(3, 3) int32\n",
      "(3,) object\n"
     ]
    }
   ],
   "source": [
    "print(an_array.shape, an_array.dtype)\n",
    "print(non_rectangular_array.shape, non_rectangular_array.dtype)"
   ]
  },
  {
   "cell_type": "markdown",
   "metadata": {},
   "source": [
    "The first case, `an_array`, is a 2-dimensional 3x3 array (of integers). In contrast, `non_rectangular_array` is a 1-dimensional length 3 array (of _objects_, namely `list` objects).\n",
    "\n",
    "We can also create a variety of arrays with NumPy's convenience functions."
   ]
  },
  {
   "cell_type": "code",
   "execution_count": 97,
   "metadata": {},
   "outputs": [
    {
     "data": {
      "text/plain": [
       "array([ 1.,  2.,  3.,  4.,  5.,  6.,  7.,  8.,  9., 10.])"
      ]
     },
     "execution_count": 97,
     "metadata": {},
     "output_type": "execute_result"
    }
   ],
   "source": [
    "np.linspace(1, 10, 10)"
   ]
  },
  {
   "cell_type": "code",
   "execution_count": 98,
   "metadata": {},
   "outputs": [
    {
     "data": {
      "text/plain": [
       "array([1, 2, 3, 4, 5, 6, 7, 8, 9])"
      ]
     },
     "execution_count": 98,
     "metadata": {},
     "output_type": "execute_result"
    }
   ],
   "source": [
    "np.arange(1, 10, 1)"
   ]
  },
  {
   "cell_type": "code",
   "execution_count": 99,
   "metadata": {},
   "outputs": [
    {
     "data": {
      "text/plain": [
       "array([1.e+01, 1.e+02, 1.e+03, 1.e+04, 1.e+05, 1.e+06, 1.e+07, 1.e+08,\n",
       "       1.e+09, 1.e+10])"
      ]
     },
     "execution_count": 99,
     "metadata": {},
     "output_type": "execute_result"
    }
   ],
   "source": [
    "np.logspace(1, 10, 10)"
   ]
  },
  {
   "cell_type": "code",
   "execution_count": 100,
   "metadata": {},
   "outputs": [
    {
     "data": {
      "text/plain": [
       "array([0., 0., 0., 0., 0., 0., 0., 0., 0., 0.])"
      ]
     },
     "execution_count": 100,
     "metadata": {},
     "output_type": "execute_result"
    }
   ],
   "source": [
    "np.zeros(10)"
   ]
  },
  {
   "cell_type": "code",
   "execution_count": 101,
   "metadata": {},
   "outputs": [
    {
     "data": {
      "text/plain": [
       "array([[1, 0, 0, 0],\n",
       "       [0, 2, 0, 0],\n",
       "       [0, 0, 3, 0],\n",
       "       [0, 0, 0, 4]])"
      ]
     },
     "execution_count": 101,
     "metadata": {},
     "output_type": "execute_result"
    }
   ],
   "source": [
    "np.diag([1,2,3,4])"
   ]
  },
  {
   "cell_type": "code",
   "execution_count": 102,
   "metadata": {},
   "outputs": [
    {
     "data": {
      "text/plain": [
       "array([[1., 0., 0., 0., 0.],\n",
       "       [0., 1., 0., 0., 0.],\n",
       "       [0., 0., 1., 0., 0.],\n",
       "       [0., 0., 0., 1., 0.],\n",
       "       [0., 0., 0., 0., 1.]])"
      ]
     },
     "execution_count": 102,
     "metadata": {},
     "output_type": "execute_result"
    }
   ],
   "source": [
    "np.eye(5)"
   ]
  },
  {
   "cell_type": "markdown",
   "metadata": {},
   "source": [
    "We can also convert the `dtype` of an array after creation."
   ]
  },
  {
   "cell_type": "code",
   "execution_count": 103,
   "metadata": {},
   "outputs": [
    {
     "name": "stdout",
     "output_type": "stream",
     "text": [
      "float64\n",
      "int32\n"
     ]
    },
    {
     "data": {
      "text/plain": [
       "array([1.e+01, 1.e+02, 1.e+03, 1.e+04, 1.e+05, 1.e+06, 1.e+07, 1.e+08,\n",
       "       1.e+09, 1.e+10])"
      ]
     },
     "execution_count": 103,
     "metadata": {},
     "output_type": "execute_result"
    }
   ],
   "source": [
    "print(np.logspace(1, 10, 10).dtype)\n",
    "print(np.logspace(1, 10, 10).astype(int).dtype)\n",
    "np.logspace(1, 10, 10)"
   ]
  },
  {
   "cell_type": "markdown",
   "metadata": {},
   "source": [
    "Wbhy does any of this matter?\n",
    "\n",
    "Arrays are often more efficient in terms of code as well as computational resources for certain calculations. Computationally this efficiency comes from the fact that we pre-allocate a contiguous block of memory for the results of our computation.\n",
    "\n",
    "To explore the advantages in code, let's try to do some math on these numbers.\n",
    "\n",
    "First let's simply calculate the sum of all the numbers and look at the differences in the necessary code for `list_of_lists`, `an_array`, and `non_rectangular_array`."
   ]
  },
  {
   "cell_type": "code",
   "execution_count": 104,
   "metadata": {},
   "outputs": [
    {
     "name": "stdout",
     "output_type": "stream",
     "text": [
      "45\n",
      "45\n"
     ]
    }
   ],
   "source": [
    "print(sum([sum(inner_list) for inner_list in list_of_lists]))\n",
    "print(an_array.sum())"
   ]
  },
  {
   "cell_type": "code",
   "execution_count": 105,
   "metadata": {},
   "outputs": [
    {
     "ename": "SyntaxError",
     "evalue": "unexpected EOF while parsing (<ipython-input-105-b93b3563ad92>, line 2)",
     "output_type": "error",
     "traceback": [
      "\u001b[1;36m  File \u001b[1;32m\"<ipython-input-105-b93b3563ad92>\"\u001b[1;36m, line \u001b[1;32m2\u001b[0m\n\u001b[1;33m    print(range(1, 9)\u001b[0m\n\u001b[1;37m                     ^\u001b[0m\n\u001b[1;31mSyntaxError\u001b[0m\u001b[1;31m:\u001b[0m unexpected EOF while parsing\n"
     ]
    }
   ],
   "source": [
    "range(1, 9)\n",
    "print(range(1, 9)"
   ]
  },
  {
   "cell_type": "markdown",
   "metadata": {},
   "source": [
    "Summing the numbers in an array is much easier than for a list of lists. We don't have to dig into a hierarchy of lists, we just use the `sum` method of the `ndarray`. Does this still work for `non_rectangular_array`?"
   ]
  },
  {
   "cell_type": "code",
   "execution_count": 106,
   "metadata": {},
   "outputs": [
    {
     "name": "stdout",
     "output_type": "stream",
     "text": [
      "[1, 2, 3, 4, 5, 6, 7, 8, 9]\n"
     ]
    }
   ],
   "source": [
    "# what happens here?\n",
    "print(non_rectangular_array.sum())"
   ]
  },
  {
   "cell_type": "markdown",
   "metadata": {},
   "source": [
    "Remember `non_rectangular_array` is a 1-dimensional array of `list` objects. The `sum` method tries to add them together: first list + second list + third list. Addition of lists results in _concatenation_."
   ]
  },
  {
   "cell_type": "code",
   "execution_count": 107,
   "metadata": {},
   "outputs": [
    {
     "name": "stdout",
     "output_type": "stream",
     "text": [
      "[1, 2, 3, 4, 5, 6, 7, 8, 9]\n"
     ]
    }
   ],
   "source": [
    "# concatenate three lists\n",
    "print([1, 2] + [3, 4, 5] + [6, 7, 8, 9])"
   ]
  },
  {
   "cell_type": "markdown",
   "metadata": {},
   "source": [
    "The contrast becomes even more clear when we try to sum rows or columns individually."
   ]
  },
  {
   "cell_type": "code",
   "execution_count": 108,
   "metadata": {},
   "outputs": [
    {
     "name": "stdout",
     "output_type": "stream",
     "text": [
      "Array row sums:  [ 6 15 24]\n",
      "Array column sums:  [12 15 18]\n"
     ]
    }
   ],
   "source": [
    "print('Array row sums: ', an_array.sum(axis=1))\n",
    "print('Array column sums: ', an_array.sum(axis=0))"
   ]
  },
  {
   "cell_type": "code",
   "execution_count": 109,
   "metadata": {},
   "outputs": [
    {
     "name": "stdout",
     "output_type": "stream",
     "text": [
      "List of list row sums:  [6, 15, 24]\n",
      "List of list column sums:  [12, 15, 18]\n"
     ]
    }
   ],
   "source": [
    "print('List of list row sums: ', [sum(inner_list) for inner_list in list_of_lists])\n",
    "\n",
    "def column_sum(list_of_lists):\n",
    "    running_sums = [0] * len(list_of_lists[0])\n",
    "    for inner_list in list_of_lists:\n",
    "        for i, number in enumerate(inner_list):\n",
    "            running_sums[i] += number\n",
    "            \n",
    "    return running_sums\n",
    "\n",
    "print('List of list column sums: ', column_sum(list_of_lists))"
   ]
  },
  {
   "cell_type": "markdown",
   "metadata": {},
   "source": [
    "Generally it is much more natural to do mathematical operations with arrays than lists."
   ]
  },
  {
   "cell_type": "code",
   "execution_count": 110,
   "metadata": {},
   "outputs": [
    {
     "name": "stdout",
     "output_type": "stream",
     "text": [
      "[1 2 3 4 5]\n",
      "[ 6  7  8  9 10]\n",
      "[ 5 10 15 20 25]\n",
      "[0.2 0.4 0.6 0.8 1. ]\n"
     ]
    }
   ],
   "source": [
    "a = np.array([1, 2, 3, 4, 5])\n",
    "print(a)\n",
    "print(a + 5) # add a scalar\n",
    "print(a * 5) # multiply by a scalar\n",
    "print(a / 5) # divide by a scalar (note the float!)"
   ]
  },
  {
   "cell_type": "code",
   "execution_count": 111,
   "metadata": {},
   "outputs": [
    {
     "name": "stdout",
     "output_type": "stream",
     "text": [
      "[ 3  5  7  9 11]\n",
      "[ 2  6 12 20 30]\n",
      "[0.5        0.66666667 0.75       0.8        0.83333333]\n"
     ]
    }
   ],
   "source": [
    "b = a + 1\n",
    "print(a + b) # add together two arrays\n",
    "print(a * b) # multiply two arrays (element-wise)\n",
    "print(a / b.astype(float)) # divide two arrays (element-wise)"
   ]
  },
  {
   "cell_type": "markdown",
   "metadata": {},
   "source": [
    "Arrays can also be used for linear algebra, acting as vectors, matrices, tensors, etc."
   ]
  },
  {
   "cell_type": "code",
   "execution_count": 112,
   "metadata": {},
   "outputs": [
    {
     "name": "stdout",
     "output_type": "stream",
     "text": [
      "70\n",
      "[[ 2  3  4  5  6]\n",
      " [ 4  6  8 10 12]\n",
      " [ 6  9 12 15 18]\n",
      " [ 8 12 16 20 24]\n",
      " [10 15 20 25 30]]\n"
     ]
    }
   ],
   "source": [
    "print(np.dot(a, b)) # inner product of two arrays\n",
    "print(np.outer(a, b)) # outer product of two arrays"
   ]
  },
  {
   "cell_type": "markdown",
   "metadata": {},
   "source": [
    "Arrays have a lot to offer us in terms of representing and analyzing data, since we can easily apply mathematical functions to data sets or sections of data sets. Most of the time we won't run into any trouble using arrays, but it's good to be mindful of the restrictions around shape and datatype.\n",
    "\n",
    "These restrictions around `shape` and `dtype` allow the `ndarray` objects to be much more performant compared to a general Python `list`.  There are few reasons for this, but the main two result from the typed nature of the `ndarray`, as this allows contiguous memory storage and consistent function lookup.  When a Python `list` is summed, Python needs to figure out at runtime the correct way in which to add each element of the list together.  When an `ndarray` is summed, `NumPy` already knows the type of the each element (and they are consistent), thus it can sum them without checking the correct add function for each element.\n",
    "\n",
    "Lets see this in action by doing some basic profiling.  First we will create a list of 100000 random elements and then time the sum function."
   ]
  },
  {
   "cell_type": "code",
   "execution_count": 113,
   "metadata": {},
   "outputs": [],
   "source": [
    "time_list = [np.random.random() for _ in range(100000)]\n",
    "time_arr = np.array(time_list)"
   ]
  },
  {
   "cell_type": "code",
   "execution_count": 114,
   "metadata": {},
   "outputs": [
    {
     "name": "stdout",
     "output_type": "stream",
     "text": [
      "2.42 ms ± 177 µs per loop (mean ± std. dev. of 7 runs, 100 loops each)\n"
     ]
    }
   ],
   "source": [
    "%%timeit \n",
    "sum(time_list)"
   ]
  },
  {
   "cell_type": "code",
   "execution_count": 115,
   "metadata": {},
   "outputs": [
    {
     "name": "stdout",
     "output_type": "stream",
     "text": [
      "274 µs ± 18.6 µs per loop (mean ± std. dev. of 7 runs, 1000 loops each)\n"
     ]
    }
   ],
   "source": [
    "%%timeit\n",
    "np.sum(time_arr)"
   ]
  },
  {
   "cell_type": "markdown",
   "metadata": {},
   "source": [
    "### Universal functions\n",
    "\n",
    "`NumPy` defines a `ufunc` which allows it to efficiently run functions over arrays.  Many of these functions are built in, such as `np.cos`, and implemented in highly performance compiled `C` code.  These functions can perform `broadcasting` which allows them to automatically handle operations between arrays of different shapes, for example two arrays with the same shape, or an array and a scalar."
   ]
  },
  {
   "cell_type": "markdown",
   "metadata": {},
   "source": [
    "### Changing Shape\n",
    "\n",
    "Often we will want to take arrays that are one shape and transform them to a different shape more amenable to a specific operation."
   ]
  },
  {
   "cell_type": "code",
   "execution_count": 116,
   "metadata": {},
   "outputs": [],
   "source": [
    "mat = np.random.rand(20, 10)"
   ]
  },
  {
   "cell_type": "code",
   "execution_count": 117,
   "metadata": {},
   "outputs": [
    {
     "data": {
      "text/plain": [
       "(40, 5)"
      ]
     },
     "execution_count": 117,
     "metadata": {},
     "output_type": "execute_result"
    }
   ],
   "source": [
    "mat.reshape(40, 5).shape"
   ]
  },
  {
   "cell_type": "code",
   "execution_count": 118,
   "metadata": {},
   "outputs": [
    {
     "name": "stderr",
     "output_type": "stream",
     "text": [
      "UsageError: Cell magic `%%expect_exception` not found.\n"
     ]
    }
   ],
   "source": [
    "%%expect_exception ValueError\n",
    "\n",
    "mat.reshape(30, 5)"
   ]
  },
  {
   "cell_type": "code",
   "execution_count": 119,
   "metadata": {},
   "outputs": [
    {
     "data": {
      "text/plain": [
       "(200,)"
      ]
     },
     "execution_count": 119,
     "metadata": {},
     "output_type": "execute_result"
    }
   ],
   "source": [
    "mat.ravel().shape"
   ]
  },
  {
   "cell_type": "code",
   "execution_count": 120,
   "metadata": {},
   "outputs": [
    {
     "data": {
      "text/plain": [
       "(10, 20)"
      ]
     },
     "execution_count": 120,
     "metadata": {},
     "output_type": "execute_result"
    }
   ],
   "source": [
    "mat.transpose().shape"
   ]
  },
  {
   "cell_type": "markdown",
   "metadata": {},
   "source": [
    "### Combining arrays"
   ]
  },
  {
   "cell_type": "code",
   "execution_count": 121,
   "metadata": {},
   "outputs": [
    {
     "name": "stdout",
     "output_type": "stream",
     "text": [
      "[1 2 3 4 5]\n",
      "[2 3 4 5 6]\n"
     ]
    }
   ],
   "source": [
    "print(a)\n",
    "print(b)"
   ]
  },
  {
   "cell_type": "code",
   "execution_count": 122,
   "metadata": {},
   "outputs": [
    {
     "data": {
      "text/plain": [
       "array([1, 2, 3, 4, 5, 2, 3, 4, 5, 6])"
      ]
     },
     "execution_count": 122,
     "metadata": {},
     "output_type": "execute_result"
    }
   ],
   "source": [
    "np.hstack((a, b))"
   ]
  },
  {
   "cell_type": "code",
   "execution_count": 123,
   "metadata": {},
   "outputs": [
    {
     "data": {
      "text/plain": [
       "array([[1, 2, 3, 4, 5],\n",
       "       [2, 3, 4, 5, 6]])"
      ]
     },
     "execution_count": 123,
     "metadata": {},
     "output_type": "execute_result"
    }
   ],
   "source": [
    "np.vstack((a, b))"
   ]
  },
  {
   "cell_type": "code",
   "execution_count": 124,
   "metadata": {},
   "outputs": [
    {
     "data": {
      "text/plain": [
       "array([[[1, 2],\n",
       "        [2, 3],\n",
       "        [3, 4],\n",
       "        [4, 5],\n",
       "        [5, 6]]])"
      ]
     },
     "execution_count": 124,
     "metadata": {},
     "output_type": "execute_result"
    }
   ],
   "source": [
    "np.dstack((a, b))"
   ]
  },
  {
   "cell_type": "markdown",
   "metadata": {},
   "source": [
    "### Basic data aggregation\n",
    "\n",
    "Let's explore some more examples of using arrays, this time using NumPy's `random` submodule to create some \"fake data\". Simulating data is useful for testing and prototyping new techniques or code, and some algorithms even require random input."
   ]
  },
  {
   "cell_type": "code",
   "execution_count": 125,
   "metadata": {},
   "outputs": [
    {
     "name": "stdout",
     "output_type": "stream",
     "text": [
      "[[369 294 366 192 233 369 466 268 135 361 325 399 167 170 372 180 169 247\n",
      "  470 366]\n",
      " [376 405 144 265 380 366 423 423 386 343 199 149 438 224 329 286 482 145\n",
      "  316 431]\n",
      " [289 455 360 279 438 341 245 415 204 334 404 319 414 337 359 232 484 348\n",
      "  117 210]\n",
      " [306 129 174 327 285 309 344 435 202 133 493 403 223 225 438 232 469 403\n",
      "  303 351]\n",
      " [463 336 190 383 403 449 198 256 241 455 469 350 109 258 237 162 108 169\n",
      "  417 203]\n",
      " [275 429 339 152 314 207 340 243 410 454 255 270 116 284 129 332 351 390\n",
      "  176 296]\n",
      " [196 450 279 216 255 311 205 243 304 342 118 371 241 394 212 148 130 319\n",
      "  323 438]\n",
      " [225 452 463 133 109 499 328 339 479 112 453 335 182 418 173 433 230 431\n",
      "  480 476]\n",
      " [298 420 299 353 137 399 266 310 496 292 390 407 360 203 432 443 152 433\n",
      "  269 382]\n",
      " [336 435 105 446 421 342 408 388 277 301 162 357 190 279 280 283 369 113\n",
      "  421 226]\n",
      " [395 288 243 350 347 291 432 412 108 222 153 319 176 447 363 296 346 236\n",
      "  348 113]\n",
      " [276 161 225 297 118 394 472 351 319 438 477 152 348 168 403 481 173 434\n",
      "  487 368]\n",
      " [464 293 137 125 311 220 217 443 483 137 442 263 123 358 196 234 383 213\n",
      "  148 219]\n",
      " [347 313 183 134 365 355 465 136 172 437 274 347 170 481 279 408 138 146\n",
      "  496 160]\n",
      " [441 350 272 417 295 433 418 393 168 259 418 387 240 202 202 193 238 446\n",
      "  354 467]\n",
      " [467 212 379 479 259 409 209 273 290 137 380 202 128 472 455 380 397 175\n",
      "  345 469]]\n"
     ]
    }
   ],
   "source": [
    "np.random.seed(320)\n",
    "my_dice = np.random.randint(100, 500, size = (16, 20))\n",
    "print(my_dice)\n"
   ]
  },
  {
   "cell_type": "code",
   "execution_count": 126,
   "metadata": {},
   "outputs": [
    {
     "name": "stdout",
     "output_type": "stream",
     "text": [
      "[[127 117  39 131  96  45 127]\n",
      " [146  99 112 141 124 128 176]\n",
      " [155 174  77  26 112 182  62]\n",
      " [154  45 185  82  46 113  73]]\n"
     ]
    }
   ],
   "source": [
    "np.random.seed(42)\n",
    "jan_coffee_sales = np.random.randint(25, 200, size=(4, 7))\n",
    "print(jan_coffee_sales)"
   ]
  },
  {
   "cell_type": "code",
   "execution_count": 127,
   "metadata": {},
   "outputs": [
    {
     "name": "stdout",
     "output_type": "stream",
     "text": [
      "Mean coffees sold per day in January: 110\n"
     ]
    }
   ],
   "source": [
    "# mean sales\n",
    "print('Mean coffees sold per day in January: %d' % jan_coffee_sales.mean())"
   ]
  },
  {
   "cell_type": "code",
   "execution_count": 128,
   "metadata": {},
   "outputs": [
    {
     "name": "stdout",
     "output_type": "stream",
     "text": [
      "Mean coffees sold on Monday in January: 108\n"
     ]
    }
   ],
   "source": [
    "# mean sales for Monday\n",
    "print('Mean coffees sold on Monday in January: %d' % jan_coffee_sales[:, 1].mean())"
   ]
  },
  {
   "cell_type": "code",
   "execution_count": 129,
   "metadata": {},
   "outputs": [
    {
     "name": "stdout",
     "output_type": "stream",
     "text": [
      "Mean coffees sold on Tuesday in January: 103\n"
     ]
    }
   ],
   "source": [
    "# mean sales for Tuesday\n",
    "print('Mean coffees sold on Tuesday in January: %d' % jan_coffee_sales[:, 2].mean())"
   ]
  },
  {
   "cell_type": "code",
   "execution_count": 130,
   "metadata": {},
   "outputs": [
    {
     "name": "stdout",
     "output_type": "stream",
     "text": [
      "Day with highest sales was January 24\n"
     ]
    }
   ],
   "source": [
    "# day with most sales\n",
    "# remember we count dates from 1, not 0!\n",
    "print('Day with highest sales was January %d' % (jan_coffee_sales.argmax() + 1))"
   ]
  },
  {
   "cell_type": "code",
   "execution_count": 131,
   "metadata": {},
   "outputs": [
    {
     "data": {
      "text/plain": [
       "[(Fraction(0, 1), 4.930380657631324e-32),\n",
       " (Fraction(1, 28), 11.81850804066758),\n",
       " (Fraction(1, 14), 3.062417712828277),\n",
       " (Fraction(3, 28), 3.6145035763808595),\n",
       " (Fraction(1, 7), 8.992489334676053),\n",
       " (Fraction(5, 28), 3.689054592513944),\n",
       " (Fraction(3, 14), 8.363267066546033),\n",
       " (Fraction(1, 4), 16.615944819859244),\n",
       " (Fraction(2, 7), 0.6736105397207648),\n",
       " (Fraction(9, 28), 6.846412421396466),\n",
       " (Fraction(5, 14), 14.279717692527932),\n",
       " (Fraction(11, 28), 17.951272090034657),\n",
       " (Fraction(3, 7), 4.608890497088778),\n",
       " (Fraction(13, 28), 6.579601542582696)]"
      ]
     },
     "execution_count": 131,
     "metadata": {},
     "output_type": "execute_result"
    }
   ],
   "source": [
    "# is there a weekly periodicity?\n",
    "from fractions import Fraction\n",
    "\n",
    "normalized_sales = (jan_coffee_sales - jan_coffee_sales.mean()) / abs(jan_coffee_sales - jan_coffee_sales.mean()).max()\n",
    "frequencies = [Fraction.from_float(f).limit_denominator() for f in np.fft.fftfreq(normalized_sales.size)]\n",
    "power = np.abs(np.fft.fft(normalized_sales.ravel()))**2\n",
    "list(zip(frequencies, power))[:len(power) // 2]"
   ]
  },
  {
   "cell_type": "markdown",
   "metadata": {},
   "source": [
    "Some of the functions we used above do not exist in standard Python and are provided to us by NumPy. Additionally we see that we can use the shape of an array to help us compute statistics on a subset of our data (e.g. mean number of coffees sold on Mondays). But one of the most powerful things we can do to explore data is to simply visualize it."
   ]
  },
  {
   "cell_type": "markdown",
   "metadata": {},
   "source": [
    "## Matplotlib\n",
    "\n",
    "Matplotlib is the most popular Python plotting library. It allows us to visualize data quickly by providing a variety of types of graphs (e.g. bar, scatter, line, etc.). It also provides useful tools for arranging multiple images or image components within a figure, enabling us to build up more complex visualizations as we need to.\n",
    "\n",
    "Let's visualize some data! In the next cells, we'll generate some data. For now we'll be focusing on how the graphs are produced rather than how the data is made."
   ]
  },
  {
   "cell_type": "code",
   "execution_count": 132,
   "metadata": {},
   "outputs": [],
   "source": [
    "import matplotlib.pyplot as plt"
   ]
  },
  {
   "cell_type": "code",
   "execution_count": 133,
   "metadata": {},
   "outputs": [
    {
     "data": {
      "text/plain": [
       "<matplotlib.legend.Legend at 0x231691f0d90>"
      ]
     },
     "execution_count": 133,
     "metadata": {},
     "output_type": "execute_result"
    },
    {
     "data": {
      "image/png": "[encoded data removed]",
      "text/plain": [
       "<Figure size 864x576 with 1 Axes>"
      ]
     },
     "metadata": {},
     "output_type": "display_data"
    }
   ],
   "source": [
    "def gen_stock_price(days, initial_price):\n",
    "    # stock price grows or shrinks linearly\n",
    "    # not exceeding 10% per year (heuristic)\n",
    "    trend = initial_price * (np.arange(days) * .1 / 365 * np.random.rand() * np.random.choice([1, -1]) + 1)\n",
    "    # noise will be about 2%\n",
    "    noise = .02 * np.random.randn(len(trend)) * trend\n",
    "    return trend + noise\n",
    "\n",
    "days = 365\n",
    "initial_prices = [80, 70, 65]\n",
    "for price in initial_prices:\n",
    "    plt.plot(np.arange(-days, 0), gen_stock_price(days, price))\n",
    "plt.title('Stock price history for last %d days' % days)\n",
    "plt.xlabel('Time (days)')\n",
    "plt.ylabel('Price (USD)')\n",
    "plt.legend(['Company A', 'Company B', 'Company C'])"
   ]
  },
  {
   "cell_type": "code",
   "execution_count": 134,
   "metadata": {},
   "outputs": [
    {
     "data": {
      "text/plain": [
       "<matplotlib.legend.Legend at 0x23168eafaf0>"
      ]
     },
     "execution_count": 134,
     "metadata": {},
     "output_type": "execute_result"
    },
    {
     "data": {
      "image/png": "[encoded data removed]",
      "text/plain": [
       "<Figure size 1728x864 with 3 Axes>"
      ]
     },
     "metadata": {},
     "output_type": "display_data"
    }
   ],
   "source": [
    "from scipy.stats import linregress\n",
    "\n",
    "def gen_football_team(n_players, mean_shoe, mean_jersey):\n",
    "    shoe_sizes = np.random.normal(size=n_players, loc=mean_shoe, scale=.15 * mean_shoe)\n",
    "    jersey_sizes = mean_jersey / mean_shoe * shoe_sizes + np.random.normal(size=n_players, scale=.05 * mean_jersey)\n",
    "\n",
    "    return shoe_sizes, jersey_sizes\n",
    "\n",
    "shoes, jerseys = gen_football_team(16, 11, 100)\n",
    "\n",
    "fig = plt.figure(figsize=(12, 6))\n",
    "fig.suptitle('Football team equipment profile')\n",
    "\n",
    "ax1 = plt.subplot(221)\n",
    "ax1.hist(shoes)\n",
    "ax1.set_xlabel('Shoe size')\n",
    "ax1.set_ylabel('Counts')\n",
    "\n",
    "ax2 = plt.subplot(223)\n",
    "ax2.hist(jerseys)\n",
    "ax2.set_xlabel('Chest size (cm)')\n",
    "ax2.set_ylabel('Counts')\n",
    "\n",
    "ax3 = plt.subplot(122)\n",
    "ax3.scatter(shoes, jerseys, label='Data')\n",
    "ax3.set_xlabel('Shoe size')\n",
    "ax3.set_ylabel('Chest size (cm)')\n",
    "\n",
    "fit_line = linregress(shoes, jerseys)\n",
    "ax3.plot(shoes, fit_line[1] + fit_line[0] * shoes, 'r', label='Line of best fit')\n",
    "\n",
    "handles, labels = ax3.get_legend_handles_labels()\n",
    "ax3.legend(handles[::-1], labels[::-1])"
   ]
  },
  {
   "cell_type": "code",
   "execution_count": 135,
   "metadata": {},
   "outputs": [
    {
     "data": {
      "text/plain": [
       "Text(0, 0.5, 'Temperature (C)')"
      ]
     },
     "execution_count": 135,
     "metadata": {},
     "output_type": "execute_result"
    },
    {
     "data": {
      "image/png": "[encoded data removed]",
      "text/plain": [
       "<Figure size 864x576 with 1 Axes>"
      ]
     },
     "metadata": {},
     "output_type": "display_data"
    }
   ],
   "source": [
    "def gen_hourly_temps(days):\n",
    "    ndays = len(days)\n",
    "    seasonality = (-15 * np.cos((np.array(days) - 30) * 2.0 * np.pi / 365)).repeat(24) + 10\n",
    "    solar = -3 * np.cos(np.arange(24 * ndays) * 2.0 * np.pi / 24)\n",
    "    weather = np.interp(range(len(days) * 24), range(0, 24 * len(days), 24 * 2), 3 * np.random.randn(np.ceil(float(len(days)) / 2).astype(int)))\n",
    "    noise = .5 * np.random.randn(24 * len(days))\n",
    "\n",
    "    return seasonality + solar + weather + noise\n",
    "\n",
    "days = np.arange(365)\n",
    "hours = np.arange(days[0] * 24, (days[-1] + 1) * 24)\n",
    "plt.plot(hours, gen_hourly_temps(days))\n",
    "plt.title('Hourly temperatures')\n",
    "plt.xlabel('Time (hours since Jan. 1)')\n",
    "plt.ylabel('Temperature (C)')"
   ]
  },
  {
   "cell_type": "markdown",
   "metadata": {},
   "source": [
    "In the examples above we've made use of the ubiquitous plot command, subplot for arranging multiple plots in one image, and hist for creating histograms. We've also used both the \"state machine\" (i.e. using a sequence of plt.method commands) and \"object-oriented\" (i.e. creating figure objects and mutating them) plotting paradigms. The Matplotlib package is very flexible and the possibilities for visualizing data are mostly limited by imagination. A great way to explore Matplotlib and other data visualization packages is by consulting their gallery pages.\n",
    "\n"
   ]
  },
  {
   "cell_type": "markdown",
   "metadata": {},
   "source": [
    "# Pandas\n",
    "\n",
    "NumPy is useful for handling data as it lets us efficiently apply functions to whole data sets or select pieces of them. However, it can be difficult to keep track of related data that might be stored in different arrays, or the meaning of data stored in different rows or columns of the same array.\n",
    "\n",
    "For example, in the previous section we had a 1-dimensional array for shoe sizes, and another 1-dimensional array for jersey sizes. If we wanted to look up the shoe and jersey size for a particular player, we'd have to remember his position in each array.\n",
    "\n",
    "Alternatively, we could combine the two 1-dimensional arrays to make a 2-dimensional array with `n_players` rows and two columns (one for shoe size, one for jersey size). But once we combine the data, we now have to remember which column is shoe size and which column is jersey size.\n",
    "\n",
    "The Pandas package introduces a very powerful tool for working with data in Python: the DataFrame. A DataFrame is a table. Each column represents a different type of data (sometimes called a **field**). The columns are named, so I could have a column called `'shoe_size'` and a column called `'jersey_size'`. I don't have to remember which column is which, because I can refer to them by name. Each row represents a different **record** or **entity** (e.g. player). I can also name the rows, so instead of remembering which row in my array corresponds with Ronaldinho, I can name the row 'Ronaldinho' and look up his shoe size and jersey size by name.m"
   ]
  },
  {
   "cell_type": "code",
   "execution_count": 137,
   "metadata": {},
   "outputs": [
    {
     "name": "stdout",
     "output_type": "stream",
     "text": [
      "['Ronaldinho', 'Pele', 'Messi', 'Zidane', 'Drogba', 'Ronaldo', 'Y.Toure', 'Puyol', 'Rijkaard', 'Maradona', 'Aboutrika', \"Eto'o\", 'George.B', 'George.W', 'Roberto.C']\n"
     ]
    },
    {
     "data": {
      "text/html": [
       "<div>\n",
       "<style scoped>\n",
       "    .dataframe tbody tr th:only-of-type {\n",
       "        vertical-align: middle;\n",
       "    }\n",
       "\n",
       "    .dataframe tbody tr th {\n",
       "        vertical-align: top;\n",
       "    }\n",
       "\n",
       "    .dataframe thead th {\n",
       "        text-align: right;\n",
       "    }\n",
       "</style>\n",
       "<table border=\"1\" class=\"dataframe\">\n",
       "  <thead>\n",
       "    <tr style=\"text-align: right;\">\n",
       "      <th></th>\n",
       "      <th>shoe_size</th>\n",
       "      <th>jersey_size</th>\n",
       "    </tr>\n",
       "  </thead>\n",
       "  <tbody>\n",
       "    <tr>\n",
       "      <th>Ronaldinho</th>\n",
       "      <td>14.367292</td>\n",
       "      <td>90.033239</td>\n",
       "    </tr>\n",
       "    <tr>\n",
       "      <th>Pele</th>\n",
       "      <td>15.277693</td>\n",
       "      <td>103.473016</td>\n",
       "    </tr>\n",
       "    <tr>\n",
       "      <th>Messi</th>\n",
       "      <td>16.000332</td>\n",
       "      <td>101.487234</td>\n",
       "    </tr>\n",
       "    <tr>\n",
       "      <th>Zidane</th>\n",
       "      <td>15.976129</td>\n",
       "      <td>102.230115</td>\n",
       "    </tr>\n",
       "    <tr>\n",
       "      <th>Drogba</th>\n",
       "      <td>13.305486</td>\n",
       "      <td>87.335102</td>\n",
       "    </tr>\n",
       "    <tr>\n",
       "      <th>Ronaldo</th>\n",
       "      <td>12.473442</td>\n",
       "      <td>77.894632</td>\n",
       "    </tr>\n",
       "    <tr>\n",
       "      <th>Y.Toure</th>\n",
       "      <td>20.632137</td>\n",
       "      <td>135.169905</td>\n",
       "    </tr>\n",
       "    <tr>\n",
       "      <th>Puyol</th>\n",
       "      <td>13.911035</td>\n",
       "      <td>86.773356</td>\n",
       "    </tr>\n",
       "    <tr>\n",
       "      <th>Rijkaard</th>\n",
       "      <td>16.573228</td>\n",
       "      <td>101.322334</td>\n",
       "    </tr>\n",
       "    <tr>\n",
       "      <th>Maradona</th>\n",
       "      <td>11.382807</td>\n",
       "      <td>80.975166</td>\n",
       "    </tr>\n",
       "    <tr>\n",
       "      <th>Aboutrika</th>\n",
       "      <td>14.370871</td>\n",
       "      <td>89.325566</td>\n",
       "    </tr>\n",
       "    <tr>\n",
       "      <th>Eto'o</th>\n",
       "      <td>14.713801</td>\n",
       "      <td>97.198605</td>\n",
       "    </tr>\n",
       "    <tr>\n",
       "      <th>George.B</th>\n",
       "      <td>16.063834</td>\n",
       "      <td>110.856681</td>\n",
       "    </tr>\n",
       "    <tr>\n",
       "      <th>George.W</th>\n",
       "      <td>8.874478</td>\n",
       "      <td>56.088467</td>\n",
       "    </tr>\n",
       "    <tr>\n",
       "      <th>Roberto.C</th>\n",
       "      <td>15.373816</td>\n",
       "      <td>98.366280</td>\n",
       "    </tr>\n",
       "  </tbody>\n",
       "</table>\n",
       "</div>"
      ],
      "text/plain": [
       "            shoe_size  jersey_size\n",
       "Ronaldinho  14.367292    90.033239\n",
       "Pele        15.277693   103.473016\n",
       "Messi       16.000332   101.487234\n",
       "Zidane      15.976129   102.230115\n",
       "Drogba      13.305486    87.335102\n",
       "Ronaldo     12.473442    77.894632\n",
       "Y.Toure     20.632137   135.169905\n",
       "Puyol       13.911035    86.773356\n",
       "Rijkaard    16.573228   101.322334\n",
       "Maradona    11.382807    80.975166\n",
       "Aboutrika   14.370871    89.325566\n",
       "Eto'o       14.713801    97.198605\n",
       "George.B    16.063834   110.856681\n",
       "George.W     8.874478    56.088467\n",
       "Roberto.C   15.373816    98.366280"
      ]
     },
     "execution_count": 137,
     "metadata": {},
     "output_type": "execute_result"
    }
   ],
   "source": [
    "\n",
    "\n",
    "players = ['Ronaldinho', 'Pele', 'Messi', 'Zidane', 'Drogba', 'Ronaldo', 'Y.Toure', 'Puyol',\n",
    "           'Rijkaard', 'Maradona', 'Aboutrika', \"Eto'o\",'George.B', 'George.W', 'Roberto.C']\n",
    "print(players)\n",
    "shoes, jerseys = gen_football_team(len(players), 15, 100)\n",
    "\n",
    "df_jersey = pd.DataFrame({'shoe_size': shoes, 'jersey_size': jerseys}, index = players)\n",
    "\n",
    "df_jersey"
   ]
  },
  {
   "cell_type": "code",
   "execution_count": 138,
   "metadata": {},
   "outputs": [
    {
     "data": {
      "text/plain": [
       "['Ronaldinho',\n",
       " 'Pele',\n",
       " 'Messi',\n",
       " 'Zidane',\n",
       " 'Drogba',\n",
       " 'Ronaldo',\n",
       " 'Y.Toure',\n",
       " 'Puyol',\n",
       " 'Rijkaard',\n",
       " 'Maradona',\n",
       " 'Aboutrika',\n",
       " \"Eto'o\",\n",
       " 'George.B',\n",
       " 'George.W',\n",
       " 'Roberto.C']"
      ]
     },
     "execution_count": 138,
     "metadata": {},
     "output_type": "execute_result"
    }
   ],
   "source": [
    "players = ['Ronaldinho', 'Pele', 'Messi', 'Zidane', 'Drogba', 'Ronaldo', 'Y.Toure', 'Puyol',\n",
    "           'Rijkaard', 'Maradona', 'Aboutrika', \"Eto'o\",'George.B', 'George.W', 'Roberto.C']\n",
    "players"
   ]
  },
  {
   "cell_type": "code",
   "execution_count": 139,
   "metadata": {
    "scrolled": true
   },
   "outputs": [
    {
     "data": {
      "text/html": [
       "<div>\n",
       "<style scoped>\n",
       "    .dataframe tbody tr th:only-of-type {\n",
       "        vertical-align: middle;\n",
       "    }\n",
       "\n",
       "    .dataframe tbody tr th {\n",
       "        vertical-align: top;\n",
       "    }\n",
       "\n",
       "    .dataframe thead th {\n",
       "        text-align: right;\n",
       "    }\n",
       "</style>\n",
       "<table border=\"1\" class=\"dataframe\">\n",
       "  <thead>\n",
       "    <tr style=\"text-align: right;\">\n",
       "      <th></th>\n",
       "      <th>shoe_size</th>\n",
       "      <th>jersey_size</th>\n",
       "    </tr>\n",
       "  </thead>\n",
       "  <tbody>\n",
       "    <tr>\n",
       "      <th>Ronaldinho</th>\n",
       "      <td>14.367292</td>\n",
       "      <td>90.033239</td>\n",
       "    </tr>\n",
       "    <tr>\n",
       "      <th>Pele</th>\n",
       "      <td>15.277693</td>\n",
       "      <td>103.473016</td>\n",
       "    </tr>\n",
       "    <tr>\n",
       "      <th>Messi</th>\n",
       "      <td>16.000332</td>\n",
       "      <td>101.487234</td>\n",
       "    </tr>\n",
       "    <tr>\n",
       "      <th>Zidane</th>\n",
       "      <td>15.976129</td>\n",
       "      <td>102.230115</td>\n",
       "    </tr>\n",
       "    <tr>\n",
       "      <th>Drogba</th>\n",
       "      <td>13.305486</td>\n",
       "      <td>87.335102</td>\n",
       "    </tr>\n",
       "    <tr>\n",
       "      <th>Ronaldo</th>\n",
       "      <td>12.473442</td>\n",
       "      <td>77.894632</td>\n",
       "    </tr>\n",
       "    <tr>\n",
       "      <th>Y.Toure</th>\n",
       "      <td>20.632137</td>\n",
       "      <td>135.169905</td>\n",
       "    </tr>\n",
       "    <tr>\n",
       "      <th>Puyol</th>\n",
       "      <td>13.911035</td>\n",
       "      <td>86.773356</td>\n",
       "    </tr>\n",
       "    <tr>\n",
       "      <th>Rijkaard</th>\n",
       "      <td>16.573228</td>\n",
       "      <td>101.322334</td>\n",
       "    </tr>\n",
       "    <tr>\n",
       "      <th>Maradona</th>\n",
       "      <td>11.382807</td>\n",
       "      <td>80.975166</td>\n",
       "    </tr>\n",
       "    <tr>\n",
       "      <th>Aboutrika</th>\n",
       "      <td>14.370871</td>\n",
       "      <td>89.325566</td>\n",
       "    </tr>\n",
       "    <tr>\n",
       "      <th>Eto'o</th>\n",
       "      <td>14.713801</td>\n",
       "      <td>97.198605</td>\n",
       "    </tr>\n",
       "    <tr>\n",
       "      <th>George.B</th>\n",
       "      <td>16.063834</td>\n",
       "      <td>110.856681</td>\n",
       "    </tr>\n",
       "    <tr>\n",
       "      <th>George.W</th>\n",
       "      <td>8.874478</td>\n",
       "      <td>56.088467</td>\n",
       "    </tr>\n",
       "    <tr>\n",
       "      <th>Roberto.C</th>\n",
       "      <td>15.373816</td>\n",
       "      <td>98.366280</td>\n",
       "    </tr>\n",
       "  </tbody>\n",
       "</table>\n",
       "</div>"
      ],
      "text/plain": [
       "            shoe_size  jersey_size\n",
       "Ronaldinho  14.367292    90.033239\n",
       "Pele        15.277693   103.473016\n",
       "Messi       16.000332   101.487234\n",
       "Zidane      15.976129   102.230115\n",
       "Drogba      13.305486    87.335102\n",
       "Ronaldo     12.473442    77.894632\n",
       "Y.Toure     20.632137   135.169905\n",
       "Puyol       13.911035    86.773356\n",
       "Rijkaard    16.573228   101.322334\n",
       "Maradona    11.382807    80.975166\n",
       "Aboutrika   14.370871    89.325566\n",
       "Eto'o       14.713801    97.198605\n",
       "George.B    16.063834   110.856681\n",
       "George.W     8.874478    56.088467\n",
       "Roberto.C   15.373816    98.366280"
      ]
     },
     "execution_count": 139,
     "metadata": {},
     "output_type": "execute_result"
    }
   ],
   "source": [
    "# or we can also make a dataframe using zip\n",
    "\n",
    "df_jersey = pd.DataFrame(list(zip(shoes, jerseys)), columns = ['shoe_size', 'jersey_size'], index = players)\n",
    "\n",
    "df_jersey"
   ]
  },
  {
   "cell_type": "code",
   "execution_count": 140,
   "metadata": {},
   "outputs": [
    {
     "name": "stdout",
     "output_type": "stream",
     "text": [
      "Ronaldinho     90.033239\n",
      "Pele          103.473016\n",
      "Messi         101.487234\n",
      "Zidane        102.230115\n",
      "Drogba         87.335102\n",
      "Ronaldo        77.894632\n",
      "Y.Toure       135.169905\n",
      "Puyol          86.773356\n",
      "Rijkaard      101.322334\n",
      "Maradona       80.975166\n",
      "Aboutrika      89.325566\n",
      "Eto'o          97.198605\n",
      "George.B      110.856681\n",
      "George.W       56.088467\n",
      "Roberto.C      98.366280\n",
      "Name: jersey_size, dtype: float64\n"
     ]
    }
   ],
   "source": [
    "print(df_jersey['jersey_size'])"
   ]
  },
  {
   "cell_type": "markdown",
   "metadata": {},
   "source": [
    "The DataFrame has similarities to both a `dict` and a NumPy `ndarray`. For example, we can retrieve a column from the DataFrame by using its name, just like we would retrieve an item from a `dict` using its key."
   ]
  },
  {
   "cell_type": "code",
   "execution_count": 141,
   "metadata": {},
   "outputs": [
    {
     "name": "stdout",
     "output_type": "stream",
     "text": [
      "Ronaldinho    14.367292\n",
      "Pele          15.277693\n",
      "Messi         16.000332\n",
      "Zidane        15.976129\n",
      "Drogba        13.305486\n",
      "Ronaldo       12.473442\n",
      "Y.Toure       20.632137\n",
      "Puyol         13.911035\n",
      "Rijkaard      16.573228\n",
      "Maradona      11.382807\n",
      "Aboutrika     14.370871\n",
      "Eto'o         14.713801\n",
      "George.B      16.063834\n",
      "George.W       8.874478\n",
      "Roberto.C     15.373816\n",
      "Name: shoe_size, dtype: float64\n"
     ]
    }
   ],
   "source": [
    "print(df_jersey['shoe_size'])"
   ]
  },
  {
   "cell_type": "markdown",
   "metadata": {},
   "source": [
    "And we can easily apply functions to the DataFrame, just like we would with a NumPy array."
   ]
  },
  {
   "cell_type": "code",
   "execution_count": 142,
   "metadata": {},
   "outputs": [
    {
     "name": "stdout",
     "output_type": "stream",
     "text": [
      "            shoe_size  jersey_size\n",
      "Ronaldinho   2.664954     4.500179\n",
      "Pele         2.726394     4.639311\n",
      "Messi        2.772609     4.619933\n",
      "Zidane       2.771096     4.627226\n",
      "Drogba       2.588176     4.469752\n",
      "Ronaldo      2.523602     4.355357\n",
      "Y.Toure      3.026850     4.906533\n",
      "Puyol        2.632682     4.463300\n",
      "Rijkaard     2.807789     4.618307\n",
      "Maradona     2.432104     4.394143\n",
      "Aboutrika    2.665203     4.492288\n",
      "Eto'o        2.688786     4.576756\n",
      "George.B     2.776570     4.708238\n",
      "George.W     2.183180     4.026930\n",
      "Roberto.C    2.732666     4.588698\n"
     ]
    }
   ],
   "source": [
    "print(np.log(df_jersey))"
   ]
  },
  {
   "cell_type": "code",
   "execution_count": 143,
   "metadata": {},
   "outputs": [
    {
     "data": {
      "text/plain": [
       "shoe_size      14.619759\n",
       "jersey_size    94.568647\n",
       "dtype: float64"
      ]
     },
     "execution_count": 143,
     "metadata": {},
     "output_type": "execute_result"
    }
   ],
   "source": [
    "#this return the mean of each column or field\n",
    "\n",
    "df_jersey.mean()"
   ]
  },
  {
   "cell_type": "code",
   "execution_count": 144,
   "metadata": {},
   "outputs": [
    {
     "data": {
      "text/plain": [
       "shoe_size       2.635665\n",
       "jersey_size    17.466797\n",
       "dtype: float64"
      ]
     },
     "execution_count": 144,
     "metadata": {},
     "output_type": "execute_result"
    }
   ],
   "source": [
    "df_jersey.std()"
   ]
  },
  {
   "cell_type": "markdown",
   "metadata": {},
   "source": [
    "We'll explore applying functions and analyzing data in a DataFrame in more depth later on. \n",
    "First we need to know how to retrieve, add, and remove data from a DataFrame.\n",
    "\n",
    "We've already seen how to retrieve a column, what about retrieving a row? The most flexible syntax is to use the DataFrame's `loc` method."
   ]
  },
  {
   "cell_type": "code",
   "execution_count": 145,
   "metadata": {},
   "outputs": [
    {
     "name": "stdout",
     "output_type": "stream",
     "text": [
      "shoe_size      12.473442\n",
      "jersey_size    77.894632\n",
      "Name: Ronaldo, dtype: float64\n"
     ]
    }
   ],
   "source": [
    "print(df_jersey.loc['Ronaldo'])"
   ]
  },
  {
   "cell_type": "code",
   "execution_count": 146,
   "metadata": {},
   "outputs": [
    {
     "name": "stdout",
     "output_type": "stream",
     "text": [
      "shoe_size      13.911035\n",
      "jersey_size    86.773356\n",
      "Name: Puyol, dtype: float64\n"
     ]
    }
   ],
   "source": [
    "print(df_jersey.loc['Puyol'])"
   ]
  },
  {
   "cell_type": "code",
   "execution_count": 159,
   "metadata": {},
   "outputs": [
    {
     "name": "stdout",
     "output_type": "stream",
     "text": [
      "Ronaldo     12.473442\n",
      "George.B    16.063834\n",
      "Name: shoe_size, dtype: float64\n"
     ]
    }
   ],
   "source": [
    "#you can select two players to work on;\n",
    "\n",
    "print(df_jersey.loc[['Ronaldo', 'George.B'], 'shoe_size'])"
   ]
  },
  {
   "cell_type": "code",
   "execution_count": 161,
   "metadata": {
    "scrolled": true
   },
   "outputs": [
    {
     "name": "stdout",
     "output_type": "stream",
     "text": [
      "Ronaldo      12.473442\n",
      "Y.Toure      20.632137\n",
      "Puyol        13.911035\n",
      "Rijkaard     16.573228\n",
      "Maradona     11.382807\n",
      "Aboutrika    14.370871\n",
      "Eto'o        14.713801\n",
      "George.B     16.063834\n",
      "Name: shoe_size, dtype: float64\n"
     ]
    }
   ],
   "source": [
    "# can also select position-based slices of data\n",
    "print(df_jersey.loc['Ronaldo':'George.B', 'shoe_size'])"
   ]
  },
  {
   "cell_type": "code",
   "execution_count": 164,
   "metadata": {},
   "outputs": [
    {
     "name": "stdout",
     "output_type": "stream",
     "text": [
      "            shoe_size  jersey_size\n",
      "Ronaldinho  14.367292    90.033239\n",
      "Pele        15.277693   103.473016\n",
      "Messi       16.000332   101.487234\n",
      "Zidane      15.976129   102.230115\n",
      "Drogba      13.305486    87.335102\n"
     ]
    }
   ],
   "source": [
    "# for position-based indexing, we will typically use iloc\n",
    "print(df_jersey.iloc[:5])"
   ]
  },
  {
   "cell_type": "code",
   "execution_count": 166,
   "metadata": {},
   "outputs": [
    {
     "name": "stdout",
     "output_type": "stream",
     "text": [
      "Messi     16.000332\n",
      "Zidane    15.976129\n",
      "Name: shoe_size, dtype: float64\n"
     ]
    }
   ],
   "source": [
    "print(df_jersey.iloc[2:4, 0])"
   ]
  },
  {
   "cell_type": "code",
   "execution_count": 167,
   "metadata": {},
   "outputs": [
    {
     "data": {
      "text/html": [
       "<div>\n",
       "<style scoped>\n",
       "    .dataframe tbody tr th:only-of-type {\n",
       "        vertical-align: middle;\n",
       "    }\n",
       "\n",
       "    .dataframe tbody tr th {\n",
       "        vertical-align: top;\n",
       "    }\n",
       "\n",
       "    .dataframe thead th {\n",
       "        text-align: right;\n",
       "    }\n",
       "</style>\n",
       "<table border=\"1\" class=\"dataframe\">\n",
       "  <thead>\n",
       "    <tr style=\"text-align: right;\">\n",
       "      <th></th>\n",
       "      <th>shoe_size</th>\n",
       "      <th>jersey_size</th>\n",
       "    </tr>\n",
       "  </thead>\n",
       "  <tbody>\n",
       "    <tr>\n",
       "      <th>Ronaldinho</th>\n",
       "      <td>14.367292</td>\n",
       "      <td>90.033239</td>\n",
       "    </tr>\n",
       "    <tr>\n",
       "      <th>Pele</th>\n",
       "      <td>15.277693</td>\n",
       "      <td>103.473016</td>\n",
       "    </tr>\n",
       "    <tr>\n",
       "      <th>Messi</th>\n",
       "      <td>16.000332</td>\n",
       "      <td>101.487234</td>\n",
       "    </tr>\n",
       "    <tr>\n",
       "      <th>Zidane</th>\n",
       "      <td>15.976129</td>\n",
       "      <td>102.230115</td>\n",
       "    </tr>\n",
       "    <tr>\n",
       "      <th>Drogba</th>\n",
       "      <td>13.305486</td>\n",
       "      <td>87.335102</td>\n",
       "    </tr>\n",
       "  </tbody>\n",
       "</table>\n",
       "</div>"
      ],
      "text/plain": [
       "            shoe_size  jersey_size\n",
       "Ronaldinho  14.367292    90.033239\n",
       "Pele        15.277693   103.473016\n",
       "Messi       16.000332   101.487234\n",
       "Zidane      15.976129   102.230115\n",
       "Drogba      13.305486    87.335102"
      ]
     },
     "execution_count": 167,
     "metadata": {},
     "output_type": "execute_result"
    }
   ],
   "source": [
    "# to see just the top of the DataFrame, use head\n",
    "df_jersey.head()"
   ]
  },
  {
   "cell_type": "code",
   "execution_count": 168,
   "metadata": {},
   "outputs": [
    {
     "data": {
      "text/html": [
       "<div>\n",
       "<style scoped>\n",
       "    .dataframe tbody tr th:only-of-type {\n",
       "        vertical-align: middle;\n",
       "    }\n",
       "\n",
       "    .dataframe tbody tr th {\n",
       "        vertical-align: top;\n",
       "    }\n",
       "\n",
       "    .dataframe thead th {\n",
       "        text-align: right;\n",
       "    }\n",
       "</style>\n",
       "<table border=\"1\" class=\"dataframe\">\n",
       "  <thead>\n",
       "    <tr style=\"text-align: right;\">\n",
       "      <th></th>\n",
       "      <th>shoe_size</th>\n",
       "      <th>jersey_size</th>\n",
       "    </tr>\n",
       "  </thead>\n",
       "  <tbody>\n",
       "    <tr>\n",
       "      <th>Aboutrika</th>\n",
       "      <td>14.370871</td>\n",
       "      <td>89.325566</td>\n",
       "    </tr>\n",
       "    <tr>\n",
       "      <th>Eto'o</th>\n",
       "      <td>14.713801</td>\n",
       "      <td>97.198605</td>\n",
       "    </tr>\n",
       "    <tr>\n",
       "      <th>George.B</th>\n",
       "      <td>16.063834</td>\n",
       "      <td>110.856681</td>\n",
       "    </tr>\n",
       "    <tr>\n",
       "      <th>George.W</th>\n",
       "      <td>8.874478</td>\n",
       "      <td>56.088467</td>\n",
       "    </tr>\n",
       "    <tr>\n",
       "      <th>Roberto.C</th>\n",
       "      <td>15.373816</td>\n",
       "      <td>98.366280</td>\n",
       "    </tr>\n",
       "  </tbody>\n",
       "</table>\n",
       "</div>"
      ],
      "text/plain": [
       "           shoe_size  jersey_size\n",
       "Aboutrika  14.370871    89.325566\n",
       "Eto'o      14.713801    97.198605\n",
       "George.B   16.063834   110.856681\n",
       "George.W    8.874478    56.088467\n",
       "Roberto.C  15.373816    98.366280"
      ]
     },
     "execution_count": 168,
     "metadata": {},
     "output_type": "execute_result"
    }
   ],
   "source": [
    "df_jersey.tail()"
   ]
  },
  {
   "cell_type": "markdown",
   "metadata": {},
   "source": [
    "Just as with a `dict`, we can add data to our DataFrame by simply using the same syntax as we would use to retrieve data, but matching it with an assignment."
   ]
  },
  {
   "cell_type": "code",
   "execution_count": 173,
   "metadata": {},
   "outputs": [
    {
     "data": {
      "text/html": [
       "<div>\n",
       "<style scoped>\n",
       "    .dataframe tbody tr th:only-of-type {\n",
       "        vertical-align: middle;\n",
       "    }\n",
       "\n",
       "    .dataframe tbody tr th {\n",
       "        vertical-align: top;\n",
       "    }\n",
       "\n",
       "    .dataframe thead th {\n",
       "        text-align: right;\n",
       "    }\n",
       "</style>\n",
       "<table border=\"1\" class=\"dataframe\">\n",
       "  <thead>\n",
       "    <tr style=\"text-align: right;\">\n",
       "      <th></th>\n",
       "      <th>shoe_size</th>\n",
       "      <th>jersey_size</th>\n",
       "      <th>position</th>\n",
       "    </tr>\n",
       "  </thead>\n",
       "  <tbody>\n",
       "    <tr>\n",
       "      <th>Ronaldinho</th>\n",
       "      <td>14.367292</td>\n",
       "      <td>90.033239</td>\n",
       "      <td>attacker</td>\n",
       "    </tr>\n",
       "    <tr>\n",
       "      <th>Pele</th>\n",
       "      <td>15.277693</td>\n",
       "      <td>103.473016</td>\n",
       "      <td>attacker</td>\n",
       "    </tr>\n",
       "    <tr>\n",
       "      <th>Messi</th>\n",
       "      <td>16.000332</td>\n",
       "      <td>101.487234</td>\n",
       "      <td>defense</td>\n",
       "    </tr>\n",
       "    <tr>\n",
       "      <th>Zidane</th>\n",
       "      <td>15.976129</td>\n",
       "      <td>102.230115</td>\n",
       "      <td>defense</td>\n",
       "    </tr>\n",
       "    <tr>\n",
       "      <th>Drogba</th>\n",
       "      <td>13.305486</td>\n",
       "      <td>87.335102</td>\n",
       "      <td>attacker</td>\n",
       "    </tr>\n",
       "  </tbody>\n",
       "</table>\n",
       "</div>"
      ],
      "text/plain": [
       "            shoe_size  jersey_size  position\n",
       "Ronaldinho  14.367292    90.033239  attacker\n",
       "Pele        15.277693   103.473016  attacker\n",
       "Messi       16.000332   101.487234   defense\n",
       "Zidane      15.976129   102.230115   defense\n",
       "Drogba      13.305486    87.335102  attacker"
      ]
     },
     "execution_count": 173,
     "metadata": {},
     "output_type": "execute_result"
    }
   ],
   "source": [
    "# adding a new column\n",
    "df_jersey['position'] = np.random.choice(['defense', 'mildfielder', 'attacker'], size = len(df_jersey))\n",
    "df_jersey.head()"
   ]
  },
  {
   "cell_type": "code",
   "execution_count": 178,
   "metadata": {},
   "outputs": [
    {
     "data": {
      "text/html": [
       "<div>\n",
       "<style scoped>\n",
       "    .dataframe tbody tr th:only-of-type {\n",
       "        vertical-align: middle;\n",
       "    }\n",
       "\n",
       "    .dataframe tbody tr th {\n",
       "        vertical-align: top;\n",
       "    }\n",
       "\n",
       "    .dataframe thead th {\n",
       "        text-align: right;\n",
       "    }\n",
       "</style>\n",
       "<table border=\"1\" class=\"dataframe\">\n",
       "  <thead>\n",
       "    <tr style=\"text-align: right;\">\n",
       "      <th></th>\n",
       "      <th>shoe_size</th>\n",
       "      <th>jersey_size</th>\n",
       "      <th>position</th>\n",
       "    </tr>\n",
       "  </thead>\n",
       "  <tbody>\n",
       "    <tr>\n",
       "      <th>Eto'o</th>\n",
       "      <td>14.7138</td>\n",
       "      <td>97.1986</td>\n",
       "      <td>attacker</td>\n",
       "    </tr>\n",
       "    <tr>\n",
       "      <th>George.B</th>\n",
       "      <td>16.0638</td>\n",
       "      <td>110.857</td>\n",
       "      <td>defense</td>\n",
       "    </tr>\n",
       "    <tr>\n",
       "      <th>George.W</th>\n",
       "      <td>8.87448</td>\n",
       "      <td>56.0885</td>\n",
       "      <td>defense</td>\n",
       "    </tr>\n",
       "    <tr>\n",
       "      <th>Roberto.C</th>\n",
       "      <td>15.3738</td>\n",
       "      <td>98.3663</td>\n",
       "      <td>defense</td>\n",
       "    </tr>\n",
       "    <tr>\n",
       "      <th>Dylan</th>\n",
       "      <td>9</td>\n",
       "      <td>91</td>\n",
       "      <td>midfielder</td>\n",
       "    </tr>\n",
       "  </tbody>\n",
       "</table>\n",
       "</div>"
      ],
      "text/plain": [
       "          shoe_size jersey_size    position\n",
       "Eto'o       14.7138     97.1986    attacker\n",
       "George.B    16.0638     110.857     defense\n",
       "George.W    8.87448     56.0885     defense\n",
       "Roberto.C   15.3738     98.3663     defense\n",
       "Dylan             9          91  midfielder"
      ]
     },
     "execution_count": 178,
     "metadata": {},
     "output_type": "execute_result"
    }
   ],
   "source": [
    "# adding a new row\n",
    "df_jersey.loc['Dylan'] = {'jersey_size': 91, 'shoe_size': 9, 'position': 'midfielder'}\n",
    "df_jersey.loc['Dylan']\n",
    "df_jersey.tail()"
   ]
  },
  {
   "cell_type": "code",
   "execution_count": 176,
   "metadata": {},
   "outputs": [
    {
     "data": {
      "text/html": [
       "<div>\n",
       "<style scoped>\n",
       "    .dataframe tbody tr th:only-of-type {\n",
       "        vertical-align: middle;\n",
       "    }\n",
       "\n",
       "    .dataframe tbody tr th {\n",
       "        vertical-align: top;\n",
       "    }\n",
       "\n",
       "    .dataframe thead th {\n",
       "        text-align: right;\n",
       "    }\n",
       "</style>\n",
       "<table border=\"1\" class=\"dataframe\">\n",
       "  <thead>\n",
       "    <tr style=\"text-align: right;\">\n",
       "      <th></th>\n",
       "      <th>shoe_size</th>\n",
       "      <th>jersey_size</th>\n",
       "      <th>position</th>\n",
       "    </tr>\n",
       "  </thead>\n",
       "  <tbody>\n",
       "    <tr>\n",
       "      <th>Ronaldinho</th>\n",
       "      <td>14.367292</td>\n",
       "      <td>90.033239</td>\n",
       "      <td>attacker</td>\n",
       "    </tr>\n",
       "    <tr>\n",
       "      <th>Pele</th>\n",
       "      <td>15.277693</td>\n",
       "      <td>103.473016</td>\n",
       "      <td>attacker</td>\n",
       "    </tr>\n",
       "    <tr>\n",
       "      <th>Messi</th>\n",
       "      <td>16.000332</td>\n",
       "      <td>101.487234</td>\n",
       "      <td>defense</td>\n",
       "    </tr>\n",
       "    <tr>\n",
       "      <th>Zidane</th>\n",
       "      <td>15.976129</td>\n",
       "      <td>102.230115</td>\n",
       "      <td>defense</td>\n",
       "    </tr>\n",
       "    <tr>\n",
       "      <th>Drogba</th>\n",
       "      <td>13.305486</td>\n",
       "      <td>87.335102</td>\n",
       "      <td>attacker</td>\n",
       "    </tr>\n",
       "    <tr>\n",
       "      <th>Ronaldo</th>\n",
       "      <td>12.473442</td>\n",
       "      <td>77.894632</td>\n",
       "      <td>defense</td>\n",
       "    </tr>\n",
       "    <tr>\n",
       "      <th>Y.Toure</th>\n",
       "      <td>20.632137</td>\n",
       "      <td>135.169905</td>\n",
       "      <td>attacker</td>\n",
       "    </tr>\n",
       "    <tr>\n",
       "      <th>Puyol</th>\n",
       "      <td>13.911035</td>\n",
       "      <td>86.773356</td>\n",
       "      <td>attacker</td>\n",
       "    </tr>\n",
       "    <tr>\n",
       "      <th>Rijkaard</th>\n",
       "      <td>16.573228</td>\n",
       "      <td>101.322334</td>\n",
       "      <td>attacker</td>\n",
       "    </tr>\n",
       "    <tr>\n",
       "      <th>Maradona</th>\n",
       "      <td>11.382807</td>\n",
       "      <td>80.975166</td>\n",
       "      <td>attacker</td>\n",
       "    </tr>\n",
       "    <tr>\n",
       "      <th>Aboutrika</th>\n",
       "      <td>14.370871</td>\n",
       "      <td>89.325566</td>\n",
       "      <td>mildfielder</td>\n",
       "    </tr>\n",
       "    <tr>\n",
       "      <th>Eto'o</th>\n",
       "      <td>14.713801</td>\n",
       "      <td>97.198605</td>\n",
       "      <td>attacker</td>\n",
       "    </tr>\n",
       "    <tr>\n",
       "      <th>George.B</th>\n",
       "      <td>16.063834</td>\n",
       "      <td>110.856681</td>\n",
       "      <td>defense</td>\n",
       "    </tr>\n",
       "    <tr>\n",
       "      <th>George.W</th>\n",
       "      <td>8.874478</td>\n",
       "      <td>56.088467</td>\n",
       "      <td>defense</td>\n",
       "    </tr>\n",
       "    <tr>\n",
       "      <th>Roberto.C</th>\n",
       "      <td>15.373816</td>\n",
       "      <td>98.366280</td>\n",
       "      <td>defense</td>\n",
       "    </tr>\n",
       "  </tbody>\n",
       "</table>\n",
       "</div>"
      ],
      "text/plain": [
       "            shoe_size  jersey_size     position\n",
       "Ronaldinho  14.367292    90.033239     attacker\n",
       "Pele        15.277693   103.473016     attacker\n",
       "Messi       16.000332   101.487234      defense\n",
       "Zidane      15.976129   102.230115      defense\n",
       "Drogba      13.305486    87.335102     attacker\n",
       "Ronaldo     12.473442    77.894632      defense\n",
       "Y.Toure     20.632137   135.169905     attacker\n",
       "Puyol       13.911035    86.773356     attacker\n",
       "Rijkaard    16.573228   101.322334     attacker\n",
       "Maradona    11.382807    80.975166     attacker\n",
       "Aboutrika   14.370871    89.325566  mildfielder\n",
       "Eto'o       14.713801    97.198605     attacker\n",
       "George.B    16.063834   110.856681      defense\n",
       "George.W     8.874478    56.088467      defense\n",
       "Roberto.C   15.373816    98.366280      defense"
      ]
     },
     "execution_count": 176,
     "metadata": {},
     "output_type": "execute_result"
    }
   ],
   "source": [
    "df_jersey.drop('Dylan')"
   ]
  },
  {
   "cell_type": "code",
   "execution_count": 182,
   "metadata": {},
   "outputs": [
    {
     "data": {
      "text/html": [
       "<div>\n",
       "<style scoped>\n",
       "    .dataframe tbody tr th:only-of-type {\n",
       "        vertical-align: middle;\n",
       "    }\n",
       "\n",
       "    .dataframe tbody tr th {\n",
       "        vertical-align: top;\n",
       "    }\n",
       "\n",
       "    .dataframe thead th {\n",
       "        text-align: right;\n",
       "    }\n",
       "</style>\n",
       "<table border=\"1\" class=\"dataframe\">\n",
       "  <thead>\n",
       "    <tr style=\"text-align: right;\">\n",
       "      <th></th>\n",
       "      <th>shoe_size</th>\n",
       "      <th>jersey_size</th>\n",
       "    </tr>\n",
       "  </thead>\n",
       "  <tbody>\n",
       "    <tr>\n",
       "      <th>Ronaldinho</th>\n",
       "      <td>14.3673</td>\n",
       "      <td>90.0332</td>\n",
       "    </tr>\n",
       "    <tr>\n",
       "      <th>Pele</th>\n",
       "      <td>15.2777</td>\n",
       "      <td>103.473</td>\n",
       "    </tr>\n",
       "    <tr>\n",
       "      <th>Messi</th>\n",
       "      <td>16.0003</td>\n",
       "      <td>101.487</td>\n",
       "    </tr>\n",
       "    <tr>\n",
       "      <th>Zidane</th>\n",
       "      <td>15.9761</td>\n",
       "      <td>102.23</td>\n",
       "    </tr>\n",
       "    <tr>\n",
       "      <th>Drogba</th>\n",
       "      <td>13.3055</td>\n",
       "      <td>87.3351</td>\n",
       "    </tr>\n",
       "    <tr>\n",
       "      <th>Ronaldo</th>\n",
       "      <td>12.4734</td>\n",
       "      <td>77.8946</td>\n",
       "    </tr>\n",
       "    <tr>\n",
       "      <th>Y.Toure</th>\n",
       "      <td>20.6321</td>\n",
       "      <td>135.17</td>\n",
       "    </tr>\n",
       "    <tr>\n",
       "      <th>Puyol</th>\n",
       "      <td>13.911</td>\n",
       "      <td>86.7734</td>\n",
       "    </tr>\n",
       "    <tr>\n",
       "      <th>Rijkaard</th>\n",
       "      <td>16.5732</td>\n",
       "      <td>101.322</td>\n",
       "    </tr>\n",
       "    <tr>\n",
       "      <th>Maradona</th>\n",
       "      <td>11.3828</td>\n",
       "      <td>80.9752</td>\n",
       "    </tr>\n",
       "    <tr>\n",
       "      <th>Aboutrika</th>\n",
       "      <td>14.3709</td>\n",
       "      <td>89.3256</td>\n",
       "    </tr>\n",
       "    <tr>\n",
       "      <th>Eto'o</th>\n",
       "      <td>14.7138</td>\n",
       "      <td>97.1986</td>\n",
       "    </tr>\n",
       "    <tr>\n",
       "      <th>George.B</th>\n",
       "      <td>16.0638</td>\n",
       "      <td>110.857</td>\n",
       "    </tr>\n",
       "    <tr>\n",
       "      <th>George.W</th>\n",
       "      <td>8.87448</td>\n",
       "      <td>56.0885</td>\n",
       "    </tr>\n",
       "    <tr>\n",
       "      <th>Roberto.C</th>\n",
       "      <td>15.3738</td>\n",
       "      <td>98.3663</td>\n",
       "    </tr>\n",
       "    <tr>\n",
       "      <th>Dylan</th>\n",
       "      <td>9</td>\n",
       "      <td>91</td>\n",
       "    </tr>\n",
       "  </tbody>\n",
       "</table>\n",
       "</div>"
      ],
      "text/plain": [
       "           shoe_size jersey_size\n",
       "Ronaldinho   14.3673     90.0332\n",
       "Pele         15.2777     103.473\n",
       "Messi        16.0003     101.487\n",
       "Zidane       15.9761      102.23\n",
       "Drogba       13.3055     87.3351\n",
       "Ronaldo      12.4734     77.8946\n",
       "Y.Toure      20.6321      135.17\n",
       "Puyol         13.911     86.7734\n",
       "Rijkaard     16.5732     101.322\n",
       "Maradona     11.3828     80.9752\n",
       "Aboutrika    14.3709     89.3256\n",
       "Eto'o        14.7138     97.1986\n",
       "George.B     16.0638     110.857\n",
       "George.W     8.87448     56.0885\n",
       "Roberto.C    15.3738     98.3663\n",
       "Dylan              9          91"
      ]
     },
     "execution_count": 182,
     "metadata": {},
     "output_type": "execute_result"
    }
   ],
   "source": [
    "#to drop column\n",
    "df_jersey.drop('position', axis=1)"
   ]
  },
  {
   "cell_type": "code",
   "execution_count": 181,
   "metadata": {
    "scrolled": false
   },
   "outputs": [
    {
     "data": {
      "text/html": [
       "<div>\n",
       "<style scoped>\n",
       "    .dataframe tbody tr th:only-of-type {\n",
       "        vertical-align: middle;\n",
       "    }\n",
       "\n",
       "    .dataframe tbody tr th {\n",
       "        vertical-align: top;\n",
       "    }\n",
       "\n",
       "    .dataframe thead th {\n",
       "        text-align: right;\n",
       "    }\n",
       "</style>\n",
       "<table border=\"1\" class=\"dataframe\">\n",
       "  <thead>\n",
       "    <tr style=\"text-align: right;\">\n",
       "      <th></th>\n",
       "      <th>shoe_size</th>\n",
       "      <th>jersey_size</th>\n",
       "      <th>position</th>\n",
       "    </tr>\n",
       "  </thead>\n",
       "  <tbody>\n",
       "    <tr>\n",
       "      <th>Ronaldinho</th>\n",
       "      <td>14.3673</td>\n",
       "      <td>90.0332</td>\n",
       "      <td>attacker</td>\n",
       "    </tr>\n",
       "    <tr>\n",
       "      <th>Pele</th>\n",
       "      <td>15.2777</td>\n",
       "      <td>103.473</td>\n",
       "      <td>attacker</td>\n",
       "    </tr>\n",
       "    <tr>\n",
       "      <th>Messi</th>\n",
       "      <td>16.0003</td>\n",
       "      <td>101.487</td>\n",
       "      <td>defense</td>\n",
       "    </tr>\n",
       "    <tr>\n",
       "      <th>Zidane</th>\n",
       "      <td>15.9761</td>\n",
       "      <td>102.23</td>\n",
       "      <td>defense</td>\n",
       "    </tr>\n",
       "    <tr>\n",
       "      <th>Drogba</th>\n",
       "      <td>13.3055</td>\n",
       "      <td>87.3351</td>\n",
       "      <td>attacker</td>\n",
       "    </tr>\n",
       "    <tr>\n",
       "      <th>Ronaldo</th>\n",
       "      <td>12.4734</td>\n",
       "      <td>77.8946</td>\n",
       "      <td>defense</td>\n",
       "    </tr>\n",
       "    <tr>\n",
       "      <th>Y.Toure</th>\n",
       "      <td>20.6321</td>\n",
       "      <td>135.17</td>\n",
       "      <td>attacker</td>\n",
       "    </tr>\n",
       "    <tr>\n",
       "      <th>Puyol</th>\n",
       "      <td>13.911</td>\n",
       "      <td>86.7734</td>\n",
       "      <td>attacker</td>\n",
       "    </tr>\n",
       "    <tr>\n",
       "      <th>Rijkaard</th>\n",
       "      <td>16.5732</td>\n",
       "      <td>101.322</td>\n",
       "      <td>attacker</td>\n",
       "    </tr>\n",
       "    <tr>\n",
       "      <th>Maradona</th>\n",
       "      <td>11.3828</td>\n",
       "      <td>80.9752</td>\n",
       "      <td>attacker</td>\n",
       "    </tr>\n",
       "    <tr>\n",
       "      <th>Aboutrika</th>\n",
       "      <td>14.3709</td>\n",
       "      <td>89.3256</td>\n",
       "      <td>mildfielder</td>\n",
       "    </tr>\n",
       "    <tr>\n",
       "      <th>Eto'o</th>\n",
       "      <td>14.7138</td>\n",
       "      <td>97.1986</td>\n",
       "      <td>attacker</td>\n",
       "    </tr>\n",
       "    <tr>\n",
       "      <th>George.B</th>\n",
       "      <td>16.0638</td>\n",
       "      <td>110.857</td>\n",
       "      <td>defense</td>\n",
       "    </tr>\n",
       "    <tr>\n",
       "      <th>George.W</th>\n",
       "      <td>8.87448</td>\n",
       "      <td>56.0885</td>\n",
       "      <td>defense</td>\n",
       "    </tr>\n",
       "    <tr>\n",
       "      <th>Roberto.C</th>\n",
       "      <td>15.3738</td>\n",
       "      <td>98.3663</td>\n",
       "      <td>defense</td>\n",
       "    </tr>\n",
       "    <tr>\n",
       "      <th>Dylan</th>\n",
       "      <td>9</td>\n",
       "      <td>91</td>\n",
       "      <td>midfielder</td>\n",
       "    </tr>\n",
       "  </tbody>\n",
       "</table>\n",
       "</div>"
      ],
      "text/plain": [
       "           shoe_size jersey_size     position\n",
       "Ronaldinho   14.3673     90.0332     attacker\n",
       "Pele         15.2777     103.473     attacker\n",
       "Messi        16.0003     101.487      defense\n",
       "Zidane       15.9761      102.23      defense\n",
       "Drogba       13.3055     87.3351     attacker\n",
       "Ronaldo      12.4734     77.8946      defense\n",
       "Y.Toure      20.6321      135.17     attacker\n",
       "Puyol         13.911     86.7734     attacker\n",
       "Rijkaard     16.5732     101.322     attacker\n",
       "Maradona     11.3828     80.9752     attacker\n",
       "Aboutrika    14.3709     89.3256  mildfielder\n",
       "Eto'o        14.7138     97.1986     attacker\n",
       "George.B     16.0638     110.857      defense\n",
       "George.W     8.87448     56.0885      defense\n",
       "Roberto.C    15.3738     98.3663      defense\n",
       "Dylan              9          91   midfielder"
      ]
     },
     "execution_count": 181,
     "metadata": {},
     "output_type": "execute_result"
    }
   ],
   "source": [
    "df_jersey"
   ]
  },
  {
   "cell_type": "markdown",
   "metadata": {},
   "source": [
    "Notice when we executed `df.drop('position', axis=1)`, there was an entry for `Dylan` even though we had just executed `df.drop('Dylan')`. We have to be careful when using `drop`; many DataFrame functions return a _copy_ of the DataFrame. In order to make the change permanent, we either need to reassign `df` to the copy returned by `df.drop()` or we have to use the keyword `inplace`."
   ]
  },
  {
   "cell_type": "code",
   "execution_count": 183,
   "metadata": {},
   "outputs": [
    {
     "name": "stdout",
     "output_type": "stream",
     "text": [
      "           shoe_size jersey_size     position\n",
      "Ronaldinho   14.3673     90.0332     attacker\n",
      "Pele         15.2777     103.473     attacker\n",
      "Messi        16.0003     101.487      defense\n",
      "Zidane       15.9761      102.23      defense\n",
      "Drogba       13.3055     87.3351     attacker\n",
      "Ronaldo      12.4734     77.8946      defense\n",
      "Y.Toure      20.6321      135.17     attacker\n",
      "Puyol         13.911     86.7734     attacker\n",
      "Rijkaard     16.5732     101.322     attacker\n",
      "Maradona     11.3828     80.9752     attacker\n",
      "Aboutrika    14.3709     89.3256  mildfielder\n",
      "Eto'o        14.7138     97.1986     attacker\n",
      "George.B     16.0638     110.857      defense\n",
      "George.W     8.87448     56.0885      defense\n",
      "Roberto.C    15.3738     98.3663      defense\n"
     ]
    }
   ],
   "source": [
    "df_jersey = df_jersey.drop('Dylan')\n",
    "print(df_jersey)"
   ]
  },
  {
   "cell_type": "code",
   "execution_count": 184,
   "metadata": {},
   "outputs": [
    {
     "name": "stdout",
     "output_type": "stream",
     "text": [
      "           shoe_size jersey_size\n",
      "Ronaldinho   14.3673     90.0332\n",
      "Pele         15.2777     103.473\n",
      "Messi        16.0003     101.487\n",
      "Zidane       15.9761      102.23\n",
      "Drogba       13.3055     87.3351\n",
      "Ronaldo      12.4734     77.8946\n",
      "Y.Toure      20.6321      135.17\n",
      "Puyol         13.911     86.7734\n",
      "Rijkaard     16.5732     101.322\n",
      "Maradona     11.3828     80.9752\n",
      "Aboutrika    14.3709     89.3256\n",
      "Eto'o        14.7138     97.1986\n",
      "George.B     16.0638     110.857\n",
      "George.W     8.87448     56.0885\n",
      "Roberto.C    15.3738     98.3663\n"
     ]
    }
   ],
   "source": [
    "df_jersey.drop('position', axis=1, inplace=True)\n",
    "print(df_jersey)"
   ]
  },
  {
   "cell_type": "code",
   "execution_count": 195,
   "metadata": {},
   "outputs": [
    {
     "ename": "AttributeError",
     "evalue": "'list' object has no attribute 'drop'",
     "output_type": "error",
     "traceback": [
      "\u001b[1;31m---------------------------------------------------------------------------\u001b[0m",
      "\u001b[1;31mAttributeError\u001b[0m                            Traceback (most recent call last)",
      "\u001b[1;32m<ipython-input-195-625596f5c7f6>\u001b[0m in \u001b[0;36m<module>\u001b[1;34m\u001b[0m\n\u001b[0;32m      1\u001b[0m \u001b[1;31m#yiu can use the code below to:\u001b[0m\u001b[1;33m\u001b[0m\u001b[1;33m\u001b[0m\u001b[1;33m\u001b[0m\u001b[0m\n\u001b[1;32m----> 2\u001b[1;33m \u001b[0mdf_jersey\u001b[0m\u001b[1;33m=\u001b[0m \u001b[0mdf_jersey\u001b[0m\u001b[1;33m.\u001b[0m\u001b[0mdrop\u001b[0m\u001b[1;33m(\u001b[0m\u001b[1;33m[\u001b[0m\u001b[1;34m'shoe_size'\u001b[0m\u001b[1;33m]\u001b[0m\u001b[1;33m,\u001b[0m \u001b[0maxis\u001b[0m\u001b[1;33m=\u001b[0m\u001b[1;36m1\u001b[0m\u001b[1;33m)\u001b[0m\u001b[1;33m\u001b[0m\u001b[1;33m\u001b[0m\u001b[0m\n\u001b[0m",
      "\u001b[1;31mAttributeError\u001b[0m: 'list' object has no attribute 'drop'"
     ]
    }
   ],
   "source": [
    "#you can use the code below to:\n",
    "df_jersey{{}} df_jersey.drop(['shoe_size'], axis=1)\n"
   ]
  },
  {
   "cell_type": "markdown",
   "metadata": {},
   "source": [
    "*Copyright &copy; 2020 The Data Incubator.  All rights reserved.*\n",
    "**Edited by Chisomloius**"
   ]
  }
 ],
 "metadata": {
  "kernelspec": {
   "display_name": "Python 3",
   "language": "python",
   "name": "python3"
  },
  "language_info": {
   "codemirror_mode": {
    "name": "ipython",
    "version": 3
   },
   "file_extension": ".py",
   "mimetype": "text/x-python",
   "name": "python",
   "nbconvert_exporter": "python",
   "pygments_lexer": "ipython3",
   "version": "3.8.3"
  }
 },
 "nbformat": 4,
 "nbformat_minor": 4
}
